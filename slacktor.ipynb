{
 "cells": [
  {
   "cell_type": "markdown",
   "id": "88bcbdb4-08b9-4264-8b87-65d8dc33fe3b",
   "metadata": {},
   "source": [
    "# Retrieving Slack Conversations with Slack API "
   ]
  },
  {
   "cell_type": "code",
   "execution_count": 1,
   "id": "d8e23b0d-9c06-4746-9768-1a1da14cd88e",
   "metadata": {},
   "outputs": [
    {
     "name": "stdout",
     "output_type": "stream",
     "text": [
      "Requirement already satisfied: slack_sdk in /opt/homebrew/lib/python3.10/site-packages (3.23.0)\n"
     ]
    }
   ],
   "source": [
    "!pip install slack_sdk"
   ]
  },
  {
   "cell_type": "markdown",
   "id": "4ce18314-4f6a-40c9-b2fd-c6c30188bc61",
   "metadata": {},
   "source": [
    "Create a little helper class to simplify the usage of Slack SDK for our purposes."
   ]
  },
  {
   "cell_type": "code",
   "execution_count": 13,
   "id": "a99652e2-b181-49e5-8fe8-800d5ddfd327",
   "metadata": {},
   "outputs": [],
   "source": [
    "import datetime\n",
    "import time\n",
    "import os\n",
    "from slack_sdk import WebClient\n",
    "\n",
    "class SlackHelper:\n",
    "\n",
    "    def __init__(self, token: str):\n",
    "        self._username_cache = dict()\n",
    "        self._slack_client = WebClient(token)\n",
    "        self._slack_client.api_test()\n",
    "\n",
    "    def print_messages_from_channel(self, channel):\n",
    "        messages = self._slack_client.conversations_history(channel=channel)[\"messages\"]\n",
    "        for message in reversed(messages):\n",
    "            message_ts = time.strftime(\"%Y-%m-%d %H:%M:%S\", time.gmtime(float(message[\"ts\"])))\n",
    "            print(\"(\" + message_ts + \", user=\" + self.get_user_name(message[\"user\"]) + \"): \" + message[\"text\"])\n",
    "            if \"thread_ts\" in message:\n",
    "                replies = self._slack_client.conversations_replies(channel=channel, ts=message[\"thread_ts\"])[\"messages\"]\n",
    "                for reply in replies[1:]:\n",
    "                    reply_ts = time.strftime(\"%Y-%m-%d %H:%M:%S\", time.gmtime(float(message[\"ts\"])))\n",
    "                    print(\"      (\" + reply_ts + \", user=\" + self.get_user_name(reply[\"user\"]) + \"): \" + reply[\"text\"])\n",
    "\n",
    "    def get_user_name(self, user):\n",
    "        if user not in self._username_cache:\n",
    "            self._username_cache[user] = self._slack_client.users_info(user=user)[\"user\"][\"real_name\"]\n",
    "        return self._username_cache[user]\n",
    "\n",
    "    def get_conversations_info(self, channel):\n",
    "        response = self._slack_client.conversations_info(channel=channel, include_num_members=1)\n",
    "        return response[\"channel\"]\n",
    "\n",
    "    def list_channels(self):\n",
    "        response = self._slack_client.conversations_list(types=\"public_channel, private_channel, mpim, im\")\n",
    "        return response[\"channels\"]\n",
    "\n",
    "    def get_channel_by_name(self, channel_name):\n",
    "        for channel in self.list_channels():\n",
    "            if channel['name'] == channel_name:\n",
    "                return channel['id']\n",
    "        return None"
   ]
  },
  {
   "cell_type": "markdown",
   "id": "df32c0c1-5465-4ecf-9de3-07e662a77544",
   "metadata": {},
   "source": [
    "We need a Slack API Token for a custom app. You can create one [https://api.slack.com/apps/](here). Select `Create New App`->`\n",
    "From scratch` and provide an app name and a workspace where you develop the app. This needs to be a personal Slack workspace as you don't have permissions to create apps in IBM Slack workspaces.\n",
    "\n",
    "Now set up a bot token for your app in your workspace. In the navigation pane to the left select `Features`->`OAuth & Permissions`. Scroll down to section `Scopes` and add scopes for `app_mentions:read`, `channels:history`, `channels:read`, `groups:history`, `groups:read`,  `im:read`, `mpim:read` and `users:read`.\n",
    "Now scroll up to section `OAuth Tokens for Your Workspace` click `Install to Workspace`. Now select your workspace where the app should be deployed (again note: You can't deploy to IBM Slack workspaces yourselfes. This requires an IBM Slack admin). Slack generates a new `Bot User OAuth Token` as part of this workspace deployment. Copy this token. You need it to run the below logic.\n",
    "\n",
    "You now need to add the new app to the channel(s) for which you want to retrieve the conversations. To do so, go to your Slack client type `@<your app name>` and press enter. Slack opens a dialog asking you whether you want to `Add to channel`. Click this option to add the app bot to your channel. \n",
    "\n",
    "You are now set up to proceed with the notebook."
   ]
  },
  {
   "cell_type": "markdown",
   "id": "94bf1f83-b162-41b9-b502-7d70646676e7",
   "metadata": {},
   "source": [
    "Set the Slack API Token."
   ]
  },
  {
   "cell_type": "code",
   "execution_count": 14,
   "id": "1c4beaab-7c53-44ff-b252-46ca34c8ff92",
   "metadata": {},
   "outputs": [],
   "source": [
    "try:\n",
    "    slack_api_token = os.environ[\"SLACK_API_TOKEN\"]\n",
    "except KeyError:\n",
    "    slack_api_token = getpass.getpass(\"Please enter your Slack API Token (hit enter): \")"
   ]
  },
  {
   "cell_type": "markdown",
   "id": "c4a44044-1bf6-4da3-9da8-5ae173988a44",
   "metadata": {},
   "source": [
    "Initialize our Slack helper class."
   ]
  },
  {
   "cell_type": "code",
   "execution_count": 15,
   "id": "608331f6-af25-4a43-9ada-f47174a905a1",
   "metadata": {},
   "outputs": [],
   "source": [
    "slack = SlackHelper(slack_api_token)"
   ]
  },
  {
   "cell_type": "markdown",
   "id": "54234cbe-23df-4933-bda6-4ce21d476dc7",
   "metadata": {},
   "source": [
    "Set the slack channel."
   ]
  },
  {
   "cell_type": "code",
   "execution_count": 17,
   "id": "2a59ce88-df6a-4e2d-8768-1749756b22db",
   "metadata": {},
   "outputs": [
    {
     "name": "stdout",
     "output_type": "stream",
     "text": [
      "Your slack channel is #foo with channel ID C05RK7JB336.\n"
     ]
    }
   ],
   "source": [
    "try:\n",
    "    slack_channel_name = os.environ[\"SLACK_CHANNEL\"]\n",
    "except KeyError:\n",
    "    slack_channel_name = input(\"Please enter the name of youz Slack channel to work with (hit enter): \")\n",
    "\n",
    "slack_channel = slack.get_channel_by_name(\"foo\")\n",
    "if not slack_channel:\n",
    "    raise BaseException(\"Channel \" + slack_channel_name + \" does not exist\")\n",
    "print(\"Your slack channel is #\" + slack_channel_name + \" with channel ID \" + slack_channel + \".\")"
   ]
  },
  {
   "cell_type": "markdown",
   "id": "01913012-3f84-4927-8f16-1bebe3ff3080",
   "metadata": {},
   "source": [
    "Retrieve the full conversation history of the selected channel."
   ]
  },
  {
   "cell_type": "code",
   "execution_count": 5,
   "id": "631d8878-b50d-4b71-8cef-ce8835532204",
   "metadata": {},
   "outputs": [
    {
     "name": "stdout",
     "output_type": "stream",
     "text": [
      "(2023-09-08 06:59:17, user=torsten): <@U05S5PHRU7J> has joined the channel\n",
      "(2023-09-08 07:22:06, user=torsten): Moin Moin!!\n",
      "(2023-09-08 07:30:01, user=Torsten): <@U05S5QZF6TA> has joined the channel\n",
      "(2023-09-08 07:36:07, user=torsten): Funzt!\n",
      "      (2023-09-08 07:36:07, user=torsten): Aber sowas von!\n",
      "      (2023-09-08 07:36:07, user=torsten): Mkay\n",
      "(2023-10-18 11:00:30, user=torsten): Tach allerseits!\n",
      "(2023-10-18 14:21:01, user=foobar): <@U0622JWLG49> has joined the channel\n"
     ]
    }
   ],
   "source": [
    "slack.print_messages_from_channel(slack_channel)"
   ]
  },
  {
   "cell_type": "markdown",
   "id": "2ba9403f-1aa9-477c-883b-d45db639c646",
   "metadata": {},
   "source": [
    "Get metadata for your slack channel."
   ]
  },
  {
   "cell_type": "code",
   "execution_count": 6,
   "id": "a836bdf6-bddd-4d2f-9b5b-a396b9e40a8d",
   "metadata": {},
   "outputs": [
    {
     "data": {
      "text/plain": [
       "{'id': 'C05RK7JB336',\n",
       " 'name': 'foo',\n",
       " 'is_channel': True,\n",
       " 'is_group': False,\n",
       " 'is_im': False,\n",
       " 'is_mpim': False,\n",
       " 'is_private': False,\n",
       " 'created': 1694156357,\n",
       " 'is_archived': False,\n",
       " 'is_general': False,\n",
       " 'unlinked': 0,\n",
       " 'name_normalized': 'foo',\n",
       " 'is_shared': False,\n",
       " 'is_org_shared': False,\n",
       " 'is_pending_ext_shared': False,\n",
       " 'pending_shared': [],\n",
       " 'context_team_id': 'T05RA4Y6CT0',\n",
       " 'updated': 1694156357149,\n",
       " 'parent_conversation': None,\n",
       " 'creator': 'U05S5PHRU7J',\n",
       " 'is_ext_shared': False,\n",
       " 'shared_team_ids': ['T05RA4Y6CT0'],\n",
       " 'pending_connected_team_ids': [],\n",
       " 'is_member': True,\n",
       " 'last_read': '1694157726.261829',\n",
       " 'topic': {'value': '', 'creator': '', 'last_set': 0},\n",
       " 'purpose': {'value': 'This channel is for everything #foo. Hold meetings, share docs, and make decisions together with your team.',\n",
       "  'creator': 'U05S5PHRU7J',\n",
       "  'last_set': 1694156357},\n",
       " 'previous_names': [],\n",
       " 'num_members': 5}"
      ]
     },
     "execution_count": 6,
     "metadata": {},
     "output_type": "execute_result"
    }
   ],
   "source": [
    "slack.get_conversations_info(slack_channel)"
   ]
  },
  {
   "cell_type": "markdown",
   "id": "cb564f0d-0c26-40dc-9bcb-6810b9d45d0b",
   "metadata": {},
   "source": [
    "List all channels."
   ]
  },
  {
   "cell_type": "code",
   "execution_count": 7,
   "id": "cb501d61-fb93-41bb-95f9-5696aca7291d",
   "metadata": {},
   "outputs": [
    {
     "data": {
      "text/plain": [
       "[{'id': 'C05RGLSNBFV',\n",
       "  'name': 'random',\n",
       "  'is_channel': True,\n",
       "  'is_group': False,\n",
       "  'is_im': False,\n",
       "  'is_mpim': False,\n",
       "  'is_private': False,\n",
       "  'created': 1694156317,\n",
       "  'is_archived': False,\n",
       "  'is_general': False,\n",
       "  'unlinked': 0,\n",
       "  'name_normalized': 'random',\n",
       "  'is_shared': False,\n",
       "  'is_org_shared': False,\n",
       "  'is_pending_ext_shared': False,\n",
       "  'pending_shared': [],\n",
       "  'context_team_id': 'T05RA4Y6CT0',\n",
       "  'updated': 1694156317807,\n",
       "  'parent_conversation': None,\n",
       "  'creator': 'U05S5PHRU7J',\n",
       "  'is_ext_shared': False,\n",
       "  'shared_team_ids': ['T05RA4Y6CT0'],\n",
       "  'pending_connected_team_ids': [],\n",
       "  'is_member': False,\n",
       "  'topic': {'value': '', 'creator': '', 'last_set': 0},\n",
       "  'purpose': {'value': 'This channel is for... well, everything else. It’s a place for team jokes, spur-of-the-moment ideas, and funny GIFs. Go wild!',\n",
       "   'creator': 'U05S5PHRU7J',\n",
       "   'last_set': 1694156317},\n",
       "  'previous_names': [],\n",
       "  'num_members': 3},\n",
       " {'id': 'C05RK7JB336',\n",
       "  'name': 'foo',\n",
       "  'is_channel': True,\n",
       "  'is_group': False,\n",
       "  'is_im': False,\n",
       "  'is_mpim': False,\n",
       "  'is_private': False,\n",
       "  'created': 1694156357,\n",
       "  'is_archived': False,\n",
       "  'is_general': False,\n",
       "  'unlinked': 0,\n",
       "  'name_normalized': 'foo',\n",
       "  'is_shared': False,\n",
       "  'is_org_shared': False,\n",
       "  'is_pending_ext_shared': False,\n",
       "  'pending_shared': [],\n",
       "  'context_team_id': 'T05RA4Y6CT0',\n",
       "  'updated': 1694156357149,\n",
       "  'parent_conversation': None,\n",
       "  'creator': 'U05S5PHRU7J',\n",
       "  'is_ext_shared': False,\n",
       "  'shared_team_ids': ['T05RA4Y6CT0'],\n",
       "  'pending_connected_team_ids': [],\n",
       "  'is_member': True,\n",
       "  'topic': {'value': '', 'creator': '', 'last_set': 0},\n",
       "  'purpose': {'value': 'This channel is for everything #foo. Hold meetings, share docs, and make decisions together with your team.',\n",
       "   'creator': 'U05S5PHRU7J',\n",
       "   'last_set': 1694156357},\n",
       "  'previous_names': [],\n",
       "  'num_members': 5},\n",
       " {'id': 'C05RVD0B141',\n",
       "  'name': 'general',\n",
       "  'is_channel': True,\n",
       "  'is_group': False,\n",
       "  'is_im': False,\n",
       "  'is_mpim': False,\n",
       "  'is_private': False,\n",
       "  'created': 1694156317,\n",
       "  'is_archived': False,\n",
       "  'is_general': True,\n",
       "  'unlinked': 0,\n",
       "  'name_normalized': 'general',\n",
       "  'is_shared': False,\n",
       "  'is_org_shared': False,\n",
       "  'is_pending_ext_shared': False,\n",
       "  'pending_shared': [],\n",
       "  'context_team_id': 'T05RA4Y6CT0',\n",
       "  'updated': 1694156317544,\n",
       "  'parent_conversation': None,\n",
       "  'creator': 'U05S5PHRU7J',\n",
       "  'is_ext_shared': False,\n",
       "  'shared_team_ids': ['T05RA4Y6CT0'],\n",
       "  'pending_connected_team_ids': [],\n",
       "  'is_member': False,\n",
       "  'topic': {'value': '', 'creator': '', 'last_set': 0},\n",
       "  'purpose': {'value': 'This is the one channel that will always include everyone. It’s a great spot for announcements and team-wide conversations.',\n",
       "   'creator': 'U05S5PHRU7J',\n",
       "   'last_set': 1694156317},\n",
       "  'previous_names': [],\n",
       "  'num_members': 3}]"
      ]
     },
     "execution_count": 7,
     "metadata": {},
     "output_type": "execute_result"
    }
   ],
   "source": [
    "slack.list_channels()"
   ]
  }
 ],
 "metadata": {
  "kernelspec": {
   "display_name": "Python 3 (ipykernel)",
   "language": "python",
   "name": "python3"
  },
  "language_info": {
   "codemirror_mode": {
    "name": "ipython",
    "version": 3
   },
   "file_extension": ".py",
   "mimetype": "text/x-python",
   "name": "python",
   "nbconvert_exporter": "python",
   "pygments_lexer": "ipython3",
   "version": "3.11.5"
  }
 },
 "nbformat": 4,
 "nbformat_minor": 5
}
