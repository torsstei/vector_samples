{
 "cells": [
  {
   "cell_type": "markdown",
   "id": "f2e41f12-0f97-41ca-be34-9fc2a253c7ce",
   "metadata": {},
   "source": [
    "Based on https://www.pinecone.io/learn/series/faiss/vector-indexes/ and https://www.pinecone.io/learn/series/faiss/product-quantization/"
   ]
  },
  {
   "cell_type": "markdown",
   "id": "56fd7d72-c525-4e2b-ac65-17ad624493d0",
   "metadata": {},
   "source": [
    "# Set up runtime"
   ]
  },
  {
   "cell_type": "code",
   "execution_count": 1,
   "id": "a251fc54-5e3b-4716-b4fc-5c617a41896f",
   "metadata": {},
   "outputs": [
    {
     "name": "stdout",
     "output_type": "stream",
     "text": [
      "Requirement already satisfied: faiss-cpu in /Library/Frameworks/Python.framework/Versions/3.11/lib/python3.11/site-packages (1.7.4)\n",
      "Note: you may need to restart the kernel to use updated packages.\n",
      "Requirement already satisfied: humanize in /Library/Frameworks/Python.framework/Versions/3.11/lib/python3.11/site-packages (4.8.0)\n",
      "Note: you may need to restart the kernel to use updated packages.\n"
     ]
    }
   ],
   "source": [
    "%pip install faiss-cpu\n",
    "%pip install humanize"
   ]
  },
  {
   "cell_type": "code",
   "execution_count": 23,
   "id": "2e071beb-6661-45f0-ae94-ecee1764138c",
   "metadata": {},
   "outputs": [],
   "source": [
    "import os\n",
    "import humanize\n",
    "import shutil\n",
    "import urllib.request as request\n",
    "from contextlib import closing\n",
    "import numpy\n",
    "numpy.set_printoptions(threshold=numpy.inf)"
   ]
  },
  {
   "cell_type": "markdown",
   "id": "fa4448b3-1eb0-455b-90bb-16a74955bf7f",
   "metadata": {},
   "source": [
    "# Load and prepare demo data"
   ]
  },
  {
   "cell_type": "code",
   "execution_count": 2,
   "id": "ba9b2f6c-49da-4da7-a3c6-b102a3f28b91",
   "metadata": {},
   "outputs": [],
   "source": [
    "# first we download the Sift1M dataset\n",
    "with closing(request.urlopen('ftp://ftp.irisa.fr/local/texmex/corpus/sift.tar.gz')) as r:\n",
    "    with open('sift.tar.gz', 'wb') as f:\n",
    "        shutil.copyfileobj(r, f)"
   ]
  },
  {
   "cell_type": "code",
   "execution_count": 2,
   "id": "27895b82-8314-456c-97e8-f2b443067efd",
   "metadata": {},
   "outputs": [],
   "source": [
    "import tarfile\n",
    "\n",
    "# the download leaves us with a tar.gz file, we unzip it\n",
    "tar = tarfile.open('sift.tar.gz', \"r:gz\")\n",
    "tar.extractall()"
   ]
  },
  {
   "cell_type": "code",
   "execution_count": 2,
   "id": "c5eafb64-ea0b-49b8-8daf-c490054ddda6",
   "metadata": {},
   "outputs": [],
   "source": [
    "import numpy as np\n",
    "\n",
    "# now define a function to read the fvecs file format of Sift1M dataset\n",
    "def read_fvecs(fp):\n",
    "    a = np.fromfile(fp, dtype='int32')\n",
    "    d = a[0]\n",
    "    return a.reshape(-1, d + 1)[:, 1:].copy().view('float32')"
   ]
  },
  {
   "cell_type": "code",
   "execution_count": 3,
   "id": "ed50d0e4-8c75-4a4b-860e-af0464847b97",
   "metadata": {},
   "outputs": [],
   "source": [
    "# data we will search through\n",
    "xb = read_fvecs('./sift/sift_base.fvecs')  # 1M samples\n",
    "# also get some query vectors to search with\n",
    "xq = read_fvecs('./sift/sift_query.fvecs')\n",
    "# take just one query (there are many in sift_learn.fvecs)\n",
    "xq = xq[0].reshape(1, xq.shape[1])"
   ]
  },
  {
   "cell_type": "code",
   "execution_count": 4,
   "id": "010d6588-1ae8-40ff-b631-62855d0546a9",
   "metadata": {},
   "outputs": [
    {
     "data": {
      "text/plain": [
       "(1, 128)"
      ]
     },
     "execution_count": 4,
     "metadata": {},
     "output_type": "execute_result"
    }
   ],
   "source": [
    "# The query vector\n",
    "xq.shape"
   ]
  },
  {
   "cell_type": "code",
   "execution_count": 5,
   "id": "765b34a4-5f7e-46a8-8387-624f0bf54d63",
   "metadata": {},
   "outputs": [
    {
     "data": {
      "text/plain": [
       "(1000000, 128)"
      ]
     },
     "execution_count": 5,
     "metadata": {},
     "output_type": "execute_result"
    }
   ],
   "source": [
    "# The vector search space\n",
    "xb.shape"
   ]
  },
  {
   "cell_type": "code",
   "execution_count": 25,
   "id": "acd48553-1fad-43e4-a7ac-cb006ba1971b",
   "metadata": {},
   "outputs": [
    {
     "data": {
      "text/plain": [
       "array([[  0.,  16.,  35.,   5.,  32.,  31.,  14.,  10.,  11.,  78.,  55.,\n",
       "         10.,  45.,  83.,  11.,   6.,  14.,  57., 102.,  75.,  20.,   8.,\n",
       "          3.,   5.,  67.,  17.,  19.,  26.,   5.,   0.,   1.,  22.,  60.,\n",
       "         26.,   7.,   1.,  18.,  22.,  84.,  53.,  85., 119., 119.,   4.,\n",
       "         24.,  18.,   7.,   7.,   1.,  81., 106., 102.,  72.,  30.,   6.,\n",
       "          0.,   9.,   1.,   9., 119.,  72.,   1.,   4.,  33., 119.,  29.,\n",
       "          6.,   1.,   0.,   1.,  14.,  52., 119.,  30.,   3.,   0.,   0.,\n",
       "         55.,  92., 111.,   2.,   5.,   4.,   9.,  22.,  89.,  96.,  14.,\n",
       "          1.,   0.,   1.,  82.,  59.,  16.,  20.,   5.,  25.,  14.,  11.,\n",
       "          4.,   0.,   0.,   1.,  26.,  47.,  23.,   4.,   0.,   0.,   4.,\n",
       "         38.,  83.,  30.,  14.,   9.,   4.,   9.,  17.,  23.,  41.,   0.,\n",
       "          0.,   2.,   8.,  19.,  25.,  23.,   1.],\n",
       "       [ 14.,  35.,  19.,  20.,   3.,   1.,  13.,  11.,  16., 119.,  85.,\n",
       "          5.,   0.,   5.,  24.,  26.,   0.,  27., 119.,  13.,   3.,   9.,\n",
       "         19.,   0.,   0.,  11.,  73.,   9.,  10.,   3.,   5.,   0.,  92.,\n",
       "         38.,  17.,  39.,  32.,   7.,  15.,  47., 119., 111.,  53.,  27.,\n",
       "          8.,   0.,   0.,  52.,   5.,   7.,  63.,  51.,  84.,  43.,   0.,\n",
       "          1.,  12.,   8.,  20.,  25.,  33.,  30.,   2.,   5.,  59.,  23.,\n",
       "         25., 105.,  25.,  23.,   5.,  18., 119.,  15.,   7.,  13.,  14.,\n",
       "         19.,  95., 119.,   5.,   0.,   0.,  14., 119., 103.,  93.,  39.,\n",
       "         11.,   4.,   1.,   4.,  13.,  43.,  62.,  18.,   2.,   0.,   0.,\n",
       "          8.,  44.,  65.,   7.,   1.,   3.,   0.,   0.,   1.,  19.,  45.,\n",
       "         94.,  95.,  13.,   7.,   0.,   0.,   3.,  52., 119.,  52.,  15.,\n",
       "          2.,   0.,   0.,   0.,  11.,  21.,  33.],\n",
       "       [  0.,   1.,   5.,   3.,  44.,  40.,  20.,  14.,  10., 100.,  63.,\n",
       "          7.,  44.,  47.,   9.,   6.,   7.,  70., 114.,  82.,  11.,   5.,\n",
       "          3.,   4.,  30.,  16.,  33.,  55.,   5.,   0.,   0.,   4., 104.,\n",
       "         46.,  12.,   2.,   8.,   5.,  40.,  66.,  85., 117., 117.,   5.,\n",
       "          7.,   3.,   1.,   6.,   0.,  62., 108.,  86.,  51.,  22.,   2.,\n",
       "          0.,   7.,   1.,  15., 117.,  95.,   2.,   1.,  12., 117.,  33.,\n",
       "          4.,   2.,   0.,   0.,   3.,  56., 117.,  20.,   3.,   0.,   0.,\n",
       "         40.,  78.,  93.,   0.,   1.,   2.,   5.,  24.,  86.,  96.,  16.,\n",
       "          0.,   0.,   0.,  77.,  75.,  10.,  19.,   7.,  22.,   8.,  12.,\n",
       "          7.,   0.,   0.,   3.,  44.,  35.,  11.,   2.,   0.,   0.,  10.,\n",
       "         55., 117.,  17.,   9.,  12.,   2.,   1.,  14.,  34.,  31.,   0.,\n",
       "          1.,   6.,  10.,  12.,   4.,  23.,  10.],\n",
       "       [ 12.,  47.,  14.,  25.,   2.,   3.,   4.,   7.,  14., 122.,  90.,\n",
       "          7.,   0.,   0.,   6.,  14.,   0.,  24., 122.,  22.,   2.,   4.,\n",
       "          6.,   0.,   0.,  10.,  93.,  10.,   6.,   6.,   0.,   0., 122.,\n",
       "         31.,   9.,  23.,  19.,   9.,   8.,  56., 122., 100.,  29.,  19.,\n",
       "          3.,   0.,   0.,  25.,   3.,   9.,  43.,  59.,  76.,  32.,   0.,\n",
       "          0.,   8.,   6.,  10.,   7.,  24.,  58.,   1.,   1.,  81.,  23.,\n",
       "         32.,  68.,  14.,  19.,  10.,  23., 122.,  13.,   2.,   1.,   4.,\n",
       "          9.,  86., 122.,   3.,   0.,   0.,   8., 122.,  95.,  68.,  30.,\n",
       "          9.,   2.,   0.,   2.,  26.,  50.,  44.,  13.,   0.,   0.,   0.,\n",
       "          3.,  12.,  82.,  18.,   7.,   6.,   0.,   0.,   0.,   2.,  20.,\n",
       "        112., 122.,   6.,   5.,   1.,   0.,   3.,  69., 122.,  43.,  15.,\n",
       "          1.,   0.,   0.,   0.,  27.,  29.,  21.],\n",
       "       [  1.,   1.,   0.,   0.,  14.,  16.,  30.,  50.,   2.,  40.,  81.,\n",
       "         25.,  65.,  37.,   7.,   3.,  13., 121., 121.,  15.,   2.,   4.,\n",
       "          4.,   6.,   0.,  11.,  71., 106.,   2.,   2.,   0.,   0.,  92.,\n",
       "         41.,   1.,   0.,   1.,   2.,  24.,  65., 121., 121., 110.,   5.,\n",
       "          2.,   1.,   1.,  12.,   6.,  96., 121.,  13.,   4.,   4.,   1.,\n",
       "          0.,   0.,   4.,  46., 118.,  46.,   9.,   0.,   0., 121.,  33.,\n",
       "          8.,   7.,   0.,   0.,   0.,  42., 121.,  20.,   0.,   0.,   0.,\n",
       "          2.,  33., 105.,  12.,   6.,   5.,   1.,   4.,  60., 107.,  18.,\n",
       "          0.,   0.,   0.,  15.,  37.,  37.,  30.,  15.,  21.,   2.,  12.,\n",
       "         16.,   3.,   0.,   0.,  23.,  40.,   7.,   8.,   0.,   0.,   2.,\n",
       "         57., 121.,  14.,   2.,   1.,   0.,   0.,  25.,  70.,  48.,   0.,\n",
       "          0.,   2.,   0.,   1.,   4.,  28.,  34.]], dtype=float32)"
      ]
     },
     "execution_count": 25,
     "metadata": {},
     "output_type": "execute_result"
    }
   ],
   "source": [
    "# Sample of the vector embeddings\n",
    "xb[:5]"
   ]
  },
  {
   "cell_type": "markdown",
   "id": "2db4b91f-8ce4-466c-9128-26fcdb47dd32",
   "metadata": {},
   "source": [
    "# Flat Index"
   ]
  },
  {
   "cell_type": "code",
   "execution_count": 6,
   "id": "3feee9c3-11af-48e0-9fcf-ba016af7d9da",
   "metadata": {},
   "outputs": [],
   "source": [
    "D = xb.shape[1]  # dimensionality of Sift1M data\n",
    "k = 100  # number of nearest neighbors to return\n",
    "\n",
    "import faiss\n",
    "\n",
    "index = faiss.IndexFlatIP(D)\n",
    "index.add(xb)"
   ]
  },
  {
   "cell_type": "code",
   "execution_count": 14,
   "id": "ca5d941c-d5f2-4345-89b2-b9c6ede5dd83",
   "metadata": {},
   "outputs": [
    {
     "name": "stdout",
     "output_type": "stream",
     "text": [
      "CPU times: user 29.5 ms, sys: 5.58 ms, total: 35.1 ms\n",
      "Wall time: 35.2 ms\n"
     ]
    }
   ],
   "source": [
    "%%time\n",
    "D, I = index.search(xq, k)"
   ]
  },
  {
   "cell_type": "code",
   "execution_count": 15,
   "id": "4a38c3f9-3765-4603-8f8c-57c47a4459e6",
   "metadata": {},
   "outputs": [],
   "source": [
    "# Save as baseline. This is our 100% correct recall set.\n",
    "baseline = I[0].tolist()"
   ]
  },
  {
   "cell_type": "code",
   "execution_count": 16,
   "id": "0a4eec9b-5b99-4513-bf24-b31830b275a1",
   "metadata": {},
   "outputs": [
    {
     "data": {
      "text/plain": [
       "'512.0 MB'"
      ]
     },
     "execution_count": 16,
     "metadata": {},
     "output_type": "execute_result"
    }
   ],
   "source": [
    "# Measure index size\n",
    "faiss.write_index(index, \"flat_index.index\")\n",
    "flat_index_size = os.path.getsize(\"flat_index.index\")\n",
    "os.remove(\"flat_index.index\")\n",
    "humanize.naturalsize(flat_index_size)"
   ]
  },
  {
   "cell_type": "markdown",
   "id": "d6d623af-dc31-4d4c-b569-7f356fc34179",
   "metadata": {},
   "source": [
    "# LSH Index\n",
    "Locality Sensitive Hashing"
   ]
  },
  {
   "cell_type": "code",
   "execution_count": 89,
   "id": "8175a143-97f5-4f91-8ba9-7d21db47bf64",
   "metadata": {},
   "outputs": [],
   "source": [
    "D = xb.shape[1]  # dimensionality of Sift1M data\n",
    "\n",
    "nbits = d*8  # resolution of bucketed vectors\n",
    "# initialize index and add vectors\n",
    "lsh_index = faiss.IndexLSH(d, nbits)\n",
    "lsh_index.add(xb)"
   ]
  },
  {
   "cell_type": "code",
   "execution_count": 90,
   "id": "3bd272ea-5de5-4c52-a3da-1a5dfc18bec8",
   "metadata": {},
   "outputs": [
    {
     "name": "stdout",
     "output_type": "stream",
     "text": [
      "CPU times: user 5.1 ms, sys: 2.59 ms, total: 7.69 ms\n",
      "Wall time: 6.22 ms\n"
     ]
    }
   ],
   "source": [
    "%%time\n",
    "D, I = lsh_index.search(xq, k)"
   ]
  },
  {
   "cell_type": "code",
   "execution_count": 91,
   "id": "0c63b3f1-ba14-4126-9d6c-b1029b7185d9",
   "metadata": {},
   "outputs": [
    {
     "data": {
      "text/plain": [
       "100.0"
      ]
     },
     "execution_count": 91,
     "metadata": {},
     "output_type": "execute_result"
    }
   ],
   "source": [
    "# Calculate Recall Percentage:\n",
    "np.array(baseline)[np.in1d(baseline, I).tolist()].size / np.array(baseline).size * 100"
   ]
  },
  {
   "cell_type": "code",
   "execution_count": 92,
   "id": "3d8ca1dd-7b8e-48b5-b06d-9c143fd91e15",
   "metadata": {},
   "outputs": [
    {
     "data": {
      "text/plain": [
       "'128.5 MB'"
      ]
     },
     "execution_count": 92,
     "metadata": {},
     "output_type": "execute_result"
    }
   ],
   "source": [
    "# Measure index size\n",
    "faiss.write_index(lsh_index, \"lsh_index.index\")\n",
    "lsh_index_size = os.path.getsize(\"lsh_index.index\")\n",
    "os.remove(\"lsh_index.index\")\n",
    "humanize.naturalsize(lsh_index_size)"
   ]
  },
  {
   "cell_type": "markdown",
   "id": "1ad989dd-157a-4546-96f2-9107d2f061da",
   "metadata": {},
   "source": [
    "# HNSW Index\n",
    "Hierarchical Navigable Small World"
   ]
  },
  {
   "cell_type": "code",
   "execution_count": 17,
   "id": "db654665-678c-4a33-999e-868ea623305f",
   "metadata": {},
   "outputs": [
    {
     "name": "stdout",
     "output_type": "stream",
     "text": [
      "CPU times: user 6min 55s, sys: 1.6 s, total: 6min 56s\n",
      "Wall time: 46.3 s\n"
     ]
    }
   ],
   "source": [
    "%%time\n",
    "D = xb.shape[1]  # dimensionality of Sift1M data\n",
    "\n",
    "# set HNSW index parameters\n",
    "M = 64  # number of connections each vertex will have\n",
    "ef_search = 32  # depth of layers explored during search\n",
    "ef_construction = 64  # depth of layers explored during index construction\n",
    "\n",
    "# initialize index (d == 128)\n",
    "hnsw_index = faiss.IndexHNSWFlat(D, M)\n",
    "# set efConstruction and efSearch parameters\n",
    "hnsw_index.hnsw.efConstruction = ef_construction\n",
    "hnsw_index.hnsw.efSearch = ef_search\n",
    "# add data to index\n",
    "hnsw_index.add(xb)"
   ]
  },
  {
   "cell_type": "code",
   "execution_count": 21,
   "id": "20186dd7-1063-419a-b3f6-7aed08acfea6",
   "metadata": {},
   "outputs": [
    {
     "name": "stdout",
     "output_type": "stream",
     "text": [
      "223 µs ± 7.05 µs per loop (mean ± std. dev. of 7 runs, 1,000 loops each)\n"
     ]
    }
   ],
   "source": [
    "%%timeit\n",
    "D, I = hnsw_index.search(xq, k)"
   ]
  },
  {
   "cell_type": "code",
   "execution_count": 19,
   "id": "ad5832dc-1424-48d1-8349-cc4e13d24add",
   "metadata": {},
   "outputs": [
    {
     "data": {
      "text/plain": [
       "100.0"
      ]
     },
     "execution_count": 19,
     "metadata": {},
     "output_type": "execute_result"
    }
   ],
   "source": [
    "# Calculate Recall Percentage:\n",
    "np.array(baseline)[np.in1d(baseline, I).tolist()].size / np.array(baseline).size * 100"
   ]
  },
  {
   "cell_type": "code",
   "execution_count": 20,
   "id": "be68d034-7298-4dc5-99dc-3f086a476b3d",
   "metadata": {},
   "outputs": [
    {
     "data": {
      "text/plain": [
       "'1.0 GB'"
      ]
     },
     "execution_count": 20,
     "metadata": {},
     "output_type": "execute_result"
    }
   ],
   "source": [
    "# Measure index size\n",
    "faiss.write_index(hnsw_index, \"hnsw_index.index\")\n",
    "hnsw_index_size = os.path.getsize(\"hnsw_index.index\")\n",
    "os.remove(\"hnsw_index.index\")\n",
    "humanize.naturalsize(hnsw_index_size)"
   ]
  },
  {
   "cell_type": "markdown",
   "id": "6e023c7d-51c2-4aea-ab9b-55610f65ea2c",
   "metadata": {},
   "source": [
    "# IVFFlat Index\n",
    "Plain Inverted File Index"
   ]
  },
  {
   "cell_type": "code",
   "execution_count": 97,
   "id": "e078e6cd-0436-4df2-b2d0-faf83987fb48",
   "metadata": {},
   "outputs": [
    {
     "name": "stdout",
     "output_type": "stream",
     "text": [
      "CPU times: user 520 ms, sys: 173 ms, total: 693 ms\n",
      "Wall time: 269 ms\n"
     ]
    }
   ],
   "source": [
    "%%time\n",
    "nlist = 128  # number of cells/clusters to partition data into\n",
    "D = xb.shape[1]  # dimensionality of Sift1M data\n",
    "\n",
    "quantizer = faiss.IndexFlatIP(d)  # how the vectors will be stored/compared\n",
    "ivf_index = faiss.IndexIVFFlat(quantizer, d, nlist)\n",
    "ivf_index.train(xb)  # we must train the index to cluster into cells\n",
    "ivf_index.add(xb)\n",
    "\n",
    "ivf_index.nprobe = 4  # set how many of nearest cells to search"
   ]
  },
  {
   "cell_type": "code",
   "execution_count": 98,
   "id": "c2939fdd-2081-431e-b9f2-a658be5fa0fa",
   "metadata": {},
   "outputs": [
    {
     "name": "stdout",
     "output_type": "stream",
     "text": [
      "975 µs ± 428 ns per loop (mean ± std. dev. of 7 runs, 1,000 loops each)\n"
     ]
    }
   ],
   "source": [
    "%%timeit\n",
    "dist, I = ivf_index.search(xq, k)"
   ]
  },
  {
   "cell_type": "code",
   "execution_count": 99,
   "id": "98b11604-0dac-45ff-b035-2555d2f03c45",
   "metadata": {},
   "outputs": [
    {
     "data": {
      "text/plain": [
       "80.0"
      ]
     },
     "execution_count": 99,
     "metadata": {},
     "output_type": "execute_result"
    }
   ],
   "source": [
    "# Calculate Recall Percentage:\n",
    "np.array(baseline)[np.in1d(baseline, I).tolist()].size / np.array(baseline).size * 100"
   ]
  },
  {
   "cell_type": "code",
   "execution_count": 100,
   "id": "3229629a-f669-425d-b6b2-b8294424c3be",
   "metadata": {},
   "outputs": [
    {
     "data": {
      "text/plain": [
       "'520.1 MB'"
      ]
     },
     "execution_count": 100,
     "metadata": {},
     "output_type": "execute_result"
    }
   ],
   "source": [
    "# Measure index size\n",
    "faiss.write_index(ivf_index, \"ivf_index.index\")\n",
    "ivf_index_size = os.path.getsize(\"ivf_index.index\")\n",
    "os.remove(\"ivf_index.index\")\n",
    "humanize.naturalsize(ivf_index_size)"
   ]
  },
  {
   "cell_type": "markdown",
   "id": "a8bc0482-cf7c-4c2d-880f-44c026472817",
   "metadata": {},
   "source": [
    "## PQ Index\n",
    "Product Quantizer"
   ]
  },
  {
   "cell_type": "code",
   "execution_count": 101,
   "id": "51e68e14-5c0d-4df0-be5a-115cab14bdb9",
   "metadata": {},
   "outputs": [
    {
     "name": "stdout",
     "output_type": "stream",
     "text": [
      "CPU times: user 8.9 s, sys: 2.14 s, total: 11 s\n",
      "Wall time: 4.63 s\n"
     ]
    }
   ],
   "source": [
    "%%time\n",
    "D = xb.shape[1] # dimensions of the vector\n",
    "m = 8 # number of sub vectors to split\n",
    "assert D % m == 0 # dimensions must dividable by the number of sub vectors\n",
    "\n",
    "nbits = 8  # number of bits per subquantizer, k* = 2**nbits\n",
    "pq_index = faiss.IndexPQ(D, m, nbits)\n",
    "pq_index.train(xb) \n",
    "pq_index.add(xb)"
   ]
  },
  {
   "cell_type": "code",
   "execution_count": 102,
   "id": "a9ab2d9d-ffc8-4c6b-aefc-a7730f1cfbaa",
   "metadata": {},
   "outputs": [
    {
     "name": "stdout",
     "output_type": "stream",
     "text": [
      "1.02 ms ± 22.4 µs per loop (mean ± std. dev. of 7 runs, 1,000 loops each)\n"
     ]
    }
   ],
   "source": [
    "%%timeit\n",
    "dist, I = ivf_index.search(xq, k)"
   ]
  },
  {
   "cell_type": "code",
   "execution_count": 103,
   "id": "e0c23598-03ca-44d0-9f1d-8022c3ece1b4",
   "metadata": {},
   "outputs": [
    {
     "data": {
      "text/plain": [
       "80.0"
      ]
     },
     "execution_count": 103,
     "metadata": {},
     "output_type": "execute_result"
    }
   ],
   "source": [
    "# Calculate Recall Percentage:\n",
    "np.array(baseline)[np.in1d(baseline, I).tolist()].size / np.array(baseline).size * 100"
   ]
  },
  {
   "cell_type": "code",
   "execution_count": 104,
   "id": "445cd18c-535a-4e76-8a4f-e8bd97dc9c22",
   "metadata": {},
   "outputs": [
    {
     "data": {
      "text/plain": [
       "'8.1 MB'"
      ]
     },
     "execution_count": 104,
     "metadata": {},
     "output_type": "execute_result"
    }
   ],
   "source": [
    "# Measure index size\n",
    "faiss.write_index(pq_index, \"pq_index.index\")\n",
    "pq_index_size = os.path.getsize(\"pq_index.index\")\n",
    "os.remove(\"pq_index.index\")\n",
    "humanize.naturalsize(pq_index_size)"
   ]
  },
  {
   "cell_type": "markdown",
   "id": "8e3e84a2-1e2d-44f8-9127-74dc0aa0b380",
   "metadata": {},
   "source": [
    "## Compound IVF + PQ Index"
   ]
  },
  {
   "cell_type": "code",
   "execution_count": 119,
   "id": "463100e7-af3c-4659-8fce-f2e963e58522",
   "metadata": {},
   "outputs": [
    {
     "name": "stdout",
     "output_type": "stream",
     "text": [
      "CPU times: user 8.59 s, sys: 2.04 s, total: 10.6 s\n",
      "Wall time: 4.64 s\n"
     ]
    }
   ],
   "source": [
    "%%time\n",
    "nlist = 128  # number of cells/clusters to partition data into\n",
    "nbits = 8  # when using IVF+PQ, higher nbits values are not supported\n",
    "D = xb.shape[1] # dimensions of the vector\n",
    "m = 8 # number of sub vectors to split\n",
    "assert D % m == 0 # dimensions must dividable by the number of sub vectors\n",
    "\n",
    "quantizer = faiss.IndexFlatIP(d)  # how the vectors will be stored/compared\n",
    "ivfpq_index = faiss.IndexIVFPQ(quantizer, D, nlist, m, nbits)\n",
    "ivfpq_index.train(xb)  # we must train the index to cluster into cells\n",
    "ivfpq_index.add(xb)\n",
    "\n",
    "ivfpq_index.nprobe = 4  # set how many of nearest cells to search"
   ]
  },
  {
   "cell_type": "code",
   "execution_count": 120,
   "id": "c9f5fbba-2d5b-4316-963f-e618fecc0159",
   "metadata": {},
   "outputs": [
    {
     "name": "stdout",
     "output_type": "stream",
     "text": [
      "272 µs ± 276 ns per loop (mean ± std. dev. of 7 runs, 1,000 loops each)\n"
     ]
    }
   ],
   "source": [
    "%%timeit\n",
    "dist, I = ivfpq_index.search(xq, k)"
   ]
  },
  {
   "cell_type": "code",
   "execution_count": 121,
   "id": "fcdf5f95-896d-4fa6-a802-6f71a50aa6e0",
   "metadata": {},
   "outputs": [
    {
     "data": {
      "text/plain": [
       "80.0"
      ]
     },
     "execution_count": 121,
     "metadata": {},
     "output_type": "execute_result"
    }
   ],
   "source": [
    "# Calculate Recall Percentage:\n",
    "np.array(baseline)[np.in1d(baseline, I).tolist()].size / np.array(baseline).size * 100"
   ]
  },
  {
   "cell_type": "code",
   "execution_count": 122,
   "id": "2ff40db1-782a-4be5-b9a4-e34a01391d17",
   "metadata": {},
   "outputs": [
    {
     "data": {
      "text/plain": [
       "'16.2 MB'"
      ]
     },
     "execution_count": 122,
     "metadata": {},
     "output_type": "execute_result"
    }
   ],
   "source": [
    "# Measure index size\n",
    "faiss.write_index(ivfpq_index, \"ivfpq_index.index\")\n",
    "ivfpq_index_size = os.path.getsize(\"ivfpq_index.index\")\n",
    "os.remove(\"ivfpq_index.index\")\n",
    "humanize.naturalsize(ivfpq_index_size)"
   ]
  },
  {
   "cell_type": "code",
   "execution_count": null,
   "id": "a3e2203c-47df-4e40-bf86-4a72f6e9880d",
   "metadata": {},
   "outputs": [],
   "source": []
  }
 ],
 "metadata": {
  "kernelspec": {
   "display_name": "Python 3 (ipykernel)",
   "language": "python",
   "name": "python3"
  },
  "language_info": {
   "codemirror_mode": {
    "name": "ipython",
    "version": 3
   },
   "file_extension": ".py",
   "mimetype": "text/x-python",
   "name": "python",
   "nbconvert_exporter": "python",
   "pygments_lexer": "ipython3",
   "version": "3.11.5"
  }
 },
 "nbformat": 4,
 "nbformat_minor": 5
}
