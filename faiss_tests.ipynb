{
 "cells": [
  {
   "cell_type": "markdown",
   "id": "f2e41f12-0f97-41ca-be34-9fc2a253c7ce",
   "metadata": {},
   "source": [
    "Based on https://www.pinecone.io/learn/series/faiss/vector-indexes/"
   ]
  },
  {
   "cell_type": "markdown",
   "id": "56fd7d72-c525-4e2b-ac65-17ad624493d0",
   "metadata": {},
   "source": [
    "# Set up runtime"
   ]
  },
  {
   "cell_type": "code",
   "execution_count": 13,
   "id": "a251fc54-5e3b-4716-b4fc-5c617a41896f",
   "metadata": {},
   "outputs": [
    {
     "name": "stdout",
     "output_type": "stream",
     "text": [
      "Collecting faiss-cpu\n",
      "  Downloading faiss_cpu-1.7.4-cp311-cp311-macosx_11_0_arm64.whl (2.7 MB)\n",
      "\u001b[2K     \u001b[90m━━━━━━━━━━━━━━━━━━━━━━━━━━━━━━━━━━━━━━━━\u001b[0m \u001b[32m2.7/2.7 MB\u001b[0m \u001b[31m19.1 MB/s\u001b[0m eta \u001b[36m0:00:00\u001b[0ma \u001b[36m0:00:01\u001b[0m\n",
      "\u001b[?25hInstalling collected packages: faiss-cpu\n",
      "Successfully installed faiss-cpu-1.7.4\n",
      "Note: you may need to restart the kernel to use updated packages.\n"
     ]
    }
   ],
   "source": [
    "%pip install faiss-cpu\n",
    "%pip install humanize"
   ]
  },
  {
   "cell_type": "code",
   "execution_count": 1,
   "id": "2e071beb-6661-45f0-ae94-ecee1764138c",
   "metadata": {},
   "outputs": [],
   "source": [
    "import os\n",
    "import humanize\n",
    "import shutil\n",
    "import urllib.request as request\n",
    "from contextlib import closing"
   ]
  },
  {
   "cell_type": "markdown",
   "id": "fa4448b3-1eb0-455b-90bb-16a74955bf7f",
   "metadata": {},
   "source": [
    "# Load and prepare demo data"
   ]
  },
  {
   "cell_type": "code",
   "execution_count": 2,
   "id": "ba9b2f6c-49da-4da7-a3c6-b102a3f28b91",
   "metadata": {},
   "outputs": [],
   "source": [
    "# first we download the Sift1M dataset\n",
    "with closing(request.urlopen('ftp://ftp.irisa.fr/local/texmex/corpus/sift.tar.gz')) as r:\n",
    "    with open('sift.tar.gz', 'wb') as f:\n",
    "        shutil.copyfileobj(r, f)"
   ]
  },
  {
   "cell_type": "code",
   "execution_count": 2,
   "id": "27895b82-8314-456c-97e8-f2b443067efd",
   "metadata": {},
   "outputs": [],
   "source": [
    "import tarfile\n",
    "\n",
    "# the download leaves us with a tar.gz file, we unzip it\n",
    "tar = tarfile.open('sift.tar.gz', \"r:gz\")\n",
    "tar.extractall()"
   ]
  },
  {
   "cell_type": "code",
   "execution_count": 3,
   "id": "c5eafb64-ea0b-49b8-8daf-c490054ddda6",
   "metadata": {},
   "outputs": [],
   "source": [
    "import numpy as np\n",
    "\n",
    "# now define a function to read the fvecs file format of Sift1M dataset\n",
    "def read_fvecs(fp):\n",
    "    a = np.fromfile(fp, dtype='int32')\n",
    "    d = a[0]\n",
    "    return a.reshape(-1, d + 1)[:, 1:].copy().view('float32')"
   ]
  },
  {
   "cell_type": "code",
   "execution_count": 5,
   "id": "ed50d0e4-8c75-4a4b-860e-af0464847b97",
   "metadata": {},
   "outputs": [],
   "source": [
    "# data we will search through\n",
    "xb = read_fvecs('./sift/sift_base.fvecs')  # 1M samples\n",
    "# also get some query vectors to search with\n",
    "xq = read_fvecs('./sift/sift_query.fvecs')\n",
    "# take just one query (there are many in sift_learn.fvecs)\n",
    "xq = xq[0].reshape(1, xq.shape[1])"
   ]
  },
  {
   "cell_type": "code",
   "execution_count": 6,
   "id": "010d6588-1ae8-40ff-b631-62855d0546a9",
   "metadata": {},
   "outputs": [
    {
     "data": {
      "text/plain": [
       "(1, 128)"
      ]
     },
     "execution_count": 6,
     "metadata": {},
     "output_type": "execute_result"
    }
   ],
   "source": [
    "# The query vector\n",
    "xq.shape"
   ]
  },
  {
   "cell_type": "code",
   "execution_count": 8,
   "id": "765b34a4-5f7e-46a8-8387-624f0bf54d63",
   "metadata": {},
   "outputs": [
    {
     "data": {
      "text/plain": [
       "(1000000, 128)"
      ]
     },
     "execution_count": 8,
     "metadata": {},
     "output_type": "execute_result"
    }
   ],
   "source": [
    "# The vector search space\n",
    "xb.shape"
   ]
  },
  {
   "cell_type": "markdown",
   "id": "2db4b91f-8ce4-466c-9128-26fcdb47dd32",
   "metadata": {},
   "source": [
    "# Flat Index"
   ]
  },
  {
   "cell_type": "code",
   "execution_count": 16,
   "id": "3feee9c3-11af-48e0-9fcf-ba016af7d9da",
   "metadata": {},
   "outputs": [],
   "source": [
    "d = 128  # dimensionality of Sift1M data\n",
    "k = 10  # number of nearest neighbors to return\n",
    "\n",
    "import faiss\n",
    "\n",
    "index = faiss.IndexFlatIP(d)\n",
    "index.add(xb)"
   ]
  },
  {
   "cell_type": "code",
   "execution_count": 17,
   "id": "ca5d941c-d5f2-4345-89b2-b9c6ede5dd83",
   "metadata": {},
   "outputs": [
    {
     "name": "stdout",
     "output_type": "stream",
     "text": [
      "CPU times: user 27.4 ms, sys: 6.38 ms, total: 33.7 ms\n",
      "Wall time: 29.2 ms\n"
     ]
    }
   ],
   "source": [
    "%%time\n",
    "D, I = index.search(xq, k)"
   ]
  },
  {
   "cell_type": "code",
   "execution_count": 18,
   "id": "4a38c3f9-3765-4603-8f8c-57c47a4459e6",
   "metadata": {},
   "outputs": [],
   "source": [
    "# Save as baseline. This is our 100% correct recall set.\n",
    "baseline = I[0].tolist()"
   ]
  },
  {
   "cell_type": "code",
   "execution_count": 88,
   "id": "0a4eec9b-5b99-4513-bf24-b31830b275a1",
   "metadata": {},
   "outputs": [
    {
     "data": {
      "text/plain": [
       "'512.0 MB'"
      ]
     },
     "execution_count": 88,
     "metadata": {},
     "output_type": "execute_result"
    }
   ],
   "source": [
    "# Measure index size\n",
    "faiss.write_index(index, \"flat_index.index\")\n",
    "flat_index_size = os.path.getsize(\"flat_index.index\")\n",
    "os.remove(\"flat_index.index\")\n",
    "humanize.naturalsize(flat_index_size)"
   ]
  },
  {
   "cell_type": "markdown",
   "id": "d6d623af-dc31-4d4c-b569-7f356fc34179",
   "metadata": {},
   "source": [
    "# LSH Index\n",
    "Locality Sensitive Hashing"
   ]
  },
  {
   "cell_type": "code",
   "execution_count": 79,
   "id": "8175a143-97f5-4f91-8ba9-7d21db47bf64",
   "metadata": {},
   "outputs": [],
   "source": [
    "nbits = d*8  # resolution of bucketed vectors\n",
    "# initialize index and add vectors\n",
    "lsh_index = faiss.IndexLSH(d, nbits)\n",
    "lsh_index.add(xb)"
   ]
  },
  {
   "cell_type": "code",
   "execution_count": 80,
   "id": "3bd272ea-5de5-4c52-a3da-1a5dfc18bec8",
   "metadata": {},
   "outputs": [
    {
     "name": "stdout",
     "output_type": "stream",
     "text": [
      "CPU times: user 4.89 ms, sys: 2.57 ms, total: 7.46 ms\n",
      "Wall time: 4.57 ms\n"
     ]
    }
   ],
   "source": [
    "%%time\n",
    "D, I = lsh_index.search(xq, k)"
   ]
  },
  {
   "cell_type": "code",
   "execution_count": 81,
   "id": "0c63b3f1-ba14-4126-9d6c-b1029b7185d9",
   "metadata": {},
   "outputs": [
    {
     "data": {
      "text/plain": [
       "80.0"
      ]
     },
     "execution_count": 81,
     "metadata": {},
     "output_type": "execute_result"
    }
   ],
   "source": [
    "# Calculate Recall Percentage:\n",
    "np.array(baseline)[np.in1d(baseline, I).tolist()].size / np.array(baseline).size * 100"
   ]
  },
  {
   "cell_type": "code",
   "execution_count": 87,
   "id": "3d8ca1dd-7b8e-48b5-b06d-9c143fd91e15",
   "metadata": {},
   "outputs": [
    {
     "data": {
      "text/plain": [
       "'128.5 MB'"
      ]
     },
     "execution_count": 87,
     "metadata": {},
     "output_type": "execute_result"
    }
   ],
   "source": [
    "# Measure index size\n",
    "faiss.write_index(lsh_index, \"lsh_index.index\")\n",
    "lsh_index_size = os.path.getsize(\"lsh_index.index\")\n",
    "os.remove(\"lsh_index.index\")\n",
    "humanize.naturalsize(lsh_index_size)"
   ]
  },
  {
   "cell_type": "markdown",
   "id": "1ad989dd-157a-4546-96f2-9107d2f061da",
   "metadata": {},
   "source": [
    "# HNSW Index\n",
    "Hierarchical Navigable Small World"
   ]
  },
  {
   "cell_type": "code",
   "execution_count": 44,
   "id": "db654665-678c-4a33-999e-868ea623305f",
   "metadata": {},
   "outputs": [],
   "source": [
    "# set HNSW index parameters\n",
    "M = 64  # number of connections each vertex will have\n",
    "ef_search = 32  # depth of layers explored during search\n",
    "ef_construction = 64  # depth of layers explored during index construction\n",
    "\n",
    "# initialize index (d == 128)\n",
    "hnsw_index = faiss.IndexHNSWFlat(d, M)\n",
    "# set efConstruction and efSearch parameters\n",
    "hnsw_index.hnsw.efConstruction = ef_construction\n",
    "hnsw_index.hnsw.efSearch = ef_search\n",
    "# add data to index\n",
    "hnsw_index.add(xb)"
   ]
  },
  {
   "cell_type": "code",
   "execution_count": 64,
   "id": "20186dd7-1063-419a-b3f6-7aed08acfea6",
   "metadata": {},
   "outputs": [
    {
     "name": "stdout",
     "output_type": "stream",
     "text": [
      "CPU times: user 2.9 ms, sys: 17.8 ms, total: 20.7 ms\n",
      "Wall time: 20.1 ms\n"
     ]
    }
   ],
   "source": [
    "%%time\n",
    "D, I = hnsw_index.search(xq, k)"
   ]
  },
  {
   "cell_type": "code",
   "execution_count": 65,
   "id": "ad5832dc-1424-48d1-8349-cc4e13d24add",
   "metadata": {},
   "outputs": [
    {
     "data": {
      "text/plain": [
       "90.0"
      ]
     },
     "execution_count": 65,
     "metadata": {},
     "output_type": "execute_result"
    }
   ],
   "source": [
    "# Calculate Recall Percentage:\n",
    "np.array(baseline)[np.in1d(baseline, I).tolist()].size / np.array(baseline).size * 100"
   ]
  },
  {
   "cell_type": "code",
   "execution_count": 86,
   "id": "be68d034-7298-4dc5-99dc-3f086a476b3d",
   "metadata": {},
   "outputs": [
    {
     "data": {
      "text/plain": [
       "'1.0 GB'"
      ]
     },
     "execution_count": 86,
     "metadata": {},
     "output_type": "execute_result"
    }
   ],
   "source": [
    "# Measure index size\n",
    "faiss.write_index(hnsw_index, \"hnsw_index.index\")\n",
    "hnsw_index_size = os.path.getsize(\"hnsw_index.index\")\n",
    "os.remove(\"hnsw_index.index\")\n",
    "humanize.naturalsize(hnsw_index_size)"
   ]
  },
  {
   "cell_type": "markdown",
   "id": "6e023c7d-51c2-4aea-ab9b-55610f65ea2c",
   "metadata": {},
   "source": [
    "# IVF Index\n",
    "Inverted File Index"
   ]
  },
  {
   "cell_type": "code",
   "execution_count": 107,
   "id": "e078e6cd-0436-4df2-b2d0-faf83987fb48",
   "metadata": {},
   "outputs": [],
   "source": [
    "nlist = 128  # number of cells/clusters to partition data into\n",
    "\n",
    "quantizer = faiss.IndexFlatIP(d)  # how the vectors will be stored/compared\n",
    "ivf_index = faiss.IndexIVFFlat(quantizer, d, nlist)\n",
    "ivf_index.train(xb)  # we must train the index to cluster into cells\n",
    "ivf_index.add(xb)\n",
    "\n",
    "ivf_index.nprobe = 4  # set how many of nearest cells to search"
   ]
  },
  {
   "cell_type": "code",
   "execution_count": 108,
   "id": "c2939fdd-2081-431e-b9f2-a658be5fa0fa",
   "metadata": {},
   "outputs": [
    {
     "name": "stdout",
     "output_type": "stream",
     "text": [
      "CPU times: user 6.41 ms, sys: 2.32 ms, total: 8.73 ms\n",
      "Wall time: 8.14 ms\n"
     ]
    }
   ],
   "source": [
    "%%time\n",
    "D, I = ivf_index.search(xq, k)"
   ]
  },
  {
   "cell_type": "code",
   "execution_count": 109,
   "id": "98b11604-0dac-45ff-b035-2555d2f03c45",
   "metadata": {},
   "outputs": [
    {
     "data": {
      "text/plain": [
       "100.0"
      ]
     },
     "execution_count": 109,
     "metadata": {},
     "output_type": "execute_result"
    }
   ],
   "source": [
    "# Calculate Recall Percentage:\n",
    "np.array(baseline)[np.in1d(baseline, I).tolist()].size / np.array(baseline).size * 100"
   ]
  },
  {
   "cell_type": "code",
   "execution_count": 110,
   "id": "3229629a-f669-425d-b6b2-b8294424c3be",
   "metadata": {},
   "outputs": [
    {
     "data": {
      "text/plain": [
       "'520.1 MB'"
      ]
     },
     "execution_count": 110,
     "metadata": {},
     "output_type": "execute_result"
    }
   ],
   "source": [
    "# Measure index size\n",
    "faiss.write_index(ivf_index, \"ivf_index.index\")\n",
    "ivf_index_size = os.path.getsize(\"ivf_index.index\")\n",
    "os.remove(\"ivf_index.index\")\n",
    "humanize.naturalsize(ivf_index_size)"
   ]
  },
  {
   "cell_type": "code",
   "execution_count": null,
   "id": "6abef7e2-3083-42b7-9803-be0c67140ded",
   "metadata": {},
   "outputs": [],
   "source": []
  }
 ],
 "metadata": {
  "kernelspec": {
   "display_name": "Python 3 (ipykernel)",
   "language": "python",
   "name": "python3"
  },
  "language_info": {
   "codemirror_mode": {
    "name": "ipython",
    "version": 3
   },
   "file_extension": ".py",
   "mimetype": "text/x-python",
   "name": "python",
   "nbconvert_exporter": "python",
   "pygments_lexer": "ipython3",
   "version": "3.11.5"
  }
 },
 "nbformat": 4,
 "nbformat_minor": 5
}
