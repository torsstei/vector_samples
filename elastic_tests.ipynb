{
 "cells": [
  {
   "cell_type": "markdown",
   "id": "f2e41f12-0f97-41ca-be34-9fc2a253c7ce",
   "metadata": {},
   "source": [
    "Based on https://www.pinecone.io/learn/series/faiss/vector-indexes/ and https://www.elastic.co/guide/en/elasticsearch/reference/current/knn-search.html"
   ]
  },
  {
   "cell_type": "markdown",
   "id": "56fd7d72-c525-4e2b-ac65-17ad624493d0",
   "metadata": {},
   "source": [
    "# Set up Elasticsearch client"
   ]
  },
  {
   "cell_type": "code",
   "execution_count": 1,
   "id": "a251fc54-5e3b-4716-b4fc-5c617a41896f",
   "metadata": {},
   "outputs": [
    {
     "name": "stdout",
     "output_type": "stream",
     "text": [
      "Collecting elasticsearch\n",
      "  Obtaining dependency information for elasticsearch from https://files.pythonhosted.org/packages/bb/06/81b1d71ba0567ff39d0f98f3637e810846df92f6733aee46004a194b51ea/elasticsearch-8.9.0-py3-none-any.whl.metadata\n",
      "  Downloading elasticsearch-8.9.0-py3-none-any.whl.metadata (5.2 kB)\n",
      "Collecting elastic-transport<9,>=8 (from elasticsearch)\n",
      "  Downloading elastic_transport-8.4.0-py3-none-any.whl (59 kB)\n",
      "\u001b[2K     \u001b[90m━━━━━━━━━━━━━━━━━━━━━━━━━━━━━━━━━━━━━━━━\u001b[0m \u001b[32m59.5/59.5 kB\u001b[0m \u001b[31m1.5 MB/s\u001b[0m eta \u001b[36m0:00:00\u001b[0m\n",
      "\u001b[?25hRequirement already satisfied: urllib3<2,>=1.26.2 in /Library/Frameworks/Python.framework/Versions/3.11/lib/python3.11/site-packages (from elastic-transport<9,>=8->elasticsearch) (1.26.16)\n",
      "Requirement already satisfied: certifi in /Library/Frameworks/Python.framework/Versions/3.11/lib/python3.11/site-packages (from elastic-transport<9,>=8->elasticsearch) (2023.7.22)\n",
      "Downloading elasticsearch-8.9.0-py3-none-any.whl (395 kB)\n",
      "\u001b[2K   \u001b[90m━━━━━━━━━━━━━━━━━━━━━━━━━━━━━━━━━━━━━━━━\u001b[0m \u001b[32m395.5/395.5 kB\u001b[0m \u001b[31m2.0 MB/s\u001b[0m eta \u001b[36m0:00:00\u001b[0m00:01\u001b[0m00:01\u001b[0mm\n",
      "\u001b[?25hInstalling collected packages: elastic-transport, elasticsearch\n",
      "Successfully installed elastic-transport-8.4.0 elasticsearch-8.9.0\n",
      "Note: you may need to restart the kernel to use updated packages.\n"
     ]
    }
   ],
   "source": [
    "%pip install elasticsearch\n",
    "%pip install humanize"
   ]
  },
  {
   "cell_type": "code",
   "execution_count": 78,
   "id": "2e071beb-6661-45f0-ae94-ecee1764138c",
   "metadata": {},
   "outputs": [],
   "source": [
    "import os\n",
    "import json\n",
    "import shutil\n",
    "import humanize\n",
    "from datetime import datetime\n",
    "import random\n",
    "from elasticsearch import Elasticsearch, helpers\n",
    "import numpy as np\n",
    "import math\n",
    "import pandas as pd\n",
    "pd.set_option('display.max_colwidth', 190)\n",
    "import urllib.request as request\n",
    "from contextlib import closing\n",
    "import warnings\n",
    "warnings.filterwarnings('ignore')"
   ]
  },
  {
   "cell_type": "markdown",
   "id": "fa4448b3-1eb0-455b-90bb-16a74955bf7f",
   "metadata": {},
   "source": [
    "# Load and prepare demo data"
   ]
  },
  {
   "cell_type": "code",
   "execution_count": 2,
   "id": "ba9b2f6c-49da-4da7-a3c6-b102a3f28b91",
   "metadata": {},
   "outputs": [],
   "source": [
    "# first we download the Sift1M dataset\n",
    "with closing(request.urlopen('ftp://ftp.irisa.fr/local/texmex/corpus/sift.tar.gz')) as r:\n",
    "    with open('sift.tar.gz', 'wb') as f:\n",
    "        shutil.copyfileobj(r, f)"
   ]
  },
  {
   "cell_type": "code",
   "execution_count": 3,
   "id": "27895b82-8314-456c-97e8-f2b443067efd",
   "metadata": {},
   "outputs": [],
   "source": [
    "import tarfile\n",
    "\n",
    "# the download leaves us with a tar.gz file, we unzip it\n",
    "tar = tarfile.open('sift.tar.gz', \"r:gz\")\n",
    "tar.extractall()"
   ]
  },
  {
   "cell_type": "code",
   "execution_count": 2,
   "id": "c5eafb64-ea0b-49b8-8daf-c490054ddda6",
   "metadata": {},
   "outputs": [],
   "source": [
    "import numpy as np\n",
    "\n",
    "# now define a function to read the fvecs file format of Sift1M dataset\n",
    "def read_fvecs(fp):\n",
    "    a = np.fromfile(fp, dtype='int32')\n",
    "    d = a[0]\n",
    "    return a.reshape(-1, d + 1)[:, 1:].copy().view('float32')"
   ]
  },
  {
   "cell_type": "code",
   "execution_count": 3,
   "id": "ed50d0e4-8c75-4a4b-860e-af0464847b97",
   "metadata": {},
   "outputs": [],
   "source": [
    "# data we will search through\n",
    "xb = read_fvecs('./sift/sift_base.fvecs')  # 1M samples\n",
    "# also get some query vectors to search with\n",
    "xq = read_fvecs('./sift/sift_query.fvecs')\n",
    "# take just one query (there are many in sift_learn.fvecs)\n",
    "xq = xq[0].reshape(1, xq.shape[1])"
   ]
  },
  {
   "cell_type": "code",
   "execution_count": 4,
   "id": "010d6588-1ae8-40ff-b631-62855d0546a9",
   "metadata": {},
   "outputs": [
    {
     "data": {
      "text/plain": [
       "(1, 128)"
      ]
     },
     "execution_count": 4,
     "metadata": {},
     "output_type": "execute_result"
    }
   ],
   "source": [
    "# The query vector\n",
    "xq.shape"
   ]
  },
  {
   "cell_type": "code",
   "execution_count": 5,
   "id": "765b34a4-5f7e-46a8-8387-624f0bf54d63",
   "metadata": {},
   "outputs": [
    {
     "data": {
      "text/plain": [
       "(1000000, 128)"
      ]
     },
     "execution_count": 5,
     "metadata": {},
     "output_type": "execute_result"
    }
   ],
   "source": [
    "# The vector search space\n",
    "xb.shape"
   ]
  },
  {
   "cell_type": "code",
   "execution_count": 50,
   "id": "2f46d7f6-40a2-40bb-b719-d46d0df87b32",
   "metadata": {},
   "outputs": [
    {
     "data": {
      "text/html": [
       "<div>\n",
       "<style scoped>\n",
       "    .dataframe tbody tr th:only-of-type {\n",
       "        vertical-align: middle;\n",
       "    }\n",
       "\n",
       "    .dataframe tbody tr th {\n",
       "        vertical-align: top;\n",
       "    }\n",
       "\n",
       "    .dataframe thead th {\n",
       "        text-align: right;\n",
       "    }\n",
       "</style>\n",
       "<table border=\"1\" class=\"dataframe\">\n",
       "  <thead>\n",
       "    <tr style=\"text-align: right;\">\n",
       "      <th></th>\n",
       "      <th>embedding</th>\n",
       "    </tr>\n",
       "  </thead>\n",
       "  <tbody>\n",
       "    <tr>\n",
       "      <th>0</th>\n",
       "      <td>[[1.0, 3.0, 11.0, 110.0, 62.0, 22.0, 4.0, 0.0, 43.0, 21.0, 22.0, 18.0, 6.0, 28.0, 64.0, 9.0, 11.0, 1.0, 0.0, 0.0, 1.0, 40.0, 101.0, 21.0, 20.0, 2.0, 4.0, 2.0, 2.0, 9.0, 18.0, 35.0, 1.0, ...</td>\n",
       "    </tr>\n",
       "  </tbody>\n",
       "</table>\n",
       "</div>"
      ],
      "text/plain": [
       "                                                                                                                                                                                       embedding\n",
       "0  [[1.0, 3.0, 11.0, 110.0, 62.0, 22.0, 4.0, 0.0, 43.0, 21.0, 22.0, 18.0, 6.0, 28.0, 64.0, 9.0, 11.0, 1.0, 0.0, 0.0, 1.0, 40.0, 101.0, 21.0, 20.0, 2.0, 4.0, 2.0, 2.0, 9.0, 18.0, 35.0, 1.0, ..."
      ]
     },
     "execution_count": 50,
     "metadata": {},
     "output_type": "execute_result"
    }
   ],
   "source": [
    "# The input vector to be used for the vector queries\n",
    "pd.DataFrame({'embedding' : [xq]})"
   ]
  },
  {
   "cell_type": "markdown",
   "id": "c14a3210-14cc-4bd5-a18b-856e63f445d5",
   "metadata": {},
   "source": [
    "# Upload vector embeddings to Elastic"
   ]
  },
  {
   "cell_type": "code",
   "execution_count": 9,
   "id": "5ecd0c2d-77f9-46b0-b8ee-05a0bac972f7",
   "metadata": {},
   "outputs": [],
   "source": [
    "esuser=os.getenv(\"ESUSER\")\n",
    "espassword=os.getenv(\"ESPASSWORD\")\n",
    "eshost=os.getenv(\"ESHOST\")\n",
    "esport=os.getenv(\"ESPORT\")\n",
    "client = Elasticsearch(\n",
    "     f\"https://{esuser}:{espassword}@{eshost}:{esport}\",  # Elasticsearch endpoint\n",
    "     verify_certs=False,\n",
    "     request_timeout=120\n",
    ")"
   ]
  },
  {
   "cell_type": "code",
   "execution_count": 10,
   "id": "7b7b9cd8-15ec-4ed4-ab05-a6ae9a67036f",
   "metadata": {},
   "outputs": [
    {
     "data": {
      "text/plain": [
       "{'name': 'm-2.30378e5f-16fe-488c-b12a-ff1e21906722.f1a236d6fe2348b9a4d2b297d12fbfa5.bc28ac43cf10402584b5f01db462d330.databases.appdomain.cloud',\n",
       " 'cluster_name': '30378e5f-16fe-488c-b12a-ff1e21906722',\n",
       " 'cluster_uuid': '2k4t1vNQSr67MnxoJloCbA',\n",
       " 'version': {'number': '8.7.0',\n",
       "  'build_flavor': 'default',\n",
       "  'build_type': 'tar',\n",
       "  'build_hash': '09520b59b6bc1057340b55750186466ea715e30e',\n",
       "  'build_date': '2023-03-27T16:31:09.816451435Z',\n",
       "  'build_snapshot': False,\n",
       "  'lucene_version': '9.5.0',\n",
       "  'minimum_wire_compatibility_version': '7.17.0',\n",
       "  'minimum_index_compatibility_version': '7.0.0'},\n",
       " 'tagline': 'You Know, for Search'}"
      ]
     },
     "execution_count": 10,
     "metadata": {},
     "output_type": "execute_result"
    }
   ],
   "source": [
    "dict(client.info())"
   ]
  },
  {
   "cell_type": "code",
   "execution_count": 157,
   "id": "48fa7ac1-015f-4837-b9ad-23ebc2c45e76",
   "metadata": {},
   "outputs": [
    {
     "data": {
      "text/plain": [
       "ObjectApiResponse({'acknowledged': True, 'shards_acknowledged': True, 'index': 'embeddings'})"
      ]
     },
     "execution_count": 157,
     "metadata": {},
     "output_type": "execute_result"
    }
   ],
   "source": [
    "# Create an elastic index together with a mapping for an HNSW index for euclidean distance\n",
    "if client.indices.exists(index=\"embeddings\"):\n",
    "    client.indices.delete(index=\"embeddings\")\n",
    "mapping = {\n",
    "  \"mappings\": {\n",
    "    \"properties\": {\n",
    "      \"embedding\": {\n",
    "        \"type\": \"dense_vector\",\n",
    "        \"dims\": 128,\n",
    "        \"index\": \"true\",\n",
    "        \"similarity\": \"l2_norm\",\n",
    "        \"index_options\": {\n",
    "            \"type\": \"hnsw\",\n",
    "            \"m\": 16,\n",
    "            \"ef_construction\": 100\n",
    "        }\n",
    "      }\n",
    "    }\n",
    "  }\n",
    "}\n",
    "client.indices.create(index=\"embeddings\", body=mapping)"
   ]
  },
  {
   "cell_type": "code",
   "execution_count": 158,
   "id": "8fd1b2e2-5156-44ce-a77a-8b1232db9700",
   "metadata": {},
   "outputs": [
    {
     "name": "stdout",
     "output_type": "stream",
     "text": [
      "CPU times: user 1min 9s, sys: 6.06 s, total: 1min 15s\n",
      "Wall time: 52min 22s\n"
     ]
    }
   ],
   "source": [
    "%%time\n",
    "# Upload the documents into the Elasticsearch index (includes HNSW index building):\n",
    "document_list = []\n",
    "batch_size=1000\n",
    "for i in range(0, len(xb)):\n",
    "    document = {\"_id\": i, \"embedding\": xb[i]}\n",
    "    document_list.append(document)\n",
    "    if i % batch_size == batch_size-1:\n",
    "        helpers.bulk(client, document_list, index='embeddings')\n",
    "        document_list = []"
   ]
  },
  {
   "cell_type": "code",
   "execution_count": 159,
   "id": "2963c30d-ea16-47ef-b50f-c9eac744268f",
   "metadata": {},
   "outputs": [
    {
     "data": {
      "text/plain": [
       "ObjectApiResponse({'_shards': {'total': 2, 'successful': 2, 'failed': 0}})"
      ]
     },
     "execution_count": 159,
     "metadata": {},
     "output_type": "execute_result"
    }
   ],
   "source": [
    "# Make sure the search index is refreshed\n",
    "client.indices.refresh(index=\"embeddings\")"
   ]
  },
  {
   "cell_type": "code",
   "execution_count": 160,
   "id": "287c68ee-0045-4742-a9c9-240d3f816b0f",
   "metadata": {},
   "outputs": [
    {
     "data": {
      "text/plain": [
       "1000000"
      ]
     },
     "execution_count": 160,
     "metadata": {},
     "output_type": "execute_result"
    }
   ],
   "source": [
    "# Verify the number of documents in the index\n",
    "client.count(index='embeddings')[\"count\"]"
   ]
  },
  {
   "cell_type": "code",
   "execution_count": 19,
   "id": "ff284264-7323-42ae-b424-15b5fadfc199",
   "metadata": {},
   "outputs": [
    {
     "data": {
      "text/plain": [
       "ObjectApiResponse({'_index': 'embeddings', '_id': '874182', '_version': 1, '_seq_no': 874182, '_primary_term': 1, 'found': True, '_source': {'embedding': [77.0, 1.0, 0.0, 11.0, 40.0, 2.0, 4.0, 34.0, 120.0, 23.0, 11.0, 18.0, 9.0, 0.0, 0.0, 17.0, 11.0, 24.0, 27.0, 47.0, 20.0, 0.0, 1.0, 2.0, 4.0, 12.0, 7.0, 11.0, 26.0, 5.0, 1.0, 0.0, 114.0, 2.0, 0.0, 44.0, 123.0, 1.0, 0.0, 35.0, 134.0, 6.0, 6.0, 21.0, 8.0, 0.0, 0.0, 45.0, 13.0, 4.0, 10.0, 44.0, 77.0, 42.0, 19.0, 3.0, 1.0, 1.0, 1.0, 2.0, 26.0, 96.0, 68.0, 1.0, 103.0, 2.0, 0.0, 40.0, 97.0, 4.0, 8.0, 26.0, 134.0, 7.0, 0.0, 4.0, 17.0, 17.0, 4.0, 23.0, 12.0, 0.0, 0.0, 3.0, 134.0, 134.0, 8.0, 3.0, 0.0, 0.0, 0.0, 3.0, 51.0, 119.0, 52.0, 2.0, 42.0, 3.0, 4.0, 35.0, 18.0, 4.0, 4.0, 6.0, 134.0, 3.0, 2.0, 6.0, 9.0, 48.0, 23.0, 47.0, 0.0, 0.0, 0.0, 1.0, 90.0, 134.0, 25.0, 1.0, 0.0, 0.0, 6.0, 21.0, 35.0, 19.0, 3.0, 1.0]}})"
      ]
     },
     "execution_count": 19,
     "metadata": {},
     "output_type": "execute_result"
    }
   ],
   "source": [
    "# Look up a random document for test:\n",
    "client.get(index=\"embeddings\", id=random.randint(0, len(xb)-1))"
   ]
  },
  {
   "cell_type": "code",
   "execution_count": 86,
   "id": "976ba339-c699-4da1-832b-93d65a57c98d",
   "metadata": {},
   "outputs": [
    {
     "name": "stdout",
     "output_type": "stream",
     "text": [
      "Index size:    922.0 MB\n",
      "Indexing time: 27.30 minutes\n"
     ]
    }
   ],
   "source": [
    "# Get the total index size and indexing time:\n",
    "index_stats = client.indices.stats(index=\"embeddings\").get('_all').get('primaries')\n",
    "print(\"Index size:    \" + humanize.naturalsize(index_stats.get('store').get('size_in_bytes')))\n",
    "print(\"Indexing time: \" + humanize.precisedelta(index_stats.get('indexing').get('index_time_in_millis')/1000, minimum_unit='minutes'))"
   ]
  },
  {
   "cell_type": "markdown",
   "id": "1c5d9093-8002-4b52-83ce-69bff1fb5e14",
   "metadata": {},
   "source": [
    "## Exact nearest neighbor query with euclidean distance on dense_vector field\n",
    "I.e., no index is being used."
   ]
  },
  {
   "cell_type": "code",
   "execution_count": 53,
   "id": "9c90903c-f170-4fe6-99ab-7b06215ad51d",
   "metadata": {},
   "outputs": [
    {
     "name": "stdout",
     "output_type": "stream",
     "text": [
      "CPU times: user 4.1 ms, sys: 2.61 ms, total: 6.71 ms\n",
      "Wall time: 2.57 s\n"
     ]
    },
    {
     "data": {
      "text/html": [
       "<div>\n",
       "<style scoped>\n",
       "    .dataframe tbody tr th:only-of-type {\n",
       "        vertical-align: middle;\n",
       "    }\n",
       "\n",
       "    .dataframe tbody tr th {\n",
       "        vertical-align: top;\n",
       "    }\n",
       "\n",
       "    .dataframe thead th {\n",
       "        text-align: right;\n",
       "    }\n",
       "</style>\n",
       "<table border=\"1\" class=\"dataframe\">\n",
       "  <thead>\n",
       "    <tr style=\"text-align: right;\">\n",
       "      <th></th>\n",
       "      <th>id</th>\n",
       "      <th>distance</th>\n",
       "    </tr>\n",
       "  </thead>\n",
       "  <tbody>\n",
       "    <tr>\n",
       "      <th>0</th>\n",
       "      <td>932085</td>\n",
       "      <td>0.004276</td>\n",
       "    </tr>\n",
       "    <tr>\n",
       "      <th>1</th>\n",
       "      <td>934876</td>\n",
       "      <td>0.004242</td>\n",
       "    </tr>\n",
       "    <tr>\n",
       "      <th>2</th>\n",
       "      <td>561813</td>\n",
       "      <td>0.004082</td>\n",
       "    </tr>\n",
       "    <tr>\n",
       "      <th>3</th>\n",
       "      <td>708177</td>\n",
       "      <td>0.003899</td>\n",
       "    </tr>\n",
       "    <tr>\n",
       "      <th>4</th>\n",
       "      <td>706771</td>\n",
       "      <td>0.003886</td>\n",
       "    </tr>\n",
       "    <tr>\n",
       "      <th>5</th>\n",
       "      <td>695756</td>\n",
       "      <td>0.003848</td>\n",
       "    </tr>\n",
       "    <tr>\n",
       "      <th>6</th>\n",
       "      <td>435345</td>\n",
       "      <td>0.003813</td>\n",
       "    </tr>\n",
       "    <tr>\n",
       "      <th>7</th>\n",
       "      <td>701258</td>\n",
       "      <td>0.003770</td>\n",
       "    </tr>\n",
       "    <tr>\n",
       "      <th>8</th>\n",
       "      <td>455537</td>\n",
       "      <td>0.003727</td>\n",
       "    </tr>\n",
       "    <tr>\n",
       "      <th>9</th>\n",
       "      <td>872728</td>\n",
       "      <td>0.003717</td>\n",
       "    </tr>\n",
       "  </tbody>\n",
       "</table>\n",
       "</div>"
      ],
      "text/plain": [
       "       id  distance\n",
       "0  932085  0.004276\n",
       "1  934876  0.004242\n",
       "2  561813  0.004082\n",
       "3  708177  0.003899\n",
       "4  706771  0.003886\n",
       "5  695756  0.003848\n",
       "6  435345  0.003813\n",
       "7  701258  0.003770\n",
       "8  455537  0.003727\n",
       "9  872728  0.003717"
      ]
     },
     "execution_count": 53,
     "metadata": {},
     "output_type": "execute_result"
    }
   ],
   "source": [
    "%%time\n",
    "query = {\n",
    "    \"script_score\": {\n",
    "        \"query\" : {\n",
    "            \"match_all\": {}\n",
    "        },\n",
    "        \"script\": {\n",
    "            \"source\": \"1 / (1 + l2norm(params.queryVector, 'embedding'))\",\n",
    "            \"params\": {\n",
    "                \"queryVector\": xq[0]\n",
    "            }\n",
    "        }\n",
    "    }\n",
    "}\n",
    "list=dict(client.search(index=\"embeddings\", query=query, size=10))['hits']['hits']\n",
    "euclidean_baseline=pd.DataFrame([(i.get('_id'), i.get('_score')) for i in list], columns=['id', 'distance'])\n",
    "euclidean_baseline"
   ]
  },
  {
   "cell_type": "markdown",
   "id": "c22b0fe9-ee5e-4b79-a229-64cf7c15f5f0",
   "metadata": {},
   "source": [
    "## Aproximate nearest neighbor query with euclidean distance using HNSW index on dense_vector"
   ]
  },
  {
   "cell_type": "code",
   "execution_count": 54,
   "id": "da19ad7b-5ee3-4dbd-9b76-7fada935d9e9",
   "metadata": {},
   "outputs": [
    {
     "name": "stdout",
     "output_type": "stream",
     "text": [
      "CPU times: user 4.06 ms, sys: 2.57 ms, total: 6.63 ms\n",
      "Wall time: 66.8 ms\n"
     ]
    },
    {
     "data": {
      "text/html": [
       "<div>\n",
       "<style scoped>\n",
       "    .dataframe tbody tr th:only-of-type {\n",
       "        vertical-align: middle;\n",
       "    }\n",
       "\n",
       "    .dataframe tbody tr th {\n",
       "        vertical-align: top;\n",
       "    }\n",
       "\n",
       "    .dataframe thead th {\n",
       "        text-align: right;\n",
       "    }\n",
       "</style>\n",
       "<table border=\"1\" class=\"dataframe\">\n",
       "  <thead>\n",
       "    <tr style=\"text-align: right;\">\n",
       "      <th></th>\n",
       "      <th>id</th>\n",
       "      <th>distance</th>\n",
       "    </tr>\n",
       "  </thead>\n",
       "  <tbody>\n",
       "    <tr>\n",
       "      <th>0</th>\n",
       "      <td>932085</td>\n",
       "      <td>0.004276</td>\n",
       "    </tr>\n",
       "    <tr>\n",
       "      <th>1</th>\n",
       "      <td>934876</td>\n",
       "      <td>0.004242</td>\n",
       "    </tr>\n",
       "    <tr>\n",
       "      <th>2</th>\n",
       "      <td>561813</td>\n",
       "      <td>0.004082</td>\n",
       "    </tr>\n",
       "    <tr>\n",
       "      <th>3</th>\n",
       "      <td>708177</td>\n",
       "      <td>0.003899</td>\n",
       "    </tr>\n",
       "    <tr>\n",
       "      <th>4</th>\n",
       "      <td>706771</td>\n",
       "      <td>0.003886</td>\n",
       "    </tr>\n",
       "    <tr>\n",
       "      <th>5</th>\n",
       "      <td>695756</td>\n",
       "      <td>0.003848</td>\n",
       "    </tr>\n",
       "    <tr>\n",
       "      <th>6</th>\n",
       "      <td>435345</td>\n",
       "      <td>0.003813</td>\n",
       "    </tr>\n",
       "    <tr>\n",
       "      <th>7</th>\n",
       "      <td>701258</td>\n",
       "      <td>0.003770</td>\n",
       "    </tr>\n",
       "    <tr>\n",
       "      <th>8</th>\n",
       "      <td>455537</td>\n",
       "      <td>0.003727</td>\n",
       "    </tr>\n",
       "    <tr>\n",
       "      <th>9</th>\n",
       "      <td>872728</td>\n",
       "      <td>0.003717</td>\n",
       "    </tr>\n",
       "  </tbody>\n",
       "</table>\n",
       "</div>"
      ],
      "text/plain": [
       "       id  distance\n",
       "0  932085  0.004276\n",
       "1  934876  0.004242\n",
       "2  561813  0.004082\n",
       "3  708177  0.003899\n",
       "4  706771  0.003886\n",
       "5  695756  0.003848\n",
       "6  435345  0.003813\n",
       "7  701258  0.003770\n",
       "8  455537  0.003727\n",
       "9  872728  0.003717"
      ]
     },
     "execution_count": 54,
     "metadata": {},
     "output_type": "execute_result"
    }
   ],
   "source": [
    "%%time\n",
    "query = {\n",
    "    \"field\": \"embedding\",\n",
    "    \"query_vector\": xq[0],\n",
    "    \"k\": 10,\n",
    "    \"num_candidates\": 10\n",
    "}\n",
    "dict(client.knn_search(index=\"embeddings\", knn=query))['hits']['hits']\n",
    "euclidean_hnsw=pd.DataFrame([(i.get('_id'), i.get('_score')) for i in list], columns=['id', 'distance'])\n",
    "euclidean_hnsw"
   ]
  },
  {
   "cell_type": "code",
   "execution_count": 55,
   "id": "56f6ab9a-abf5-40ac-ad50-be38b2e0b95f",
   "metadata": {},
   "outputs": [
    {
     "data": {
      "text/plain": [
       "100.0"
      ]
     },
     "execution_count": 55,
     "metadata": {},
     "output_type": "execute_result"
    }
   ],
   "source": [
    "# Calculate Recall Percentage for euclidean distance IVF lookup:\n",
    "baseline = euclidean_baseline[\"distance\"].to_numpy()\n",
    "baseline[np.in1d(baseline, euclidean_hnsw[\"distance\"].to_numpy()).tolist()].size / baseline.size * 100"
   ]
  },
  {
   "cell_type": "markdown",
   "id": "22a58e09-fd3d-42b9-b874-9b66031b37b2",
   "metadata": {},
   "source": [
    "## Exact Euclidean Distance"
   ]
  },
  {
   "cell_type": "code",
   "execution_count": 465,
   "id": "a2e99942-562f-45af-a25d-f47f1114b188",
   "metadata": {},
   "outputs": [
    {
     "name": "stdout",
     "output_type": "stream",
     "text": [
      "CPU times: user 2.05 ms, sys: 3.03 ms, total: 5.08 ms\n",
      "Wall time: 126 ms\n"
     ]
    },
    {
     "data": {
      "text/html": [
       "<div>\n",
       "<style scoped>\n",
       "    .dataframe tbody tr th:only-of-type {\n",
       "        vertical-align: middle;\n",
       "    }\n",
       "\n",
       "    .dataframe tbody tr th {\n",
       "        vertical-align: top;\n",
       "    }\n",
       "\n",
       "    .dataframe thead th {\n",
       "        text-align: right;\n",
       "    }\n",
       "</style>\n",
       "<table border=\"1\" class=\"dataframe\">\n",
       "  <thead>\n",
       "    <tr style=\"text-align: right;\">\n",
       "      <th></th>\n",
       "      <th>id</th>\n",
       "      <th>distance</th>\n",
       "    </tr>\n",
       "  </thead>\n",
       "  <tbody>\n",
       "    <tr>\n",
       "      <th>0</th>\n",
       "      <td>932085</td>\n",
       "      <td>232.871209</td>\n",
       "    </tr>\n",
       "    <tr>\n",
       "      <th>1</th>\n",
       "      <td>934876</td>\n",
       "      <td>234.714720</td>\n",
       "    </tr>\n",
       "    <tr>\n",
       "      <th>2</th>\n",
       "      <td>561813</td>\n",
       "      <td>243.989754</td>\n",
       "    </tr>\n",
       "    <tr>\n",
       "      <th>3</th>\n",
       "      <td>708177</td>\n",
       "      <td>255.460369</td>\n",
       "    </tr>\n",
       "    <tr>\n",
       "      <th>4</th>\n",
       "      <td>706771</td>\n",
       "      <td>256.314260</td>\n",
       "    </tr>\n",
       "    <tr>\n",
       "      <th>5</th>\n",
       "      <td>695756</td>\n",
       "      <td>258.862898</td>\n",
       "    </tr>\n",
       "    <tr>\n",
       "      <th>6</th>\n",
       "      <td>435345</td>\n",
       "      <td>261.241268</td>\n",
       "    </tr>\n",
       "    <tr>\n",
       "      <th>7</th>\n",
       "      <td>701258</td>\n",
       "      <td>264.280154</td>\n",
       "    </tr>\n",
       "    <tr>\n",
       "      <th>8</th>\n",
       "      <td>455537</td>\n",
       "      <td>267.284493</td>\n",
       "    </tr>\n",
       "    <tr>\n",
       "      <th>9</th>\n",
       "      <td>872728</td>\n",
       "      <td>268.069021</td>\n",
       "    </tr>\n",
       "  </tbody>\n",
       "</table>\n",
       "</div>"
      ],
      "text/plain": [
       "       id    distance\n",
       "0  932085  232.871209\n",
       "1  934876  234.714720\n",
       "2  561813  243.989754\n",
       "3  708177  255.460369\n",
       "4  706771  256.314260\n",
       "5  695756  258.862898\n",
       "6  435345  261.241268\n",
       "7  701258  264.280154\n",
       "8  455537  267.284493\n",
       "9  872728  268.069021"
      ]
     },
     "execution_count": 465,
     "metadata": {},
     "output_type": "execute_result"
    }
   ],
   "source": [
    "%%time\n",
    "# Run a similarity query with euclidean distance:\n",
    "sql = f\"SELECT id, embedding <-> '[{query_vector}]' as distance FROM embeddings ORDER BY distance LIMIT 10;\"\n",
    "cur.execute(sql)\n",
    "euclidean_baseline = pd.DataFrame(cur.fetchall(), columns=['id', 'distance'])\n",
    "euclidean_baseline"
   ]
  },
  {
   "cell_type": "code",
   "execution_count": 466,
   "id": "0fc25aec-3422-4755-81eb-ac4ab637d31f",
   "metadata": {},
   "outputs": [
    {
     "data": {
      "text/html": [
       "<div>\n",
       "<style scoped>\n",
       "    .dataframe tbody tr th:only-of-type {\n",
       "        vertical-align: middle;\n",
       "    }\n",
       "\n",
       "    .dataframe tbody tr th {\n",
       "        vertical-align: top;\n",
       "    }\n",
       "\n",
       "    .dataframe thead th {\n",
       "        text-align: right;\n",
       "    }\n",
       "</style>\n",
       "<table border=\"1\" class=\"dataframe\">\n",
       "  <thead>\n",
       "    <tr style=\"text-align: right;\">\n",
       "      <th></th>\n",
       "      <th>QUERY PLAN</th>\n",
       "    </tr>\n",
       "  </thead>\n",
       "  <tbody>\n",
       "    <tr>\n",
       "      <th>9</th>\n",
       "      <td>-&gt;  Parallel Seq Scan on embeddings  (cost=0.00..76637.33 rows=416667 width=12) (actual time=0.108..97.531 rows=333333 loops=3)</td>\n",
       "    </tr>\n",
       "  </tbody>\n",
       "</table>\n",
       "</div>"
      ],
      "text/plain": [
       "                                                                                                                                      QUERY PLAN\n",
       "9                ->  Parallel Seq Scan on embeddings  (cost=0.00..76637.33 rows=416667 width=12) (actual time=0.108..97.531 rows=333333 loops=3)"
      ]
     },
     "execution_count": 466,
     "metadata": {},
     "output_type": "execute_result"
    }
   ],
   "source": [
    "# Show scan type used in embedding column in the query plan\n",
    "df=pd.read_sql_query(\"EXPLAIN ANALYZE \" + sql, engine)\n",
    "df[df['QUERY PLAN'].str.contains('Scan')]"
   ]
  },
  {
   "cell_type": "markdown",
   "id": "2141ab64-2016-44eb-8e12-171d0fb78613",
   "metadata": {},
   "source": [
    "## Exact Cosine Distance"
   ]
  },
  {
   "cell_type": "code",
   "execution_count": 471,
   "id": "64c1a488",
   "metadata": {},
   "outputs": [
    {
     "name": "stdout",
     "output_type": "stream",
     "text": [
      "CPU times: user 1.7 ms, sys: 2.09 ms, total: 3.78 ms\n",
      "Wall time: 124 ms\n"
     ]
    },
    {
     "data": {
      "text/html": [
       "<div>\n",
       "<style scoped>\n",
       "    .dataframe tbody tr th:only-of-type {\n",
       "        vertical-align: middle;\n",
       "    }\n",
       "\n",
       "    .dataframe tbody tr th {\n",
       "        vertical-align: top;\n",
       "    }\n",
       "\n",
       "    .dataframe thead th {\n",
       "        text-align: right;\n",
       "    }\n",
       "</style>\n",
       "<table border=\"1\" class=\"dataframe\">\n",
       "  <thead>\n",
       "    <tr style=\"text-align: right;\">\n",
       "      <th></th>\n",
       "      <th>id</th>\n",
       "      <th>distance</th>\n",
       "    </tr>\n",
       "  </thead>\n",
       "  <tbody>\n",
       "    <tr>\n",
       "      <th>0</th>\n",
       "      <td>932085</td>\n",
       "      <td>0.105112</td>\n",
       "    </tr>\n",
       "    <tr>\n",
       "      <th>1</th>\n",
       "      <td>934876</td>\n",
       "      <td>0.106705</td>\n",
       "    </tr>\n",
       "    <tr>\n",
       "      <th>2</th>\n",
       "      <td>561813</td>\n",
       "      <td>0.115366</td>\n",
       "    </tr>\n",
       "    <tr>\n",
       "      <th>3</th>\n",
       "      <td>708177</td>\n",
       "      <td>0.126512</td>\n",
       "    </tr>\n",
       "    <tr>\n",
       "      <th>4</th>\n",
       "      <td>706771</td>\n",
       "      <td>0.127323</td>\n",
       "    </tr>\n",
       "    <tr>\n",
       "      <th>5</th>\n",
       "      <td>695756</td>\n",
       "      <td>0.129983</td>\n",
       "    </tr>\n",
       "    <tr>\n",
       "      <th>6</th>\n",
       "      <td>435345</td>\n",
       "      <td>0.132089</td>\n",
       "    </tr>\n",
       "    <tr>\n",
       "      <th>7</th>\n",
       "      <td>701258</td>\n",
       "      <td>0.135184</td>\n",
       "    </tr>\n",
       "    <tr>\n",
       "      <th>8</th>\n",
       "      <td>455537</td>\n",
       "      <td>0.138418</td>\n",
       "    </tr>\n",
       "    <tr>\n",
       "      <th>9</th>\n",
       "      <td>872728</td>\n",
       "      <td>0.138856</td>\n",
       "    </tr>\n",
       "  </tbody>\n",
       "</table>\n",
       "</div>"
      ],
      "text/plain": [
       "       id  distance\n",
       "0  932085  0.105112\n",
       "1  934876  0.106705\n",
       "2  561813  0.115366\n",
       "3  708177  0.126512\n",
       "4  706771  0.127323\n",
       "5  695756  0.129983\n",
       "6  435345  0.132089\n",
       "7  701258  0.135184\n",
       "8  455537  0.138418\n",
       "9  872728  0.138856"
      ]
     },
     "execution_count": 471,
     "metadata": {},
     "output_type": "execute_result"
    }
   ],
   "source": [
    "%%time\n",
    "# Run a similarity query with cosine distance:\n",
    "sql = f\"SELECT id, embedding <=> '[{query_vector}]' as distance FROM embeddings ORDER BY distance LIMIT 10;\"\n",
    "cur.execute(sql)\n",
    "cosine_baseline = pd.DataFrame(cur.fetchall(), columns=['id', 'distance'])\n",
    "cosine_baseline"
   ]
  },
  {
   "cell_type": "code",
   "execution_count": 468,
   "id": "054fc861-6555-447c-a865-cb101d76eee0",
   "metadata": {},
   "outputs": [
    {
     "data": {
      "text/html": [
       "<div>\n",
       "<style scoped>\n",
       "    .dataframe tbody tr th:only-of-type {\n",
       "        vertical-align: middle;\n",
       "    }\n",
       "\n",
       "    .dataframe tbody tr th {\n",
       "        vertical-align: top;\n",
       "    }\n",
       "\n",
       "    .dataframe thead th {\n",
       "        text-align: right;\n",
       "    }\n",
       "</style>\n",
       "<table border=\"1\" class=\"dataframe\">\n",
       "  <thead>\n",
       "    <tr style=\"text-align: right;\">\n",
       "      <th></th>\n",
       "      <th>QUERY PLAN</th>\n",
       "    </tr>\n",
       "  </thead>\n",
       "  <tbody>\n",
       "    <tr>\n",
       "      <th>9</th>\n",
       "      <td>-&gt;  Parallel Seq Scan on embeddings  (cost=0.00..76637.33 rows=416667 width=12) (actual time=0.114..99.913 rows=333333 loops=3)</td>\n",
       "    </tr>\n",
       "  </tbody>\n",
       "</table>\n",
       "</div>"
      ],
      "text/plain": [
       "                                                                                                                                      QUERY PLAN\n",
       "9                ->  Parallel Seq Scan on embeddings  (cost=0.00..76637.33 rows=416667 width=12) (actual time=0.114..99.913 rows=333333 loops=3)"
      ]
     },
     "execution_count": 468,
     "metadata": {},
     "output_type": "execute_result"
    }
   ],
   "source": [
    "# Show scan type used in embedding column in the query plan\n",
    "df=pd.read_sql_query(\"EXPLAIN ANALYZE \" + sql, engine)\n",
    "df[df['QUERY PLAN'].str.contains('Scan')]"
   ]
  },
  {
   "cell_type": "markdown",
   "id": "823583c4-accd-4b6c-9470-e90cd4d61a86",
   "metadata": {},
   "source": [
    "## Exact Dot Product Distance"
   ]
  },
  {
   "cell_type": "code",
   "execution_count": 472,
   "id": "4b86b04c",
   "metadata": {},
   "outputs": [
    {
     "name": "stdout",
     "output_type": "stream",
     "text": [
      "CPU times: user 2.05 ms, sys: 2.7 ms, total: 4.75 ms\n",
      "Wall time: 126 ms\n"
     ]
    },
    {
     "data": {
      "text/html": [
       "<div>\n",
       "<style scoped>\n",
       "    .dataframe tbody tr th:only-of-type {\n",
       "        vertical-align: middle;\n",
       "    }\n",
       "\n",
       "    .dataframe tbody tr th {\n",
       "        vertical-align: top;\n",
       "    }\n",
       "\n",
       "    .dataframe thead th {\n",
       "        text-align: right;\n",
       "    }\n",
       "</style>\n",
       "<table border=\"1\" class=\"dataframe\">\n",
       "  <thead>\n",
       "    <tr style=\"text-align: right;\">\n",
       "      <th></th>\n",
       "      <th>id</th>\n",
       "      <th>distance</th>\n",
       "    </tr>\n",
       "  </thead>\n",
       "  <tbody>\n",
       "    <tr>\n",
       "      <th>0</th>\n",
       "      <td>932085</td>\n",
       "      <td>-230843.0</td>\n",
       "    </tr>\n",
       "    <tr>\n",
       "      <th>1</th>\n",
       "      <td>934876</td>\n",
       "      <td>-230600.0</td>\n",
       "    </tr>\n",
       "    <tr>\n",
       "      <th>2</th>\n",
       "      <td>561813</td>\n",
       "      <td>-228242.0</td>\n",
       "    </tr>\n",
       "    <tr>\n",
       "      <th>3</th>\n",
       "      <td>708177</td>\n",
       "      <td>-225288.0</td>\n",
       "    </tr>\n",
       "    <tr>\n",
       "      <th>4</th>\n",
       "      <td>706771</td>\n",
       "      <td>-225144.0</td>\n",
       "    </tr>\n",
       "    <tr>\n",
       "      <th>5</th>\n",
       "      <td>695756</td>\n",
       "      <td>-224256.0</td>\n",
       "    </tr>\n",
       "    <tr>\n",
       "      <th>6</th>\n",
       "      <td>435345</td>\n",
       "      <td>-224214.0</td>\n",
       "    </tr>\n",
       "    <tr>\n",
       "      <th>7</th>\n",
       "      <td>701258</td>\n",
       "      <td>-223408.0</td>\n",
       "    </tr>\n",
       "    <tr>\n",
       "      <th>8</th>\n",
       "      <td>872728</td>\n",
       "      <td>-222827.0</td>\n",
       "    </tr>\n",
       "    <tr>\n",
       "      <th>9</th>\n",
       "      <td>455537</td>\n",
       "      <td>-222341.0</td>\n",
       "    </tr>\n",
       "  </tbody>\n",
       "</table>\n",
       "</div>"
      ],
      "text/plain": [
       "       id  distance\n",
       "0  932085 -230843.0\n",
       "1  934876 -230600.0\n",
       "2  561813 -228242.0\n",
       "3  708177 -225288.0\n",
       "4  706771 -225144.0\n",
       "5  695756 -224256.0\n",
       "6  435345 -224214.0\n",
       "7  701258 -223408.0\n",
       "8  872728 -222827.0\n",
       "9  455537 -222341.0"
      ]
     },
     "execution_count": 472,
     "metadata": {},
     "output_type": "execute_result"
    }
   ],
   "source": [
    "%%time\n",
    "# Run a similarity query with dot product distance:\n",
    "sql = f\"SELECT id, embedding <#> '[{query_vector}]' as distance FROM embeddings ORDER BY distance LIMIT 10;\"\n",
    "cur.execute(sql)\n",
    "dot_product_baseline = pd.DataFrame(cur.fetchall(), columns=['id', 'distance'])\n",
    "dot_product_baseline"
   ]
  },
  {
   "cell_type": "code",
   "execution_count": 470,
   "id": "315bc499-cc49-420e-b6a9-be88ef90952c",
   "metadata": {},
   "outputs": [
    {
     "data": {
      "text/html": [
       "<div>\n",
       "<style scoped>\n",
       "    .dataframe tbody tr th:only-of-type {\n",
       "        vertical-align: middle;\n",
       "    }\n",
       "\n",
       "    .dataframe tbody tr th {\n",
       "        vertical-align: top;\n",
       "    }\n",
       "\n",
       "    .dataframe thead th {\n",
       "        text-align: right;\n",
       "    }\n",
       "</style>\n",
       "<table border=\"1\" class=\"dataframe\">\n",
       "  <thead>\n",
       "    <tr style=\"text-align: right;\">\n",
       "      <th></th>\n",
       "      <th>QUERY PLAN</th>\n",
       "    </tr>\n",
       "  </thead>\n",
       "  <tbody>\n",
       "    <tr>\n",
       "      <th>9</th>\n",
       "      <td>-&gt;  Parallel Seq Scan on embeddings  (cost=0.00..76637.33 rows=416667 width=12) (actual time=0.202..102.335 rows=333333 loops=3)</td>\n",
       "    </tr>\n",
       "  </tbody>\n",
       "</table>\n",
       "</div>"
      ],
      "text/plain": [
       "                                                                                                                                       QUERY PLAN\n",
       "9                ->  Parallel Seq Scan on embeddings  (cost=0.00..76637.33 rows=416667 width=12) (actual time=0.202..102.335 rows=333333 loops=3)"
      ]
     },
     "execution_count": 470,
     "metadata": {},
     "output_type": "execute_result"
    }
   ],
   "source": [
    "# Show scan type used in embedding column in the query plan\n",
    "df=pd.read_sql_query(\"EXPLAIN ANALYZE \" + sql, engine)\n",
    "df[df['QUERY PLAN'].str.contains('Scan')]"
   ]
  },
  {
   "cell_type": "code",
   "execution_count": 524,
   "id": "cc29c44e-61af-47c9-8782-06063dbe35bf",
   "metadata": {},
   "outputs": [
    {
     "data": {
      "text/html": [
       "<div>\n",
       "<style scoped>\n",
       "    .dataframe tbody tr th:only-of-type {\n",
       "        vertical-align: middle;\n",
       "    }\n",
       "\n",
       "    .dataframe tbody tr th {\n",
       "        vertical-align: top;\n",
       "    }\n",
       "\n",
       "    .dataframe thead th {\n",
       "        text-align: right;\n",
       "    }\n",
       "</style>\n",
       "<table border=\"1\" class=\"dataframe\">\n",
       "  <thead>\n",
       "    <tr style=\"text-align: right;\">\n",
       "      <th></th>\n",
       "      <th>pg_size_pretty</th>\n",
       "    </tr>\n",
       "  </thead>\n",
       "  <tbody>\n",
       "    <tr>\n",
       "      <th>0</th>\n",
       "      <td>2342 MB</td>\n",
       "    </tr>\n",
       "  </tbody>\n",
       "</table>\n",
       "</div>"
      ],
      "text/plain": [
       "  pg_size_pretty\n",
       "0        2342 MB"
      ]
     },
     "execution_count": 524,
     "metadata": {},
     "output_type": "execute_result"
    }
   ],
   "source": [
    "# Get index size\n",
    "cur.execute(\"select pg_size_pretty (pg_indexes_size('embeddings'));\");pd.DataFrame(cur.fetchall(), columns=['pg_size_pretty'])"
   ]
  }
 ],
 "metadata": {
  "kernelspec": {
   "display_name": "Python 3 (ipykernel)",
   "language": "python",
   "name": "python3"
  },
  "language_info": {
   "codemirror_mode": {
    "name": "ipython",
    "version": 3
   },
   "file_extension": ".py",
   "mimetype": "text/x-python",
   "name": "python",
   "nbconvert_exporter": "python",
   "pygments_lexer": "ipython3",
   "version": "3.11.5"
  }
 },
 "nbformat": 4,
 "nbformat_minor": 5
}
