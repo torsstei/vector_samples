{
 "cells": [
  {
   "cell_type": "markdown",
   "id": "f2e41f12-0f97-41ca-be34-9fc2a253c7ce",
   "metadata": {},
   "source": [
    "Based on https://www.pinecone.io/learn/series/faiss/vector-indexes/ and https://github.com/pgvector/pgvector"
   ]
  },
  {
   "cell_type": "markdown",
   "id": "56fd7d72-c525-4e2b-ac65-17ad624493d0",
   "metadata": {},
   "source": [
    "# Set up runtime"
   ]
  },
  {
   "cell_type": "code",
   "execution_count": 172,
   "id": "a251fc54-5e3b-4716-b4fc-5c617a41896f",
   "metadata": {},
   "outputs": [
    {
     "name": "stdout",
     "output_type": "stream",
     "text": [
      "Requirement already satisfied: faiss-cpu in /Library/Frameworks/Python.framework/Versions/3.11/lib/python3.11/site-packages (1.7.4)\n",
      "Note: you may need to restart the kernel to use updated packages.\n",
      "Requirement already satisfied: humanize in /Library/Frameworks/Python.framework/Versions/3.11/lib/python3.11/site-packages (4.8.0)\n",
      "Note: you may need to restart the kernel to use updated packages.\n",
      "Requirement already satisfied: psycopg2 in /Library/Frameworks/Python.framework/Versions/3.11/lib/python3.11/site-packages (2.9.7)\n",
      "Note: you may need to restart the kernel to use updated packages.\n",
      "Requirement already satisfied: pgvector in /Library/Frameworks/Python.framework/Versions/3.11/lib/python3.11/site-packages (0.2.2)\n",
      "Requirement already satisfied: numpy in /Library/Frameworks/Python.framework/Versions/3.11/lib/python3.11/site-packages (from pgvector) (1.25.2)\n",
      "Note: you may need to restart the kernel to use updated packages.\n",
      "Collecting sqlalchemy\n",
      "  Obtaining dependency information for sqlalchemy from https://files.pythonhosted.org/packages/cb/a7/3c8c8a36f336880e4dca47bf30d5c723384c40b67e649b35a582d6df45ef/SQLAlchemy-2.0.20-cp311-cp311-macosx_11_0_arm64.whl.metadata\n",
      "  Downloading SQLAlchemy-2.0.20-cp311-cp311-macosx_11_0_arm64.whl.metadata (9.4 kB)\n",
      "Requirement already satisfied: typing-extensions>=4.2.0 in /Library/Frameworks/Python.framework/Versions/3.11/lib/python3.11/site-packages (from sqlalchemy) (4.7.1)\n",
      "Downloading SQLAlchemy-2.0.20-cp311-cp311-macosx_11_0_arm64.whl (2.0 MB)\n",
      "\u001b[2K   \u001b[90m━━━━━━━━━━━━━━━━━━━━━━━━━━━━━━━━━━━━━━━━\u001b[0m \u001b[32m2.0/2.0 MB\u001b[0m \u001b[31m9.9 MB/s\u001b[0m eta \u001b[36m0:00:00\u001b[0mta \u001b[36m0:00:01\u001b[0m\n",
      "\u001b[?25hInstalling collected packages: sqlalchemy\n",
      "Successfully installed sqlalchemy-2.0.20\n",
      "Note: you may need to restart the kernel to use updated packages.\n"
     ]
    }
   ],
   "source": [
    "%pip install psycopg2\n",
    "%pip install pgvector"
   ]
  },
  {
   "cell_type": "code",
   "execution_count": 229,
   "id": "2e071beb-6661-45f0-ae94-ecee1764138c",
   "metadata": {},
   "outputs": [],
   "source": [
    "import os\n",
    "import shutil\n",
    "import psycopg2\n",
    "import numpy as np\n",
    "import pgvector\n",
    "import math\n",
    "import pandas as pd\n",
    "pd.set_option('display.max_colwidth', 190)\n",
    "from pgvector.psycopg2 import register_vector\n",
    "from psycopg2.extras import execute_values\n",
    "import urllib.request as request\n",
    "from contextlib import closing"
   ]
  },
  {
   "cell_type": "markdown",
   "id": "fa4448b3-1eb0-455b-90bb-16a74955bf7f",
   "metadata": {},
   "source": [
    "# Load and prepare demo data"
   ]
  },
  {
   "cell_type": "code",
   "execution_count": 2,
   "id": "ba9b2f6c-49da-4da7-a3c6-b102a3f28b91",
   "metadata": {},
   "outputs": [],
   "source": [
    "# first we download the Sift1M dataset\n",
    "with closing(request.urlopen('ftp://ftp.irisa.fr/local/texmex/corpus/sift.tar.gz')) as r:\n",
    "    with open('sift.tar.gz', 'wb') as f:\n",
    "        shutil.copyfileobj(r, f)"
   ]
  },
  {
   "cell_type": "code",
   "execution_count": 3,
   "id": "27895b82-8314-456c-97e8-f2b443067efd",
   "metadata": {},
   "outputs": [],
   "source": [
    "import tarfile\n",
    "\n",
    "# the download leaves us with a tar.gz file, we unzip it\n",
    "tar = tarfile.open('sift.tar.gz', \"r:gz\")\n",
    "tar.extractall()"
   ]
  },
  {
   "cell_type": "code",
   "execution_count": 133,
   "id": "c5eafb64-ea0b-49b8-8daf-c490054ddda6",
   "metadata": {},
   "outputs": [],
   "source": [
    "import numpy as np\n",
    "\n",
    "# now define a function to read the fvecs file format of Sift1M dataset\n",
    "def read_fvecs(fp):\n",
    "    a = np.fromfile(fp, dtype='int32')\n",
    "    d = a[0]\n",
    "    return a.reshape(-1, d + 1)[:, 1:].copy().view('float32')"
   ]
  },
  {
   "cell_type": "code",
   "execution_count": 134,
   "id": "ed50d0e4-8c75-4a4b-860e-af0464847b97",
   "metadata": {},
   "outputs": [],
   "source": [
    "# data we will search through\n",
    "xb = read_fvecs('./sift/sift_base.fvecs')  # 1M samples\n",
    "# also get some query vectors to search with\n",
    "xq = read_fvecs('./sift/sift_query.fvecs')\n",
    "# take just one query (there are many in sift_learn.fvecs)\n",
    "xq = xq[0].reshape(1, xq.shape[1])"
   ]
  },
  {
   "cell_type": "code",
   "execution_count": 135,
   "id": "010d6588-1ae8-40ff-b631-62855d0546a9",
   "metadata": {},
   "outputs": [
    {
     "data": {
      "text/plain": [
       "(1, 128)"
      ]
     },
     "execution_count": 135,
     "metadata": {},
     "output_type": "execute_result"
    }
   ],
   "source": [
    "# The query vector\n",
    "xq.shape"
   ]
  },
  {
   "cell_type": "code",
   "execution_count": 136,
   "id": "765b34a4-5f7e-46a8-8387-624f0bf54d63",
   "metadata": {},
   "outputs": [
    {
     "data": {
      "text/plain": [
       "(1000000, 128)"
      ]
     },
     "execution_count": 136,
     "metadata": {},
     "output_type": "execute_result"
    }
   ],
   "source": [
    "# The vector search space\n",
    "xb.shape"
   ]
  },
  {
   "cell_type": "code",
   "execution_count": 137,
   "id": "2f46d7f6-40a2-40bb-b719-d46d0df87b32",
   "metadata": {},
   "outputs": [],
   "source": [
    "# Make it a two column array to match the target table schema in postgres:\n",
    "data_list = [(idx, np.array(row)) for idx, row in enumerate(xb)]"
   ]
  },
  {
   "cell_type": "markdown",
   "id": "342286ae-15dc-4eb2-b324-424b45e21004",
   "metadata": {},
   "source": [
    "# Upload vector embeddings to Postgres"
   ]
  },
  {
   "cell_type": "code",
   "execution_count": 177,
   "id": "444bd059-0b29-43f4-a76c-eb996d5be499",
   "metadata": {},
   "outputs": [],
   "source": [
    "pguser=os.getenv(\"PGUSER\")\n",
    "pgpassword=os.getenv(\"PGPASSWORD\")\n",
    "pghost=\"localhost\"\n",
    "pgdatabase=\"postgres\"\n",
    "conn = psycopg2.connect(f\"postgresql://{pguser}:{pgpassword}@{pghost}/{pgdatabase}\")\n",
    "conn.autocommit = True\n",
    "register_vector(conn)\n",
    "cur = conn.cursor()"
   ]
  },
  {
   "cell_type": "code",
   "execution_count": 376,
   "id": "8d3462ad-fee0-436f-8997-51a16291ffb7",
   "metadata": {},
   "outputs": [
    {
     "data": {
      "text/html": [
       "<div>\n",
       "<style scoped>\n",
       "    .dataframe tbody tr th:only-of-type {\n",
       "        vertical-align: middle;\n",
       "    }\n",
       "\n",
       "    .dataframe tbody tr th {\n",
       "        vertical-align: top;\n",
       "    }\n",
       "\n",
       "    .dataframe thead th {\n",
       "        text-align: right;\n",
       "    }\n",
       "</style>\n",
       "<table border=\"1\" class=\"dataframe\">\n",
       "  <thead>\n",
       "    <tr style=\"text-align: right;\">\n",
       "      <th></th>\n",
       "      <th>server_version</th>\n",
       "    </tr>\n",
       "  </thead>\n",
       "  <tbody>\n",
       "    <tr>\n",
       "      <th>0</th>\n",
       "      <td>15.4</td>\n",
       "    </tr>\n",
       "  </tbody>\n",
       "</table>\n",
       "</div>"
      ],
      "text/plain": [
       "  server_version\n",
       "0           15.4"
      ]
     },
     "execution_count": 376,
     "metadata": {},
     "output_type": "execute_result"
    }
   ],
   "source": [
    "cur.execute(\"SHOW server_version;\");pd.DataFrame(cur.fetchall(), columns=['server_version'])"
   ]
  },
  {
   "cell_type": "code",
   "execution_count": 115,
   "id": "36fee83f-d8ca-416b-bdd3-fe7d163346fd",
   "metadata": {},
   "outputs": [],
   "source": [
    "cur.execute(\"\"\"\n",
    "CREATE TABLE embeddings (\n",
    "            id int,\n",
    "            embedding vector(128)\n",
    "            );\n",
    "\"\"\")"
   ]
  },
  {
   "cell_type": "code",
   "execution_count": 116,
   "id": "6fafcde1-fbe0-4d65-b519-74ac4a86c66f",
   "metadata": {},
   "outputs": [],
   "source": [
    "# Upload the vector embeddings\n",
    "execute_values(cur, \"INSERT INTO embeddings (id, embedding) VALUES %s\", data_list)"
   ]
  },
  {
   "cell_type": "code",
   "execution_count": 370,
   "id": "a283442f-6636-4d6e-bff1-0eb4a9f1f111",
   "metadata": {},
   "outputs": [
    {
     "data": {
      "text/html": [
       "<div>\n",
       "<style scoped>\n",
       "    .dataframe tbody tr th:only-of-type {\n",
       "        vertical-align: middle;\n",
       "    }\n",
       "\n",
       "    .dataframe tbody tr th {\n",
       "        vertical-align: top;\n",
       "    }\n",
       "\n",
       "    .dataframe thead th {\n",
       "        text-align: right;\n",
       "    }\n",
       "</style>\n",
       "<table border=\"1\" class=\"dataframe\">\n",
       "  <thead>\n",
       "    <tr style=\"text-align: right;\">\n",
       "      <th></th>\n",
       "      <th>id</th>\n",
       "      <th>embedding</th>\n",
       "    </tr>\n",
       "  </thead>\n",
       "  <tbody>\n",
       "    <tr>\n",
       "      <th>0</th>\n",
       "      <td>0</td>\n",
       "      <td>[0.0, 16.0, 35.0, 5.0, 32.0, 31.0, 14.0, 10.0, 11.0, 78.0, 55.0, 10.0, 45.0, 83.0, 11.0, 6.0, 14.0, 57.0, 102.0, 75.0, 20.0, 8.0, 3.0, 5.0, 67.0, 17.0, 19.0, 26.0, 5.0, 0.0, 1.0, 22.0, 6...</td>\n",
       "    </tr>\n",
       "    <tr>\n",
       "      <th>1</th>\n",
       "      <td>1</td>\n",
       "      <td>[14.0, 35.0, 19.0, 20.0, 3.0, 1.0, 13.0, 11.0, 16.0, 119.0, 85.0, 5.0, 0.0, 5.0, 24.0, 26.0, 0.0, 27.0, 119.0, 13.0, 3.0, 9.0, 19.0, 0.0, 0.0, 11.0, 73.0, 9.0, 10.0, 3.0, 5.0, 0.0, 92.0,...</td>\n",
       "    </tr>\n",
       "    <tr>\n",
       "      <th>2</th>\n",
       "      <td>2</td>\n",
       "      <td>[0.0, 1.0, 5.0, 3.0, 44.0, 40.0, 20.0, 14.0, 10.0, 100.0, 63.0, 7.0, 44.0, 47.0, 9.0, 6.0, 7.0, 70.0, 114.0, 82.0, 11.0, 5.0, 3.0, 4.0, 30.0, 16.0, 33.0, 55.0, 5.0, 0.0, 0.0, 4.0, 104.0,...</td>\n",
       "    </tr>\n",
       "    <tr>\n",
       "      <th>3</th>\n",
       "      <td>3</td>\n",
       "      <td>[12.0, 47.0, 14.0, 25.0, 2.0, 3.0, 4.0, 7.0, 14.0, 122.0, 90.0, 7.0, 0.0, 0.0, 6.0, 14.0, 0.0, 24.0, 122.0, 22.0, 2.0, 4.0, 6.0, 0.0, 0.0, 10.0, 93.0, 10.0, 6.0, 6.0, 0.0, 0.0, 122.0, 31...</td>\n",
       "    </tr>\n",
       "    <tr>\n",
       "      <th>4</th>\n",
       "      <td>4</td>\n",
       "      <td>[1.0, 1.0, 0.0, 0.0, 14.0, 16.0, 30.0, 50.0, 2.0, 40.0, 81.0, 25.0, 65.0, 37.0, 7.0, 3.0, 13.0, 121.0, 121.0, 15.0, 2.0, 4.0, 4.0, 6.0, 0.0, 11.0, 71.0, 106.0, 2.0, 2.0, 0.0, 0.0, 92.0, ...</td>\n",
       "    </tr>\n",
       "    <tr>\n",
       "      <th>5</th>\n",
       "      <td>5</td>\n",
       "      <td>[48.0, 69.0, 9.0, 6.0, 2.0, 3.0, 7.0, 25.0, 64.0, 130.0, 33.0, 4.0, 0.0, 0.0, 0.0, 9.0, 1.0, 22.0, 66.0, 44.0, 14.0, 6.0, 0.0, 0.0, 1.0, 5.0, 7.0, 4.0, 19.0, 40.0, 1.0, 0.0, 130.0, 17.0,...</td>\n",
       "    </tr>\n",
       "    <tr>\n",
       "      <th>6</th>\n",
       "      <td>6</td>\n",
       "      <td>[0.0, 42.0, 55.0, 4.0, 16.0, 26.0, 24.0, 10.0, 1.0, 91.0, 100.0, 12.0, 42.0, 70.0, 8.0, 0.0, 17.0, 48.0, 111.0, 73.0, 19.0, 5.0, 2.0, 2.0, 68.0, 23.0, 13.0, 15.0, 6.0, 2.0, 1.0, 27.0, 98...</td>\n",
       "    </tr>\n",
       "    <tr>\n",
       "      <th>7</th>\n",
       "      <td>7</td>\n",
       "      <td>[16.0, 36.0, 10.0, 7.0, 0.0, 0.0, 31.0, 30.0, 11.0, 69.0, 90.0, 7.0, 0.0, 17.0, 38.0, 29.0, 0.0, 15.0, 112.0, 15.0, 5.0, 9.0, 41.0, 5.0, 0.0, 3.0, 22.0, 36.0, 32.0, 10.0, 6.0, 1.0, 112.0...</td>\n",
       "    </tr>\n",
       "    <tr>\n",
       "      <th>8</th>\n",
       "      <td>8</td>\n",
       "      <td>[8.0, 35.0, 11.0, 5.0, 13.0, 4.0, 4.0, 4.0, 9.0, 41.0, 110.0, 50.0, 8.0, 0.0, 3.0, 4.0, 20.0, 47.0, 110.0, 15.0, 3.0, 3.0, 1.0, 14.0, 5.0, 18.0, 50.0, 23.0, 6.0, 6.0, 4.0, 4.0, 79.0, 56....</td>\n",
       "    </tr>\n",
       "    <tr>\n",
       "      <th>9</th>\n",
       "      <td>9</td>\n",
       "      <td>[21.0, 13.0, 18.0, 11.0, 14.0, 6.0, 4.0, 14.0, 39.0, 54.0, 52.0, 10.0, 8.0, 14.0, 5.0, 2.0, 23.0, 76.0, 65.0, 10.0, 11.0, 23.0, 3.0, 0.0, 6.0, 10.0, 17.0, 5.0, 7.0, 21.0, 20.0, 13.0, 63....</td>\n",
       "    </tr>\n",
       "  </tbody>\n",
       "</table>\n",
       "</div>"
      ],
      "text/plain": [
       "   id  \\\n",
       "0   0   \n",
       "1   1   \n",
       "2   2   \n",
       "3   3   \n",
       "4   4   \n",
       "5   5   \n",
       "6   6   \n",
       "7   7   \n",
       "8   8   \n",
       "9   9   \n",
       "\n",
       "                                                                                                                                                                                       embedding  \n",
       "0  [0.0, 16.0, 35.0, 5.0, 32.0, 31.0, 14.0, 10.0, 11.0, 78.0, 55.0, 10.0, 45.0, 83.0, 11.0, 6.0, 14.0, 57.0, 102.0, 75.0, 20.0, 8.0, 3.0, 5.0, 67.0, 17.0, 19.0, 26.0, 5.0, 0.0, 1.0, 22.0, 6...  \n",
       "1  [14.0, 35.0, 19.0, 20.0, 3.0, 1.0, 13.0, 11.0, 16.0, 119.0, 85.0, 5.0, 0.0, 5.0, 24.0, 26.0, 0.0, 27.0, 119.0, 13.0, 3.0, 9.0, 19.0, 0.0, 0.0, 11.0, 73.0, 9.0, 10.0, 3.0, 5.0, 0.0, 92.0,...  \n",
       "2  [0.0, 1.0, 5.0, 3.0, 44.0, 40.0, 20.0, 14.0, 10.0, 100.0, 63.0, 7.0, 44.0, 47.0, 9.0, 6.0, 7.0, 70.0, 114.0, 82.0, 11.0, 5.0, 3.0, 4.0, 30.0, 16.0, 33.0, 55.0, 5.0, 0.0, 0.0, 4.0, 104.0,...  \n",
       "3  [12.0, 47.0, 14.0, 25.0, 2.0, 3.0, 4.0, 7.0, 14.0, 122.0, 90.0, 7.0, 0.0, 0.0, 6.0, 14.0, 0.0, 24.0, 122.0, 22.0, 2.0, 4.0, 6.0, 0.0, 0.0, 10.0, 93.0, 10.0, 6.0, 6.0, 0.0, 0.0, 122.0, 31...  \n",
       "4  [1.0, 1.0, 0.0, 0.0, 14.0, 16.0, 30.0, 50.0, 2.0, 40.0, 81.0, 25.0, 65.0, 37.0, 7.0, 3.0, 13.0, 121.0, 121.0, 15.0, 2.0, 4.0, 4.0, 6.0, 0.0, 11.0, 71.0, 106.0, 2.0, 2.0, 0.0, 0.0, 92.0, ...  \n",
       "5  [48.0, 69.0, 9.0, 6.0, 2.0, 3.0, 7.0, 25.0, 64.0, 130.0, 33.0, 4.0, 0.0, 0.0, 0.0, 9.0, 1.0, 22.0, 66.0, 44.0, 14.0, 6.0, 0.0, 0.0, 1.0, 5.0, 7.0, 4.0, 19.0, 40.0, 1.0, 0.0, 130.0, 17.0,...  \n",
       "6  [0.0, 42.0, 55.0, 4.0, 16.0, 26.0, 24.0, 10.0, 1.0, 91.0, 100.0, 12.0, 42.0, 70.0, 8.0, 0.0, 17.0, 48.0, 111.0, 73.0, 19.0, 5.0, 2.0, 2.0, 68.0, 23.0, 13.0, 15.0, 6.0, 2.0, 1.0, 27.0, 98...  \n",
       "7  [16.0, 36.0, 10.0, 7.0, 0.0, 0.0, 31.0, 30.0, 11.0, 69.0, 90.0, 7.0, 0.0, 17.0, 38.0, 29.0, 0.0, 15.0, 112.0, 15.0, 5.0, 9.0, 41.0, 5.0, 0.0, 3.0, 22.0, 36.0, 32.0, 10.0, 6.0, 1.0, 112.0...  \n",
       "8  [8.0, 35.0, 11.0, 5.0, 13.0, 4.0, 4.0, 4.0, 9.0, 41.0, 110.0, 50.0, 8.0, 0.0, 3.0, 4.0, 20.0, 47.0, 110.0, 15.0, 3.0, 3.0, 1.0, 14.0, 5.0, 18.0, 50.0, 23.0, 6.0, 6.0, 4.0, 4.0, 79.0, 56....  \n",
       "9  [21.0, 13.0, 18.0, 11.0, 14.0, 6.0, 4.0, 14.0, 39.0, 54.0, 52.0, 10.0, 8.0, 14.0, 5.0, 2.0, 23.0, 76.0, 65.0, 10.0, 11.0, 23.0, 3.0, 0.0, 6.0, 10.0, 17.0, 5.0, 7.0, 21.0, 20.0, 13.0, 63....  "
      ]
     },
     "execution_count": 370,
     "metadata": {},
     "output_type": "execute_result"
    }
   ],
   "source": [
    "# Sample of the uploaded vector embeddings\n",
    "cur.execute(\"SELECT * FROM embeddings LIMIT 10;\");pd.DataFrame(cur.fetchall(), columns=['id', 'embedding'])"
   ]
  },
  {
   "cell_type": "code",
   "execution_count": 199,
   "id": "809c1dae-9958-412b-98ec-4d3472bcb6ae",
   "metadata": {},
   "outputs": [
    {
     "data": {
      "text/html": [
       "<div>\n",
       "<style scoped>\n",
       "    .dataframe tbody tr th:only-of-type {\n",
       "        vertical-align: middle;\n",
       "    }\n",
       "\n",
       "    .dataframe tbody tr th {\n",
       "        vertical-align: top;\n",
       "    }\n",
       "\n",
       "    .dataframe thead th {\n",
       "        text-align: right;\n",
       "    }\n",
       "</style>\n",
       "<table border=\"1\" class=\"dataframe\">\n",
       "  <thead>\n",
       "    <tr style=\"text-align: right;\">\n",
       "      <th></th>\n",
       "      <th>embedding</th>\n",
       "    </tr>\n",
       "  </thead>\n",
       "  <tbody>\n",
       "    <tr>\n",
       "      <th>0</th>\n",
       "      <td>[[1.0, 3.0, 11.0, 110.0, 62.0, 22.0, 4.0, 0.0, 43.0, 21.0, 22.0, 18.0, 6.0, 28.0, 64.0, 9.0, 11.0, 1.0, 0.0, 0.0, 1.0, 40.0, 101.0, 21.0, 20.0, 2.0, 4.0, 2.0, 2.0, 9.0, 18.0, 35.0, 1.0, ...</td>\n",
       "    </tr>\n",
       "  </tbody>\n",
       "</table>\n",
       "</div>"
      ],
      "text/plain": [
       "                                                                                                                                                                                       embedding\n",
       "0  [[1.0, 3.0, 11.0, 110.0, 62.0, 22.0, 4.0, 0.0, 43.0, 21.0, 22.0, 18.0, 6.0, 28.0, 64.0, 9.0, 11.0, 1.0, 0.0, 0.0, 1.0, 40.0, 101.0, 21.0, 20.0, 2.0, 4.0, 2.0, 2.0, 9.0, 18.0, 35.0, 1.0, ..."
      ]
     },
     "execution_count": 199,
     "metadata": {},
     "output_type": "execute_result"
    }
   ],
   "source": [
    "# The input vector to be used for the vector queries\n",
    "pd.DataFrame({'embedding' : [xq]})"
   ]
  },
  {
   "cell_type": "code",
   "execution_count": 213,
   "id": "b2bd0714-e44e-4564-982a-44e19a463c3a",
   "metadata": {},
   "outputs": [],
   "source": [
    "# Prepare query vector as input literal\n",
    "query_vector = \",\".join(row for row in xq.astype('str')[0])"
   ]
  },
  {
   "cell_type": "markdown",
   "id": "cc7a3400-46c8-4b30-b203-d25326246f22",
   "metadata": {},
   "source": [
    "# Exact nearest neighbor search\n",
    "I.e., no index is being used."
   ]
  },
  {
   "cell_type": "markdown",
   "id": "22a58e09-fd3d-42b9-b874-9b66031b37b2",
   "metadata": {},
   "source": [
    "## Exact Euclidean Distance"
   ]
  },
  {
   "cell_type": "code",
   "execution_count": 465,
   "id": "a2e99942-562f-45af-a25d-f47f1114b188",
   "metadata": {},
   "outputs": [
    {
     "name": "stdout",
     "output_type": "stream",
     "text": [
      "CPU times: user 2.05 ms, sys: 3.03 ms, total: 5.08 ms\n",
      "Wall time: 126 ms\n"
     ]
    },
    {
     "data": {
      "text/html": [
       "<div>\n",
       "<style scoped>\n",
       "    .dataframe tbody tr th:only-of-type {\n",
       "        vertical-align: middle;\n",
       "    }\n",
       "\n",
       "    .dataframe tbody tr th {\n",
       "        vertical-align: top;\n",
       "    }\n",
       "\n",
       "    .dataframe thead th {\n",
       "        text-align: right;\n",
       "    }\n",
       "</style>\n",
       "<table border=\"1\" class=\"dataframe\">\n",
       "  <thead>\n",
       "    <tr style=\"text-align: right;\">\n",
       "      <th></th>\n",
       "      <th>id</th>\n",
       "      <th>distance</th>\n",
       "    </tr>\n",
       "  </thead>\n",
       "  <tbody>\n",
       "    <tr>\n",
       "      <th>0</th>\n",
       "      <td>932085</td>\n",
       "      <td>232.871209</td>\n",
       "    </tr>\n",
       "    <tr>\n",
       "      <th>1</th>\n",
       "      <td>934876</td>\n",
       "      <td>234.714720</td>\n",
       "    </tr>\n",
       "    <tr>\n",
       "      <th>2</th>\n",
       "      <td>561813</td>\n",
       "      <td>243.989754</td>\n",
       "    </tr>\n",
       "    <tr>\n",
       "      <th>3</th>\n",
       "      <td>708177</td>\n",
       "      <td>255.460369</td>\n",
       "    </tr>\n",
       "    <tr>\n",
       "      <th>4</th>\n",
       "      <td>706771</td>\n",
       "      <td>256.314260</td>\n",
       "    </tr>\n",
       "    <tr>\n",
       "      <th>5</th>\n",
       "      <td>695756</td>\n",
       "      <td>258.862898</td>\n",
       "    </tr>\n",
       "    <tr>\n",
       "      <th>6</th>\n",
       "      <td>435345</td>\n",
       "      <td>261.241268</td>\n",
       "    </tr>\n",
       "    <tr>\n",
       "      <th>7</th>\n",
       "      <td>701258</td>\n",
       "      <td>264.280154</td>\n",
       "    </tr>\n",
       "    <tr>\n",
       "      <th>8</th>\n",
       "      <td>455537</td>\n",
       "      <td>267.284493</td>\n",
       "    </tr>\n",
       "    <tr>\n",
       "      <th>9</th>\n",
       "      <td>872728</td>\n",
       "      <td>268.069021</td>\n",
       "    </tr>\n",
       "  </tbody>\n",
       "</table>\n",
       "</div>"
      ],
      "text/plain": [
       "       id    distance\n",
       "0  932085  232.871209\n",
       "1  934876  234.714720\n",
       "2  561813  243.989754\n",
       "3  708177  255.460369\n",
       "4  706771  256.314260\n",
       "5  695756  258.862898\n",
       "6  435345  261.241268\n",
       "7  701258  264.280154\n",
       "8  455537  267.284493\n",
       "9  872728  268.069021"
      ]
     },
     "execution_count": 465,
     "metadata": {},
     "output_type": "execute_result"
    }
   ],
   "source": [
    "%%time\n",
    "# Run a similarity query with euclidean distance:\n",
    "sql = f\"SELECT id, embedding <-> '[{query_vector}]' as distance FROM embeddings ORDER BY distance LIMIT 10;\"\n",
    "cur.execute(sql)\n",
    "euclidean_baseline = pd.DataFrame(cur.fetchall(), columns=['id', 'distance'])\n",
    "euclidean_baseline"
   ]
  },
  {
   "cell_type": "code",
   "execution_count": 466,
   "id": "0fc25aec-3422-4755-81eb-ac4ab637d31f",
   "metadata": {},
   "outputs": [
    {
     "data": {
      "text/html": [
       "<div>\n",
       "<style scoped>\n",
       "    .dataframe tbody tr th:only-of-type {\n",
       "        vertical-align: middle;\n",
       "    }\n",
       "\n",
       "    .dataframe tbody tr th {\n",
       "        vertical-align: top;\n",
       "    }\n",
       "\n",
       "    .dataframe thead th {\n",
       "        text-align: right;\n",
       "    }\n",
       "</style>\n",
       "<table border=\"1\" class=\"dataframe\">\n",
       "  <thead>\n",
       "    <tr style=\"text-align: right;\">\n",
       "      <th></th>\n",
       "      <th>QUERY PLAN</th>\n",
       "    </tr>\n",
       "  </thead>\n",
       "  <tbody>\n",
       "    <tr>\n",
       "      <th>9</th>\n",
       "      <td>-&gt;  Parallel Seq Scan on embeddings  (cost=0.00..76637.33 rows=416667 width=12) (actual time=0.108..97.531 rows=333333 loops=3)</td>\n",
       "    </tr>\n",
       "  </tbody>\n",
       "</table>\n",
       "</div>"
      ],
      "text/plain": [
       "                                                                                                                                      QUERY PLAN\n",
       "9                ->  Parallel Seq Scan on embeddings  (cost=0.00..76637.33 rows=416667 width=12) (actual time=0.108..97.531 rows=333333 loops=3)"
      ]
     },
     "execution_count": 466,
     "metadata": {},
     "output_type": "execute_result"
    }
   ],
   "source": [
    "# Show scan type used in embedding column in the query plan\n",
    "df=pd.read_sql_query(\"EXPLAIN ANALYZE \" + sql, engine)\n",
    "df[df['QUERY PLAN'].str.contains('Scan')]"
   ]
  },
  {
   "cell_type": "markdown",
   "id": "2141ab64-2016-44eb-8e12-171d0fb78613",
   "metadata": {},
   "source": [
    "## Exact Cosine Distance"
   ]
  },
  {
   "cell_type": "code",
   "execution_count": 471,
   "id": "64c1a488",
   "metadata": {},
   "outputs": [
    {
     "name": "stdout",
     "output_type": "stream",
     "text": [
      "CPU times: user 1.7 ms, sys: 2.09 ms, total: 3.78 ms\n",
      "Wall time: 124 ms\n"
     ]
    },
    {
     "data": {
      "text/html": [
       "<div>\n",
       "<style scoped>\n",
       "    .dataframe tbody tr th:only-of-type {\n",
       "        vertical-align: middle;\n",
       "    }\n",
       "\n",
       "    .dataframe tbody tr th {\n",
       "        vertical-align: top;\n",
       "    }\n",
       "\n",
       "    .dataframe thead th {\n",
       "        text-align: right;\n",
       "    }\n",
       "</style>\n",
       "<table border=\"1\" class=\"dataframe\">\n",
       "  <thead>\n",
       "    <tr style=\"text-align: right;\">\n",
       "      <th></th>\n",
       "      <th>id</th>\n",
       "      <th>distance</th>\n",
       "    </tr>\n",
       "  </thead>\n",
       "  <tbody>\n",
       "    <tr>\n",
       "      <th>0</th>\n",
       "      <td>932085</td>\n",
       "      <td>0.105112</td>\n",
       "    </tr>\n",
       "    <tr>\n",
       "      <th>1</th>\n",
       "      <td>934876</td>\n",
       "      <td>0.106705</td>\n",
       "    </tr>\n",
       "    <tr>\n",
       "      <th>2</th>\n",
       "      <td>561813</td>\n",
       "      <td>0.115366</td>\n",
       "    </tr>\n",
       "    <tr>\n",
       "      <th>3</th>\n",
       "      <td>708177</td>\n",
       "      <td>0.126512</td>\n",
       "    </tr>\n",
       "    <tr>\n",
       "      <th>4</th>\n",
       "      <td>706771</td>\n",
       "      <td>0.127323</td>\n",
       "    </tr>\n",
       "    <tr>\n",
       "      <th>5</th>\n",
       "      <td>695756</td>\n",
       "      <td>0.129983</td>\n",
       "    </tr>\n",
       "    <tr>\n",
       "      <th>6</th>\n",
       "      <td>435345</td>\n",
       "      <td>0.132089</td>\n",
       "    </tr>\n",
       "    <tr>\n",
       "      <th>7</th>\n",
       "      <td>701258</td>\n",
       "      <td>0.135184</td>\n",
       "    </tr>\n",
       "    <tr>\n",
       "      <th>8</th>\n",
       "      <td>455537</td>\n",
       "      <td>0.138418</td>\n",
       "    </tr>\n",
       "    <tr>\n",
       "      <th>9</th>\n",
       "      <td>872728</td>\n",
       "      <td>0.138856</td>\n",
       "    </tr>\n",
       "  </tbody>\n",
       "</table>\n",
       "</div>"
      ],
      "text/plain": [
       "       id  distance\n",
       "0  932085  0.105112\n",
       "1  934876  0.106705\n",
       "2  561813  0.115366\n",
       "3  708177  0.126512\n",
       "4  706771  0.127323\n",
       "5  695756  0.129983\n",
       "6  435345  0.132089\n",
       "7  701258  0.135184\n",
       "8  455537  0.138418\n",
       "9  872728  0.138856"
      ]
     },
     "execution_count": 471,
     "metadata": {},
     "output_type": "execute_result"
    }
   ],
   "source": [
    "%%time\n",
    "# Run a similarity query with cosine distance:\n",
    "sql = f\"SELECT id, embedding <=> '[{query_vector}]' as distance FROM embeddings ORDER BY distance LIMIT 10;\"\n",
    "cur.execute(sql)\n",
    "cosine_baseline = pd.DataFrame(cur.fetchall(), columns=['id', 'distance'])\n",
    "cosine_baseline"
   ]
  },
  {
   "cell_type": "code",
   "execution_count": 468,
   "id": "054fc861-6555-447c-a865-cb101d76eee0",
   "metadata": {},
   "outputs": [
    {
     "data": {
      "text/html": [
       "<div>\n",
       "<style scoped>\n",
       "    .dataframe tbody tr th:only-of-type {\n",
       "        vertical-align: middle;\n",
       "    }\n",
       "\n",
       "    .dataframe tbody tr th {\n",
       "        vertical-align: top;\n",
       "    }\n",
       "\n",
       "    .dataframe thead th {\n",
       "        text-align: right;\n",
       "    }\n",
       "</style>\n",
       "<table border=\"1\" class=\"dataframe\">\n",
       "  <thead>\n",
       "    <tr style=\"text-align: right;\">\n",
       "      <th></th>\n",
       "      <th>QUERY PLAN</th>\n",
       "    </tr>\n",
       "  </thead>\n",
       "  <tbody>\n",
       "    <tr>\n",
       "      <th>9</th>\n",
       "      <td>-&gt;  Parallel Seq Scan on embeddings  (cost=0.00..76637.33 rows=416667 width=12) (actual time=0.114..99.913 rows=333333 loops=3)</td>\n",
       "    </tr>\n",
       "  </tbody>\n",
       "</table>\n",
       "</div>"
      ],
      "text/plain": [
       "                                                                                                                                      QUERY PLAN\n",
       "9                ->  Parallel Seq Scan on embeddings  (cost=0.00..76637.33 rows=416667 width=12) (actual time=0.114..99.913 rows=333333 loops=3)"
      ]
     },
     "execution_count": 468,
     "metadata": {},
     "output_type": "execute_result"
    }
   ],
   "source": [
    "# Show scan type used in embedding column in the query plan\n",
    "df=pd.read_sql_query(\"EXPLAIN ANALYZE \" + sql, engine)\n",
    "df[df['QUERY PLAN'].str.contains('Scan')]"
   ]
  },
  {
   "cell_type": "markdown",
   "id": "823583c4-accd-4b6c-9470-e90cd4d61a86",
   "metadata": {},
   "source": [
    "## Exact Dot Product Distance"
   ]
  },
  {
   "cell_type": "code",
   "execution_count": 472,
   "id": "4b86b04c",
   "metadata": {},
   "outputs": [
    {
     "name": "stdout",
     "output_type": "stream",
     "text": [
      "CPU times: user 2.05 ms, sys: 2.7 ms, total: 4.75 ms\n",
      "Wall time: 126 ms\n"
     ]
    },
    {
     "data": {
      "text/html": [
       "<div>\n",
       "<style scoped>\n",
       "    .dataframe tbody tr th:only-of-type {\n",
       "        vertical-align: middle;\n",
       "    }\n",
       "\n",
       "    .dataframe tbody tr th {\n",
       "        vertical-align: top;\n",
       "    }\n",
       "\n",
       "    .dataframe thead th {\n",
       "        text-align: right;\n",
       "    }\n",
       "</style>\n",
       "<table border=\"1\" class=\"dataframe\">\n",
       "  <thead>\n",
       "    <tr style=\"text-align: right;\">\n",
       "      <th></th>\n",
       "      <th>id</th>\n",
       "      <th>distance</th>\n",
       "    </tr>\n",
       "  </thead>\n",
       "  <tbody>\n",
       "    <tr>\n",
       "      <th>0</th>\n",
       "      <td>932085</td>\n",
       "      <td>-230843.0</td>\n",
       "    </tr>\n",
       "    <tr>\n",
       "      <th>1</th>\n",
       "      <td>934876</td>\n",
       "      <td>-230600.0</td>\n",
       "    </tr>\n",
       "    <tr>\n",
       "      <th>2</th>\n",
       "      <td>561813</td>\n",
       "      <td>-228242.0</td>\n",
       "    </tr>\n",
       "    <tr>\n",
       "      <th>3</th>\n",
       "      <td>708177</td>\n",
       "      <td>-225288.0</td>\n",
       "    </tr>\n",
       "    <tr>\n",
       "      <th>4</th>\n",
       "      <td>706771</td>\n",
       "      <td>-225144.0</td>\n",
       "    </tr>\n",
       "    <tr>\n",
       "      <th>5</th>\n",
       "      <td>695756</td>\n",
       "      <td>-224256.0</td>\n",
       "    </tr>\n",
       "    <tr>\n",
       "      <th>6</th>\n",
       "      <td>435345</td>\n",
       "      <td>-224214.0</td>\n",
       "    </tr>\n",
       "    <tr>\n",
       "      <th>7</th>\n",
       "      <td>701258</td>\n",
       "      <td>-223408.0</td>\n",
       "    </tr>\n",
       "    <tr>\n",
       "      <th>8</th>\n",
       "      <td>872728</td>\n",
       "      <td>-222827.0</td>\n",
       "    </tr>\n",
       "    <tr>\n",
       "      <th>9</th>\n",
       "      <td>455537</td>\n",
       "      <td>-222341.0</td>\n",
       "    </tr>\n",
       "  </tbody>\n",
       "</table>\n",
       "</div>"
      ],
      "text/plain": [
       "       id  distance\n",
       "0  932085 -230843.0\n",
       "1  934876 -230600.0\n",
       "2  561813 -228242.0\n",
       "3  708177 -225288.0\n",
       "4  706771 -225144.0\n",
       "5  695756 -224256.0\n",
       "6  435345 -224214.0\n",
       "7  701258 -223408.0\n",
       "8  872728 -222827.0\n",
       "9  455537 -222341.0"
      ]
     },
     "execution_count": 472,
     "metadata": {},
     "output_type": "execute_result"
    }
   ],
   "source": [
    "%%time\n",
    "# Run a similarity query with dot product distance:\n",
    "sql = f\"SELECT id, embedding <#> '[{query_vector}]' as distance FROM embeddings ORDER BY distance LIMIT 10;\"\n",
    "cur.execute(sql)\n",
    "dot_product_baseline = pd.DataFrame(cur.fetchall(), columns=['id', 'distance'])\n",
    "dot_product_baseline"
   ]
  },
  {
   "cell_type": "code",
   "execution_count": 470,
   "id": "315bc499-cc49-420e-b6a9-be88ef90952c",
   "metadata": {},
   "outputs": [
    {
     "data": {
      "text/html": [
       "<div>\n",
       "<style scoped>\n",
       "    .dataframe tbody tr th:only-of-type {\n",
       "        vertical-align: middle;\n",
       "    }\n",
       "\n",
       "    .dataframe tbody tr th {\n",
       "        vertical-align: top;\n",
       "    }\n",
       "\n",
       "    .dataframe thead th {\n",
       "        text-align: right;\n",
       "    }\n",
       "</style>\n",
       "<table border=\"1\" class=\"dataframe\">\n",
       "  <thead>\n",
       "    <tr style=\"text-align: right;\">\n",
       "      <th></th>\n",
       "      <th>QUERY PLAN</th>\n",
       "    </tr>\n",
       "  </thead>\n",
       "  <tbody>\n",
       "    <tr>\n",
       "      <th>9</th>\n",
       "      <td>-&gt;  Parallel Seq Scan on embeddings  (cost=0.00..76637.33 rows=416667 width=12) (actual time=0.202..102.335 rows=333333 loops=3)</td>\n",
       "    </tr>\n",
       "  </tbody>\n",
       "</table>\n",
       "</div>"
      ],
      "text/plain": [
       "                                                                                                                                       QUERY PLAN\n",
       "9                ->  Parallel Seq Scan on embeddings  (cost=0.00..76637.33 rows=416667 width=12) (actual time=0.202..102.335 rows=333333 loops=3)"
      ]
     },
     "execution_count": 470,
     "metadata": {},
     "output_type": "execute_result"
    }
   ],
   "source": [
    "# Show scan type used in embedding column in the query plan\n",
    "df=pd.read_sql_query(\"EXPLAIN ANALYZE \" + sql, engine)\n",
    "df[df['QUERY PLAN'].str.contains('Scan')]"
   ]
  },
  {
   "cell_type": "markdown",
   "id": "20330a91-3c89-4ffb-aee8-f33745873c1c",
   "metadata": {},
   "source": [
    "# IVFflat Index Nearest Neighbor Search"
   ]
  },
  {
   "cell_type": "code",
   "execution_count": 473,
   "id": "5ba11c48-4bfa-47ac-bbb9-9f52c67cde22",
   "metadata": {},
   "outputs": [
    {
     "name": "stdout",
     "output_type": "stream",
     "text": [
      "CPU times: user 4.9 ms, sys: 4.92 ms, total: 9.82 ms\n",
      "Wall time: 1min 20s\n"
     ]
    }
   ],
   "source": [
    "%%time\n",
    "# Create three IVF indexes for euclidean, cosine and dot product distances\n",
    "# In a separate session you can check progress using: SELECT phase, tuples_done, tuples_total FROM pg_stat_progress_create_index;\n",
    "cur.execute(\"SET maintenance_work_mem TO '256 MB';\")\n",
    "number_of_lists = round(len(xb) / 1000)\n",
    "cur.execute(f\"CREATE INDEX euclidean_embeddings_idx ON embeddings USING ivfflat (embedding vector_l2_ops) WITH (lists = {number_of_lists});\")\n",
    "cur.execute(f\"CREATE INDEX cosine_embeddings_idx ON embeddings USING ivfflat (embedding vector_cosine_ops) WITH (lists = {number_of_lists});\")\n",
    "cur.execute(f\"CREATE INDEX dotproduct_embeddings_idx ON embeddings USING ivfflat (embedding vector_ip_ops) WITH (lists = {number_of_lists});\")"
   ]
  },
  {
   "cell_type": "code",
   "execution_count": 474,
   "id": "312e9325-925c-49cb-b3bd-1aae92013546",
   "metadata": {},
   "outputs": [
    {
     "data": {
      "text/html": [
       "<div>\n",
       "<style scoped>\n",
       "    .dataframe tbody tr th:only-of-type {\n",
       "        vertical-align: middle;\n",
       "    }\n",
       "\n",
       "    .dataframe tbody tr th {\n",
       "        vertical-align: top;\n",
       "    }\n",
       "\n",
       "    .dataframe thead th {\n",
       "        text-align: right;\n",
       "    }\n",
       "</style>\n",
       "<table border=\"1\" class=\"dataframe\">\n",
       "  <thead>\n",
       "    <tr style=\"text-align: right;\">\n",
       "      <th></th>\n",
       "      <th>pg_size_pretty</th>\n",
       "    </tr>\n",
       "  </thead>\n",
       "  <tbody>\n",
       "    <tr>\n",
       "      <th>0</th>\n",
       "      <td>947 MB</td>\n",
       "    </tr>\n",
       "  </tbody>\n",
       "</table>\n",
       "</div>"
      ],
      "text/plain": [
       "  pg_size_pretty\n",
       "0         947 MB"
      ]
     },
     "execution_count": 474,
     "metadata": {},
     "output_type": "execute_result"
    }
   ],
   "source": [
    "# Get index size\n",
    "cur.execute(\"select pg_size_pretty (pg_indexes_size('embeddings'));\");pd.DataFrame(cur.fetchall(), columns=['pg_size_pretty'])"
   ]
  },
  {
   "cell_type": "markdown",
   "id": "133124d3-acd9-4ac5-9eb4-453f67369b80",
   "metadata": {},
   "source": [
    "## Euclidean Distance with IVF"
   ]
  },
  {
   "cell_type": "code",
   "execution_count": 509,
   "id": "570a5c05-7b3e-429b-a1dd-6181a1105e20",
   "metadata": {},
   "outputs": [
    {
     "name": "stdout",
     "output_type": "stream",
     "text": [
      "CPU times: user 2.08 ms, sys: 2.66 ms, total: 4.73 ms\n",
      "Wall time: 71.1 ms\n"
     ]
    },
    {
     "data": {
      "text/html": [
       "<div>\n",
       "<style scoped>\n",
       "    .dataframe tbody tr th:only-of-type {\n",
       "        vertical-align: middle;\n",
       "    }\n",
       "\n",
       "    .dataframe tbody tr th {\n",
       "        vertical-align: top;\n",
       "    }\n",
       "\n",
       "    .dataframe thead th {\n",
       "        text-align: right;\n",
       "    }\n",
       "</style>\n",
       "<table border=\"1\" class=\"dataframe\">\n",
       "  <thead>\n",
       "    <tr style=\"text-align: right;\">\n",
       "      <th></th>\n",
       "      <th>id</th>\n",
       "      <th>distance</th>\n",
       "    </tr>\n",
       "  </thead>\n",
       "  <tbody>\n",
       "    <tr>\n",
       "      <th>0</th>\n",
       "      <td>932085</td>\n",
       "      <td>232.871209</td>\n",
       "    </tr>\n",
       "    <tr>\n",
       "      <th>1</th>\n",
       "      <td>934876</td>\n",
       "      <td>234.714720</td>\n",
       "    </tr>\n",
       "    <tr>\n",
       "      <th>2</th>\n",
       "      <td>561813</td>\n",
       "      <td>243.989754</td>\n",
       "    </tr>\n",
       "    <tr>\n",
       "      <th>3</th>\n",
       "      <td>708177</td>\n",
       "      <td>255.460369</td>\n",
       "    </tr>\n",
       "    <tr>\n",
       "      <th>4</th>\n",
       "      <td>706771</td>\n",
       "      <td>256.314260</td>\n",
       "    </tr>\n",
       "    <tr>\n",
       "      <th>5</th>\n",
       "      <td>435345</td>\n",
       "      <td>261.241268</td>\n",
       "    </tr>\n",
       "    <tr>\n",
       "      <th>6</th>\n",
       "      <td>701258</td>\n",
       "      <td>264.280154</td>\n",
       "    </tr>\n",
       "    <tr>\n",
       "      <th>7</th>\n",
       "      <td>455537</td>\n",
       "      <td>267.284493</td>\n",
       "    </tr>\n",
       "    <tr>\n",
       "      <th>8</th>\n",
       "      <td>872728</td>\n",
       "      <td>268.069021</td>\n",
       "    </tr>\n",
       "    <tr>\n",
       "      <th>9</th>\n",
       "      <td>36538</td>\n",
       "      <td>270.820974</td>\n",
       "    </tr>\n",
       "  </tbody>\n",
       "</table>\n",
       "</div>"
      ],
      "text/plain": [
       "       id    distance\n",
       "0  932085  232.871209\n",
       "1  934876  234.714720\n",
       "2  561813  243.989754\n",
       "3  708177  255.460369\n",
       "4  706771  256.314260\n",
       "5  435345  261.241268\n",
       "6  701258  264.280154\n",
       "7  455537  267.284493\n",
       "8  872728  268.069021\n",
       "9   36538  270.820974"
      ]
     },
     "execution_count": 509,
     "metadata": {},
     "output_type": "execute_result"
    }
   ],
   "source": [
    "%%time\n",
    "# Run a similarity query with euclidean distance and IVF index:\n",
    "number_of_probes=round(math.sqrt(number_of_lists))\n",
    "cur.execute(f\"SET ivfflat.probes = {number_of_probes};\")\n",
    "sql = f\"SELECT id, embedding <-> '[{query_vector}]' as distance FROM embeddings ORDER BY distance LIMIT 10;\"\n",
    "cur.execute(sql)\n",
    "euclidean_ivf = pd.DataFrame(cur.fetchall(), columns=['id', 'distance'])\n",
    "euclidean_ivf"
   ]
  },
  {
   "cell_type": "code",
   "execution_count": 510,
   "id": "2813ce78-6f83-45be-914c-e30e673b8a9c",
   "metadata": {},
   "outputs": [
    {
     "data": {
      "text/html": [
       "<div>\n",
       "<style scoped>\n",
       "    .dataframe tbody tr th:only-of-type {\n",
       "        vertical-align: middle;\n",
       "    }\n",
       "\n",
       "    .dataframe tbody tr th {\n",
       "        vertical-align: top;\n",
       "    }\n",
       "\n",
       "    .dataframe thead th {\n",
       "        text-align: right;\n",
       "    }\n",
       "</style>\n",
       "<table border=\"1\" class=\"dataframe\">\n",
       "  <thead>\n",
       "    <tr style=\"text-align: right;\">\n",
       "      <th></th>\n",
       "      <th>QUERY PLAN</th>\n",
       "    </tr>\n",
       "  </thead>\n",
       "  <tbody>\n",
       "    <tr>\n",
       "      <th>1</th>\n",
       "      <td>-&gt;  Index Scan using euclidean_embeddings_idx on embeddings  (cost=105.00..6591.00 rows=1000000 width=12) (actual time=5.167..5.182 rows=10 loops=1)</td>\n",
       "    </tr>\n",
       "  </tbody>\n",
       "</table>\n",
       "</div>"
      ],
      "text/plain": [
       "                                                                                                                                               QUERY PLAN\n",
       "1    ->  Index Scan using euclidean_embeddings_idx on embeddings  (cost=105.00..6591.00 rows=1000000 width=12) (actual time=5.167..5.182 rows=10 loops=1)"
      ]
     },
     "execution_count": 510,
     "metadata": {},
     "output_type": "execute_result"
    }
   ],
   "source": [
    "# Show scan type used in embedding column in the query plan\n",
    "df=pd.read_sql_query(\"EXPLAIN ANALYZE \" + sql, engine)\n",
    "df[df['QUERY PLAN'].str.contains('Scan')]"
   ]
  },
  {
   "cell_type": "code",
   "execution_count": 511,
   "id": "9b409d93-31ed-4cc1-a12b-8c8a49253fe2",
   "metadata": {},
   "outputs": [
    {
     "data": {
      "text/plain": [
       "90.0"
      ]
     },
     "execution_count": 511,
     "metadata": {},
     "output_type": "execute_result"
    }
   ],
   "source": [
    "# Calculate Recall Percentage for euclidean distance IVF lookup:\n",
    "baseline = euclidean_baseline[\"distance\"].to_numpy()\n",
    "baseline[np.in1d(baseline, euclidean_ivf[\"distance\"].to_numpy()).tolist()].size / baseline.size * 100"
   ]
  },
  {
   "cell_type": "markdown",
   "id": "cc2084a5-9cfb-45da-905c-a2d80edf8f8b",
   "metadata": {},
   "source": [
    "## Cosine Distance with IVF"
   ]
  },
  {
   "cell_type": "code",
   "execution_count": 516,
   "id": "4a69d1a1-156b-4d9f-9c59-4490cfc06177",
   "metadata": {},
   "outputs": [
    {
     "name": "stdout",
     "output_type": "stream",
     "text": [
      "CPU times: user 1.71 ms, sys: 1.76 ms, total: 3.46 ms\n",
      "Wall time: 70.6 ms\n"
     ]
    },
    {
     "data": {
      "text/html": [
       "<div>\n",
       "<style scoped>\n",
       "    .dataframe tbody tr th:only-of-type {\n",
       "        vertical-align: middle;\n",
       "    }\n",
       "\n",
       "    .dataframe tbody tr th {\n",
       "        vertical-align: top;\n",
       "    }\n",
       "\n",
       "    .dataframe thead th {\n",
       "        text-align: right;\n",
       "    }\n",
       "</style>\n",
       "<table border=\"1\" class=\"dataframe\">\n",
       "  <thead>\n",
       "    <tr style=\"text-align: right;\">\n",
       "      <th></th>\n",
       "      <th>id</th>\n",
       "      <th>distance</th>\n",
       "    </tr>\n",
       "  </thead>\n",
       "  <tbody>\n",
       "    <tr>\n",
       "      <th>0</th>\n",
       "      <td>932085</td>\n",
       "      <td>0.105112</td>\n",
       "    </tr>\n",
       "    <tr>\n",
       "      <th>1</th>\n",
       "      <td>934876</td>\n",
       "      <td>0.106705</td>\n",
       "    </tr>\n",
       "    <tr>\n",
       "      <th>2</th>\n",
       "      <td>561813</td>\n",
       "      <td>0.115366</td>\n",
       "    </tr>\n",
       "    <tr>\n",
       "      <th>3</th>\n",
       "      <td>708177</td>\n",
       "      <td>0.126512</td>\n",
       "    </tr>\n",
       "    <tr>\n",
       "      <th>4</th>\n",
       "      <td>706771</td>\n",
       "      <td>0.127323</td>\n",
       "    </tr>\n",
       "    <tr>\n",
       "      <th>5</th>\n",
       "      <td>695756</td>\n",
       "      <td>0.129983</td>\n",
       "    </tr>\n",
       "    <tr>\n",
       "      <th>6</th>\n",
       "      <td>435345</td>\n",
       "      <td>0.132089</td>\n",
       "    </tr>\n",
       "    <tr>\n",
       "      <th>7</th>\n",
       "      <td>701258</td>\n",
       "      <td>0.135184</td>\n",
       "    </tr>\n",
       "    <tr>\n",
       "      <th>8</th>\n",
       "      <td>455537</td>\n",
       "      <td>0.138418</td>\n",
       "    </tr>\n",
       "    <tr>\n",
       "      <th>9</th>\n",
       "      <td>872728</td>\n",
       "      <td>0.138856</td>\n",
       "    </tr>\n",
       "  </tbody>\n",
       "</table>\n",
       "</div>"
      ],
      "text/plain": [
       "       id  distance\n",
       "0  932085  0.105112\n",
       "1  934876  0.106705\n",
       "2  561813  0.115366\n",
       "3  708177  0.126512\n",
       "4  706771  0.127323\n",
       "5  695756  0.129983\n",
       "6  435345  0.132089\n",
       "7  701258  0.135184\n",
       "8  455537  0.138418\n",
       "9  872728  0.138856"
      ]
     },
     "execution_count": 516,
     "metadata": {},
     "output_type": "execute_result"
    }
   ],
   "source": [
    "%%time\n",
    "# Run a similarity query with cosine distance and IVF index:\n",
    "sql = f\"SELECT id, embedding <=> '[{query_vector}]' as distance FROM embeddings ORDER BY distance LIMIT 10;\"\n",
    "cur.execute(sql)\n",
    "cosine_ivf = pd.DataFrame(cur.fetchall(), columns=['id', 'distance'])\n",
    "cosine_ivf"
   ]
  },
  {
   "cell_type": "code",
   "execution_count": 513,
   "id": "a533226d-9d96-4ae1-ac22-d086c7afa135",
   "metadata": {},
   "outputs": [
    {
     "data": {
      "text/html": [
       "<div>\n",
       "<style scoped>\n",
       "    .dataframe tbody tr th:only-of-type {\n",
       "        vertical-align: middle;\n",
       "    }\n",
       "\n",
       "    .dataframe tbody tr th {\n",
       "        vertical-align: top;\n",
       "    }\n",
       "\n",
       "    .dataframe thead th {\n",
       "        text-align: right;\n",
       "    }\n",
       "</style>\n",
       "<table border=\"1\" class=\"dataframe\">\n",
       "  <thead>\n",
       "    <tr style=\"text-align: right;\">\n",
       "      <th></th>\n",
       "      <th>QUERY PLAN</th>\n",
       "    </tr>\n",
       "  </thead>\n",
       "  <tbody>\n",
       "    <tr>\n",
       "      <th>1</th>\n",
       "      <td>-&gt;  Index Scan using cosine_embeddings_idx on embeddings  (cost=120.00..6606.00 rows=1000000 width=12) (actual time=6.923..7.181 rows=10 loops=1)</td>\n",
       "    </tr>\n",
       "  </tbody>\n",
       "</table>\n",
       "</div>"
      ],
      "text/plain": [
       "                                                                                                                                            QUERY PLAN\n",
       "1    ->  Index Scan using cosine_embeddings_idx on embeddings  (cost=120.00..6606.00 rows=1000000 width=12) (actual time=6.923..7.181 rows=10 loops=1)"
      ]
     },
     "execution_count": 513,
     "metadata": {},
     "output_type": "execute_result"
    }
   ],
   "source": [
    "# Show scan type used in embedding column in the query plan\n",
    "df=pd.read_sql_query(\"EXPLAIN ANALYZE \" + sql, engine)\n",
    "df[df['QUERY PLAN'].str.contains('Scan')]"
   ]
  },
  {
   "cell_type": "code",
   "execution_count": 514,
   "id": "21c58555-511c-45fb-a5b5-2980efb7fee7",
   "metadata": {},
   "outputs": [
    {
     "data": {
      "text/plain": [
       "100.0"
      ]
     },
     "execution_count": 514,
     "metadata": {},
     "output_type": "execute_result"
    }
   ],
   "source": [
    "# Calculate Recall Percentage for cosine distance IVF lookup:\n",
    "baseline = cosine_baseline[\"distance\"].to_numpy()\n",
    "baseline[np.in1d(baseline, cosine_ivf[\"distance\"].to_numpy()).tolist()].size / baseline.size * 100"
   ]
  },
  {
   "cell_type": "markdown",
   "id": "ba09a323-f849-49e3-992a-12810e6b5e27",
   "metadata": {},
   "source": [
    "## Dot Product Distance with IVF"
   ]
  },
  {
   "cell_type": "code",
   "execution_count": 519,
   "id": "aa644223-014d-487c-b5a2-839a55974cf8",
   "metadata": {},
   "outputs": [
    {
     "name": "stdout",
     "output_type": "stream",
     "text": [
      "CPU times: user 2.07 ms, sys: 2.71 ms, total: 4.78 ms\n",
      "Wall time: 69.7 ms\n"
     ]
    },
    {
     "data": {
      "text/html": [
       "<div>\n",
       "<style scoped>\n",
       "    .dataframe tbody tr th:only-of-type {\n",
       "        vertical-align: middle;\n",
       "    }\n",
       "\n",
       "    .dataframe tbody tr th {\n",
       "        vertical-align: top;\n",
       "    }\n",
       "\n",
       "    .dataframe thead th {\n",
       "        text-align: right;\n",
       "    }\n",
       "</style>\n",
       "<table border=\"1\" class=\"dataframe\">\n",
       "  <thead>\n",
       "    <tr style=\"text-align: right;\">\n",
       "      <th></th>\n",
       "      <th>id</th>\n",
       "      <th>distance</th>\n",
       "    </tr>\n",
       "  </thead>\n",
       "  <tbody>\n",
       "    <tr>\n",
       "      <th>0</th>\n",
       "      <td>932085</td>\n",
       "      <td>-230843.0</td>\n",
       "    </tr>\n",
       "    <tr>\n",
       "      <th>1</th>\n",
       "      <td>934876</td>\n",
       "      <td>-230600.0</td>\n",
       "    </tr>\n",
       "    <tr>\n",
       "      <th>2</th>\n",
       "      <td>561813</td>\n",
       "      <td>-228242.0</td>\n",
       "    </tr>\n",
       "    <tr>\n",
       "      <th>3</th>\n",
       "      <td>708177</td>\n",
       "      <td>-225288.0</td>\n",
       "    </tr>\n",
       "    <tr>\n",
       "      <th>4</th>\n",
       "      <td>706771</td>\n",
       "      <td>-225144.0</td>\n",
       "    </tr>\n",
       "    <tr>\n",
       "      <th>5</th>\n",
       "      <td>435345</td>\n",
       "      <td>-224214.0</td>\n",
       "    </tr>\n",
       "    <tr>\n",
       "      <th>6</th>\n",
       "      <td>701258</td>\n",
       "      <td>-223408.0</td>\n",
       "    </tr>\n",
       "    <tr>\n",
       "      <th>7</th>\n",
       "      <td>872728</td>\n",
       "      <td>-222827.0</td>\n",
       "    </tr>\n",
       "    <tr>\n",
       "      <th>8</th>\n",
       "      <td>455537</td>\n",
       "      <td>-222341.0</td>\n",
       "    </tr>\n",
       "    <tr>\n",
       "      <th>9</th>\n",
       "      <td>562594</td>\n",
       "      <td>-221958.0</td>\n",
       "    </tr>\n",
       "  </tbody>\n",
       "</table>\n",
       "</div>"
      ],
      "text/plain": [
       "       id  distance\n",
       "0  932085 -230843.0\n",
       "1  934876 -230600.0\n",
       "2  561813 -228242.0\n",
       "3  708177 -225288.0\n",
       "4  706771 -225144.0\n",
       "5  435345 -224214.0\n",
       "6  701258 -223408.0\n",
       "7  872728 -222827.0\n",
       "8  455537 -222341.0\n",
       "9  562594 -221958.0"
      ]
     },
     "execution_count": 519,
     "metadata": {},
     "output_type": "execute_result"
    }
   ],
   "source": [
    "%%time\n",
    "# Run a similarity query with dot product distance and IVF index:\n",
    "sql = f\"SELECT id, embedding <#> '[{query_vector}]' as distance FROM embeddings ORDER BY distance LIMIT 10;\"\n",
    "cur.execute(sql)\n",
    "dot_product_ivf = pd.DataFrame(cur.fetchall(), columns=['id', 'distance'])\n",
    "dot_product_ivf"
   ]
  },
  {
   "cell_type": "code",
   "execution_count": 520,
   "id": "a1b4c4bb-941c-4c1c-876c-6e13525b8537",
   "metadata": {},
   "outputs": [
    {
     "data": {
      "text/html": [
       "<div>\n",
       "<style scoped>\n",
       "    .dataframe tbody tr th:only-of-type {\n",
       "        vertical-align: middle;\n",
       "    }\n",
       "\n",
       "    .dataframe tbody tr th {\n",
       "        vertical-align: top;\n",
       "    }\n",
       "\n",
       "    .dataframe thead th {\n",
       "        text-align: right;\n",
       "    }\n",
       "</style>\n",
       "<table border=\"1\" class=\"dataframe\">\n",
       "  <thead>\n",
       "    <tr style=\"text-align: right;\">\n",
       "      <th></th>\n",
       "      <th>QUERY PLAN</th>\n",
       "    </tr>\n",
       "  </thead>\n",
       "  <tbody>\n",
       "    <tr>\n",
       "      <th>1</th>\n",
       "      <td>-&gt;  Index Scan using dotproduct_embeddings_idx on embeddings  (cost=105.00..6591.00 rows=1000000 width=12) (actual time=5.197..5.221 rows=10 loops=1)</td>\n",
       "    </tr>\n",
       "  </tbody>\n",
       "</table>\n",
       "</div>"
      ],
      "text/plain": [
       "                                                                                                                                                QUERY PLAN\n",
       "1    ->  Index Scan using dotproduct_embeddings_idx on embeddings  (cost=105.00..6591.00 rows=1000000 width=12) (actual time=5.197..5.221 rows=10 loops=1)"
      ]
     },
     "execution_count": 520,
     "metadata": {},
     "output_type": "execute_result"
    }
   ],
   "source": [
    "# Show scan type used in embedding column in the query plan\n",
    "df=pd.read_sql_query(\"EXPLAIN ANALYZE \" + sql, engine)\n",
    "df[df['QUERY PLAN'].str.contains('Scan')]"
   ]
  },
  {
   "cell_type": "code",
   "execution_count": 521,
   "id": "026f3153-d0b5-4444-85db-0d5e431689a0",
   "metadata": {},
   "outputs": [
    {
     "data": {
      "text/plain": [
       "90.0"
      ]
     },
     "execution_count": 521,
     "metadata": {},
     "output_type": "execute_result"
    }
   ],
   "source": [
    "# Calculate Recall Percentage for cosine distance IVF lookup:\n",
    "baseline = dot_product_baseline[\"distance\"].to_numpy()\n",
    "baseline[np.in1d(baseline, dot_product_ivf[\"distance\"].to_numpy()).tolist()].size / baseline.size * 100"
   ]
  },
  {
   "cell_type": "code",
   "execution_count": 522,
   "id": "c1aa58ac-a1ab-4f53-9b79-781898ac5452",
   "metadata": {},
   "outputs": [],
   "source": [
    "# Clean up IVF indexes\n",
    "cur.execute(\"DROP INDEX euclidean_embeddings_idx;\")\n",
    "cur.execute(\"DROP INDEX cosine_embeddings_idx;\")\n",
    "cur.execute(\"DROP INDEX dotproduct_embeddings_idx;\")"
   ]
  },
  {
   "cell_type": "markdown",
   "id": "bbf4191e-2cb2-4660-93a6-b6d9bdf2421f",
   "metadata": {},
   "source": [
    "# HNSW Index Nearest Neighbor Search"
   ]
  },
  {
   "cell_type": "code",
   "execution_count": 523,
   "id": "383e47f1-896d-46ee-bb85-b0e0ea1babcd",
   "metadata": {},
   "outputs": [
    {
     "name": "stdout",
     "output_type": "stream",
     "text": [
      "CPU times: user 256 ms, sys: 131 ms, total: 387 ms\n",
      "Wall time: 1h 52min 43s\n"
     ]
    }
   ],
   "source": [
    "%%time\n",
    "# Create three HNSW indexes for euclidean, cosine and dot product distances\n",
    "# In a separate session you can check progress using: SELECT phase, tuples_done, tuples_total FROM pg_stat_progress_create_index;\n",
    "cur.execute(\"SET maintenance_work_mem TO '256 MB';\")\n",
    "number_of_neighbors_per_vertex = 16 # default is 16\n",
    "ef_construction = 65 # default is 64\n",
    "cur.execute(f\"\"\"CREATE INDEX euclidean_embeddings_hnsw_idx ON embeddings USING hnsw (embedding vector_l2_ops)\n",
    "                                                           WITH (m = {number_of_neighbors_per_vertex},\n",
    "                                                                 ef_construction = {ef_construction});\"\"\")\n",
    "cur.execute(f\"\"\"CREATE INDEX cosine_embeddings_hnsw_idx ON embeddings USING hnsw (embedding vector_cosine_ops)\n",
    "                                                           WITH (m = {number_of_neighbors_per_vertex},\n",
    "                                                                 ef_construction = {ef_construction});\"\"\")\n",
    "cur.execute(f\"\"\"CREATE INDEX dotproduct_embeddings_hnsw_idx ON embeddings USING hnsw (embedding vector_ip_ops)\n",
    "                                                           WITH (m = {number_of_neighbors_per_vertex},\n",
    "                                                                 ef_construction = {ef_construction});\"\"\")"
   ]
  },
  {
   "cell_type": "code",
   "execution_count": 524,
   "id": "cc29c44e-61af-47c9-8782-06063dbe35bf",
   "metadata": {},
   "outputs": [
    {
     "data": {
      "text/html": [
       "<div>\n",
       "<style scoped>\n",
       "    .dataframe tbody tr th:only-of-type {\n",
       "        vertical-align: middle;\n",
       "    }\n",
       "\n",
       "    .dataframe tbody tr th {\n",
       "        vertical-align: top;\n",
       "    }\n",
       "\n",
       "    .dataframe thead th {\n",
       "        text-align: right;\n",
       "    }\n",
       "</style>\n",
       "<table border=\"1\" class=\"dataframe\">\n",
       "  <thead>\n",
       "    <tr style=\"text-align: right;\">\n",
       "      <th></th>\n",
       "      <th>pg_size_pretty</th>\n",
       "    </tr>\n",
       "  </thead>\n",
       "  <tbody>\n",
       "    <tr>\n",
       "      <th>0</th>\n",
       "      <td>2342 MB</td>\n",
       "    </tr>\n",
       "  </tbody>\n",
       "</table>\n",
       "</div>"
      ],
      "text/plain": [
       "  pg_size_pretty\n",
       "0        2342 MB"
      ]
     },
     "execution_count": 524,
     "metadata": {},
     "output_type": "execute_result"
    }
   ],
   "source": [
    "# Get index size\n",
    "cur.execute(\"select pg_size_pretty (pg_indexes_size('embeddings'));\");pd.DataFrame(cur.fetchall(), columns=['pg_size_pretty'])"
   ]
  },
  {
   "cell_type": "markdown",
   "id": "03d4ccd6-6c2c-457f-afce-548d283242c4",
   "metadata": {},
   "source": [
    "## Euclidean Distance with HNSW"
   ]
  },
  {
   "cell_type": "code",
   "execution_count": 536,
   "id": "9b1256c8-1c69-4133-a6b6-27ffaae65762",
   "metadata": {},
   "outputs": [
    {
     "name": "stdout",
     "output_type": "stream",
     "text": [
      "CPU times: user 1.5 ms, sys: 1.89 ms, total: 3.38 ms\n",
      "Wall time: 5.58 ms\n"
     ]
    },
    {
     "data": {
      "text/html": [
       "<div>\n",
       "<style scoped>\n",
       "    .dataframe tbody tr th:only-of-type {\n",
       "        vertical-align: middle;\n",
       "    }\n",
       "\n",
       "    .dataframe tbody tr th {\n",
       "        vertical-align: top;\n",
       "    }\n",
       "\n",
       "    .dataframe thead th {\n",
       "        text-align: right;\n",
       "    }\n",
       "</style>\n",
       "<table border=\"1\" class=\"dataframe\">\n",
       "  <thead>\n",
       "    <tr style=\"text-align: right;\">\n",
       "      <th></th>\n",
       "      <th>id</th>\n",
       "      <th>distance</th>\n",
       "    </tr>\n",
       "  </thead>\n",
       "  <tbody>\n",
       "    <tr>\n",
       "      <th>0</th>\n",
       "      <td>932085</td>\n",
       "      <td>232.871209</td>\n",
       "    </tr>\n",
       "    <tr>\n",
       "      <th>1</th>\n",
       "      <td>934876</td>\n",
       "      <td>234.714720</td>\n",
       "    </tr>\n",
       "    <tr>\n",
       "      <th>2</th>\n",
       "      <td>561813</td>\n",
       "      <td>243.989754</td>\n",
       "    </tr>\n",
       "    <tr>\n",
       "      <th>3</th>\n",
       "      <td>708177</td>\n",
       "      <td>255.460369</td>\n",
       "    </tr>\n",
       "    <tr>\n",
       "      <th>4</th>\n",
       "      <td>706771</td>\n",
       "      <td>256.314260</td>\n",
       "    </tr>\n",
       "    <tr>\n",
       "      <th>5</th>\n",
       "      <td>695756</td>\n",
       "      <td>258.862898</td>\n",
       "    </tr>\n",
       "    <tr>\n",
       "      <th>6</th>\n",
       "      <td>435345</td>\n",
       "      <td>261.241268</td>\n",
       "    </tr>\n",
       "    <tr>\n",
       "      <th>7</th>\n",
       "      <td>701258</td>\n",
       "      <td>264.280154</td>\n",
       "    </tr>\n",
       "    <tr>\n",
       "      <th>8</th>\n",
       "      <td>455537</td>\n",
       "      <td>267.284493</td>\n",
       "    </tr>\n",
       "    <tr>\n",
       "      <th>9</th>\n",
       "      <td>872728</td>\n",
       "      <td>268.069021</td>\n",
       "    </tr>\n",
       "  </tbody>\n",
       "</table>\n",
       "</div>"
      ],
      "text/plain": [
       "       id    distance\n",
       "0  932085  232.871209\n",
       "1  934876  234.714720\n",
       "2  561813  243.989754\n",
       "3  708177  255.460369\n",
       "4  706771  256.314260\n",
       "5  695756  258.862898\n",
       "6  435345  261.241268\n",
       "7  701258  264.280154\n",
       "8  455537  267.284493\n",
       "9  872728  268.069021"
      ]
     },
     "execution_count": 536,
     "metadata": {},
     "output_type": "execute_result"
    }
   ],
   "source": [
    "%%time\n",
    "# Run a similarity query with euclidean distance and HNSW index:\n",
    "ef_search = 50 # default is 40\n",
    "cur.execute(f\"SET hnsw.ef_search = {ef_search};\")\n",
    "sql = f\"SELECT id, embedding <-> '[{query_vector}]' as distance FROM embeddings ORDER BY distance LIMIT 10;\"\n",
    "cur.execute(sql)\n",
    "euclidean_hnsw = pd.DataFrame(cur.fetchall(), columns=['id', 'distance'])\n",
    "euclidean_hnsw"
   ]
  },
  {
   "cell_type": "code",
   "execution_count": 537,
   "id": "a06d99fa-fc06-4be5-b524-ee8e89a200c0",
   "metadata": {},
   "outputs": [
    {
     "data": {
      "text/html": [
       "<div>\n",
       "<style scoped>\n",
       "    .dataframe tbody tr th:only-of-type {\n",
       "        vertical-align: middle;\n",
       "    }\n",
       "\n",
       "    .dataframe tbody tr th {\n",
       "        vertical-align: top;\n",
       "    }\n",
       "\n",
       "    .dataframe thead th {\n",
       "        text-align: right;\n",
       "    }\n",
       "</style>\n",
       "<table border=\"1\" class=\"dataframe\">\n",
       "  <thead>\n",
       "    <tr style=\"text-align: right;\">\n",
       "      <th></th>\n",
       "      <th>QUERY PLAN</th>\n",
       "    </tr>\n",
       "  </thead>\n",
       "  <tbody>\n",
       "    <tr>\n",
       "      <th>1</th>\n",
       "      <td>-&gt;  Index Scan using euclidean_embeddings_hnsw_idx on embeddings  (cost=40.72..298256.72 rows=1000000 width=12) (actual time=3.026..3.047 rows=10 loops=1)</td>\n",
       "    </tr>\n",
       "  </tbody>\n",
       "</table>\n",
       "</div>"
      ],
      "text/plain": [
       "                                                                                                                                                     QUERY PLAN\n",
       "1    ->  Index Scan using euclidean_embeddings_hnsw_idx on embeddings  (cost=40.72..298256.72 rows=1000000 width=12) (actual time=3.026..3.047 rows=10 loops=1)"
      ]
     },
     "execution_count": 537,
     "metadata": {},
     "output_type": "execute_result"
    }
   ],
   "source": [
    "# Show scan type used in embedding column in the query plan\n",
    "df=pd.read_sql_query(\"EXPLAIN ANALYZE \" + sql, engine)\n",
    "df[df['QUERY PLAN'].str.contains('Scan')]"
   ]
  },
  {
   "cell_type": "code",
   "execution_count": 538,
   "id": "e9cde99a-b509-43e6-84a2-ccbf3a461b13",
   "metadata": {},
   "outputs": [
    {
     "data": {
      "text/plain": [
       "100.0"
      ]
     },
     "execution_count": 538,
     "metadata": {},
     "output_type": "execute_result"
    }
   ],
   "source": [
    "# Calculate Recall Percentage for euclidean distance IVF lookup:\n",
    "baseline = euclidean_baseline[\"distance\"].to_numpy()\n",
    "baseline[np.in1d(baseline, euclidean_hnsw[\"distance\"].to_numpy()).tolist()].size / baseline.size * 100"
   ]
  },
  {
   "cell_type": "markdown",
   "id": "a424255b-f4a6-483b-9d70-9e069a9876f4",
   "metadata": {},
   "source": [
    "## Cosine Distance HNSW"
   ]
  },
  {
   "cell_type": "code",
   "execution_count": 539,
   "id": "3de545a8-2da2-4410-8ff8-c5d9b51ca9fe",
   "metadata": {},
   "outputs": [
    {
     "name": "stdout",
     "output_type": "stream",
     "text": [
      "CPU times: user 1.48 ms, sys: 1.94 ms, total: 3.42 ms\n",
      "Wall time: 6.97 ms\n"
     ]
    },
    {
     "data": {
      "text/html": [
       "<div>\n",
       "<style scoped>\n",
       "    .dataframe tbody tr th:only-of-type {\n",
       "        vertical-align: middle;\n",
       "    }\n",
       "\n",
       "    .dataframe tbody tr th {\n",
       "        vertical-align: top;\n",
       "    }\n",
       "\n",
       "    .dataframe thead th {\n",
       "        text-align: right;\n",
       "    }\n",
       "</style>\n",
       "<table border=\"1\" class=\"dataframe\">\n",
       "  <thead>\n",
       "    <tr style=\"text-align: right;\">\n",
       "      <th></th>\n",
       "      <th>id</th>\n",
       "      <th>distance</th>\n",
       "    </tr>\n",
       "  </thead>\n",
       "  <tbody>\n",
       "    <tr>\n",
       "      <th>0</th>\n",
       "      <td>932085</td>\n",
       "      <td>0.105112</td>\n",
       "    </tr>\n",
       "    <tr>\n",
       "      <th>1</th>\n",
       "      <td>934876</td>\n",
       "      <td>0.106705</td>\n",
       "    </tr>\n",
       "    <tr>\n",
       "      <th>2</th>\n",
       "      <td>561813</td>\n",
       "      <td>0.115366</td>\n",
       "    </tr>\n",
       "    <tr>\n",
       "      <th>3</th>\n",
       "      <td>708177</td>\n",
       "      <td>0.126512</td>\n",
       "    </tr>\n",
       "    <tr>\n",
       "      <th>4</th>\n",
       "      <td>706771</td>\n",
       "      <td>0.127323</td>\n",
       "    </tr>\n",
       "    <tr>\n",
       "      <th>5</th>\n",
       "      <td>695756</td>\n",
       "      <td>0.129983</td>\n",
       "    </tr>\n",
       "    <tr>\n",
       "      <th>6</th>\n",
       "      <td>435345</td>\n",
       "      <td>0.132089</td>\n",
       "    </tr>\n",
       "    <tr>\n",
       "      <th>7</th>\n",
       "      <td>701258</td>\n",
       "      <td>0.135184</td>\n",
       "    </tr>\n",
       "    <tr>\n",
       "      <th>8</th>\n",
       "      <td>455537</td>\n",
       "      <td>0.138418</td>\n",
       "    </tr>\n",
       "    <tr>\n",
       "      <th>9</th>\n",
       "      <td>872728</td>\n",
       "      <td>0.138856</td>\n",
       "    </tr>\n",
       "  </tbody>\n",
       "</table>\n",
       "</div>"
      ],
      "text/plain": [
       "       id  distance\n",
       "0  932085  0.105112\n",
       "1  934876  0.106705\n",
       "2  561813  0.115366\n",
       "3  708177  0.126512\n",
       "4  706771  0.127323\n",
       "5  695756  0.129983\n",
       "6  435345  0.132089\n",
       "7  701258  0.135184\n",
       "8  455537  0.138418\n",
       "9  872728  0.138856"
      ]
     },
     "execution_count": 539,
     "metadata": {},
     "output_type": "execute_result"
    }
   ],
   "source": [
    "%%time\n",
    "# Run a similarity query with cosine distance and IVF index:\n",
    "sql = f\"SELECT id, embedding <=> '[{query_vector}]' as distance FROM embeddings ORDER BY distance LIMIT 10;\"\n",
    "cur.execute(sql)\n",
    "cosine_hnsw = pd.DataFrame(cur.fetchall(), columns=['id', 'distance'])\n",
    "cosine_hnsw"
   ]
  },
  {
   "cell_type": "code",
   "execution_count": 540,
   "id": "cf5c7ad0-7c24-4085-a830-7f783d61bbda",
   "metadata": {},
   "outputs": [
    {
     "data": {
      "text/html": [
       "<div>\n",
       "<style scoped>\n",
       "    .dataframe tbody tr th:only-of-type {\n",
       "        vertical-align: middle;\n",
       "    }\n",
       "\n",
       "    .dataframe tbody tr th {\n",
       "        vertical-align: top;\n",
       "    }\n",
       "\n",
       "    .dataframe thead th {\n",
       "        text-align: right;\n",
       "    }\n",
       "</style>\n",
       "<table border=\"1\" class=\"dataframe\">\n",
       "  <thead>\n",
       "    <tr style=\"text-align: right;\">\n",
       "      <th></th>\n",
       "      <th>QUERY PLAN</th>\n",
       "    </tr>\n",
       "  </thead>\n",
       "  <tbody>\n",
       "    <tr>\n",
       "      <th>1</th>\n",
       "      <td>-&gt;  Index Scan using cosine_embeddings_hnsw_idx on embeddings  (cost=40.72..298256.72 rows=1000000 width=12) (actual time=4.981..5.001 rows=10 loops=1)</td>\n",
       "    </tr>\n",
       "  </tbody>\n",
       "</table>\n",
       "</div>"
      ],
      "text/plain": [
       "                                                                                                                                                  QUERY PLAN\n",
       "1    ->  Index Scan using cosine_embeddings_hnsw_idx on embeddings  (cost=40.72..298256.72 rows=1000000 width=12) (actual time=4.981..5.001 rows=10 loops=1)"
      ]
     },
     "execution_count": 540,
     "metadata": {},
     "output_type": "execute_result"
    }
   ],
   "source": [
    "# Show scan type used in embedding column in the query plan\n",
    "df=pd.read_sql_query(\"EXPLAIN ANALYZE \" + sql, engine)\n",
    "df[df['QUERY PLAN'].str.contains('Scan')]"
   ]
  },
  {
   "cell_type": "code",
   "execution_count": 541,
   "id": "a54e43c8-aa46-4596-b94f-a0b52ed20fa4",
   "metadata": {},
   "outputs": [
    {
     "data": {
      "text/plain": [
       "100.0"
      ]
     },
     "execution_count": 541,
     "metadata": {},
     "output_type": "execute_result"
    }
   ],
   "source": [
    "# Calculate Recall Percentage for cosine distance IVF lookup:\n",
    "baseline = cosine_baseline[\"distance\"].to_numpy()\n",
    "baseline[np.in1d(baseline, cosine_hnsw[\"distance\"].to_numpy()).tolist()].size / baseline.size * 100"
   ]
  },
  {
   "cell_type": "markdown",
   "id": "29ab4696-8649-4b99-a27a-8f5ac76ba1f7",
   "metadata": {},
   "source": [
    "## Dot Product HNSW"
   ]
  },
  {
   "cell_type": "code",
   "execution_count": 542,
   "id": "814c2e2b-2fef-4966-82dc-77ff7060adc1",
   "metadata": {},
   "outputs": [
    {
     "name": "stdout",
     "output_type": "stream",
     "text": [
      "CPU times: user 1.31 ms, sys: 1.81 ms, total: 3.12 ms\n",
      "Wall time: 6.41 ms\n"
     ]
    },
    {
     "data": {
      "text/html": [
       "<div>\n",
       "<style scoped>\n",
       "    .dataframe tbody tr th:only-of-type {\n",
       "        vertical-align: middle;\n",
       "    }\n",
       "\n",
       "    .dataframe tbody tr th {\n",
       "        vertical-align: top;\n",
       "    }\n",
       "\n",
       "    .dataframe thead th {\n",
       "        text-align: right;\n",
       "    }\n",
       "</style>\n",
       "<table border=\"1\" class=\"dataframe\">\n",
       "  <thead>\n",
       "    <tr style=\"text-align: right;\">\n",
       "      <th></th>\n",
       "      <th>id</th>\n",
       "      <th>distance</th>\n",
       "    </tr>\n",
       "  </thead>\n",
       "  <tbody>\n",
       "    <tr>\n",
       "      <th>0</th>\n",
       "      <td>932085</td>\n",
       "      <td>-230843.0</td>\n",
       "    </tr>\n",
       "    <tr>\n",
       "      <th>1</th>\n",
       "      <td>934876</td>\n",
       "      <td>-230600.0</td>\n",
       "    </tr>\n",
       "    <tr>\n",
       "      <th>2</th>\n",
       "      <td>561813</td>\n",
       "      <td>-228242.0</td>\n",
       "    </tr>\n",
       "    <tr>\n",
       "      <th>3</th>\n",
       "      <td>708177</td>\n",
       "      <td>-225288.0</td>\n",
       "    </tr>\n",
       "    <tr>\n",
       "      <th>4</th>\n",
       "      <td>706771</td>\n",
       "      <td>-225144.0</td>\n",
       "    </tr>\n",
       "    <tr>\n",
       "      <th>5</th>\n",
       "      <td>695756</td>\n",
       "      <td>-224256.0</td>\n",
       "    </tr>\n",
       "    <tr>\n",
       "      <th>6</th>\n",
       "      <td>435345</td>\n",
       "      <td>-224214.0</td>\n",
       "    </tr>\n",
       "    <tr>\n",
       "      <th>7</th>\n",
       "      <td>701258</td>\n",
       "      <td>-223408.0</td>\n",
       "    </tr>\n",
       "    <tr>\n",
       "      <th>8</th>\n",
       "      <td>872728</td>\n",
       "      <td>-222827.0</td>\n",
       "    </tr>\n",
       "    <tr>\n",
       "      <th>9</th>\n",
       "      <td>455537</td>\n",
       "      <td>-222341.0</td>\n",
       "    </tr>\n",
       "  </tbody>\n",
       "</table>\n",
       "</div>"
      ],
      "text/plain": [
       "       id  distance\n",
       "0  932085 -230843.0\n",
       "1  934876 -230600.0\n",
       "2  561813 -228242.0\n",
       "3  708177 -225288.0\n",
       "4  706771 -225144.0\n",
       "5  695756 -224256.0\n",
       "6  435345 -224214.0\n",
       "7  701258 -223408.0\n",
       "8  872728 -222827.0\n",
       "9  455537 -222341.0"
      ]
     },
     "execution_count": 542,
     "metadata": {},
     "output_type": "execute_result"
    }
   ],
   "source": [
    "%%time\n",
    "# Run a similarity query with dot product distance and IVF index:\n",
    "sql = f\"SELECT id, embedding <#> '[{query_vector}]' as distance FROM embeddings ORDER BY distance LIMIT 10;\"\n",
    "cur.execute(sql)\n",
    "dot_product_hnsw = pd.DataFrame(cur.fetchall(), columns=['id', 'distance'])\n",
    "dot_product_hnsw"
   ]
  },
  {
   "cell_type": "code",
   "execution_count": 543,
   "id": "e1b98e31-900f-4d5e-8483-b364c105c855",
   "metadata": {},
   "outputs": [
    {
     "data": {
      "text/html": [
       "<div>\n",
       "<style scoped>\n",
       "    .dataframe tbody tr th:only-of-type {\n",
       "        vertical-align: middle;\n",
       "    }\n",
       "\n",
       "    .dataframe tbody tr th {\n",
       "        vertical-align: top;\n",
       "    }\n",
       "\n",
       "    .dataframe thead th {\n",
       "        text-align: right;\n",
       "    }\n",
       "</style>\n",
       "<table border=\"1\" class=\"dataframe\">\n",
       "  <thead>\n",
       "    <tr style=\"text-align: right;\">\n",
       "      <th></th>\n",
       "      <th>QUERY PLAN</th>\n",
       "    </tr>\n",
       "  </thead>\n",
       "  <tbody>\n",
       "    <tr>\n",
       "      <th>1</th>\n",
       "      <td>-&gt;  Index Scan using dotproduct_embeddings_hnsw_idx on embeddings  (cost=40.72..298256.72 rows=1000000 width=12) (actual time=2.173..2.188 rows=10 loops=1)</td>\n",
       "    </tr>\n",
       "  </tbody>\n",
       "</table>\n",
       "</div>"
      ],
      "text/plain": [
       "                                                                                                                                                      QUERY PLAN\n",
       "1    ->  Index Scan using dotproduct_embeddings_hnsw_idx on embeddings  (cost=40.72..298256.72 rows=1000000 width=12) (actual time=2.173..2.188 rows=10 loops=1)"
      ]
     },
     "execution_count": 543,
     "metadata": {},
     "output_type": "execute_result"
    }
   ],
   "source": [
    "# Show scan type used in embedding column in the query plan\n",
    "df=pd.read_sql_query(\"EXPLAIN ANALYZE \" + sql, engine)\n",
    "df[df['QUERY PLAN'].str.contains('Scan')]"
   ]
  },
  {
   "cell_type": "code",
   "execution_count": 544,
   "id": "16c2c77e-4d7a-444b-bcd4-f3c3b7e448af",
   "metadata": {},
   "outputs": [
    {
     "data": {
      "text/plain": [
       "100.0"
      ]
     },
     "execution_count": 544,
     "metadata": {},
     "output_type": "execute_result"
    }
   ],
   "source": [
    "# Calculate Recall Percentage for cosine distance IVF lookup:\n",
    "baseline = dot_product_baseline[\"distance\"].to_numpy()\n",
    "baseline[np.in1d(baseline, dot_product_hnsw[\"distance\"].to_numpy()).tolist()].size / baseline.size * 100"
   ]
  },
  {
   "cell_type": "code",
   "execution_count": 441,
   "id": "65179b43-4318-47aa-b740-83dcfa60e962",
   "metadata": {},
   "outputs": [],
   "source": [
    "# Clean up HNSW indexes\n",
    "cur.execute(\"DROP INDEX euclidean_embeddings_hnsw_idx;\")\n",
    "cur.execute(\"DROP INDEX cosine_embeddings_hnsw_idx;\")\n",
    "cur.execute(\"DROP INDEX dotproduct_embeddings_hnsw_idx;\")"
   ]
  },
  {
   "cell_type": "code",
   "execution_count": null,
   "id": "6f48a67c-6551-4e0f-b08e-ea63767d77c3",
   "metadata": {},
   "outputs": [],
   "source": []
  }
 ],
 "metadata": {
  "kernelspec": {
   "display_name": "Python 3 (ipykernel)",
   "language": "python",
   "name": "python3"
  },
  "language_info": {
   "codemirror_mode": {
    "name": "ipython",
    "version": 3
   },
   "file_extension": ".py",
   "mimetype": "text/x-python",
   "name": "python",
   "nbconvert_exporter": "python",
   "pygments_lexer": "ipython3",
   "version": "3.11.5"
  }
 },
 "nbformat": 4,
 "nbformat_minor": 5
}
