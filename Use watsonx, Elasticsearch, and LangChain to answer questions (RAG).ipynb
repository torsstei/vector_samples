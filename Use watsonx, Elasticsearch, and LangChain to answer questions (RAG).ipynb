{
 "cells": [
  {
   "attachments": {},
   "cell_type": "markdown",
   "metadata": {},
   "source": [
    "![image](https://raw.githubusercontent.com/IBM/watson-machine-learning-samples/master/cloud/notebooks/headers/watsonx-Prompt_Lab-Notebook.png)\n",
    "# Use watsonx, Elasticsearch, and LangChain to answer questions (RAG)"
   ]
  },
  {
   "attachments": {},
   "cell_type": "markdown",
   "metadata": {},
   "source": [
    "## Notebook content\n",
    "\n",
    "This notebook contains the steps and code to demonstrate support of Retrieval Augumented Generation in watsonx.ai. It introduces commands for data retrieval, knowledge base building & querying, and model testing.\n",
    "\n",
    "Some familiarity with Python is helpful. This notebook uses Python 3.10.\n",
    "\n",
    "#### About Retrieval Augmented Generation\n",
    "Retrieval Augmented Generation (RAG) is a versatile pattern that can unlock a number of use cases requiring factual recall of information, such as querying a knowledge base in natural language.\n",
    "\n",
    "In its simplest form, RAG requires 3 steps:\n",
    "\n",
    "- Load and index a knowledge base passages (once) - In this case here Elasticsearch\n",
    "- Retrieve relevant passage(s) from knowledge base\n",
    "- Generate a response by feeding user prompt augmented by the retrieved passages into a large language model\n",
    "\n",
    "LangChain simplifies these stepsby providng convenience wrappers for the first step and for the combination of second and third step.\n",
    "\n",
    "## Contents\n",
    "\n",
    "This notebook contains the following parts:\n",
    "\n",
    "- [Set up the environment](#setup)\n",
    "- [Build up knowledge base](#knowledge_base)\n",
    "- [Set up Foundation Models on WatsonX](#models)\n",
    "- [Set up connectivity information to Elasticsearch](#elastic_conn)\n",
    "- **[Set up ElasticsearchStore connector from Langchain](#elasticsearchstore)**\n",
    "    - [Embed and index documents with Elasticsearch](#elasticsearchstore_index)\n",
    "    - [Generate a retrieval-augmented response to a question](#predict)\n",
    "\n"
   ]
  },
  {
   "attachments": {},
   "cell_type": "markdown",
   "metadata": {},
   "source": [
    "<a id=\"setup\"></a>\n",
    "##  Set up the environment\n",
    "\n",
    "Before you use the sample code in this notebook, you must perform the following setup tasks:\n",
    "\n",
    "-  Create a <a href=\"https://console.ng.bluemix.net/catalog/services/ibm-watson-machine-learning/\" target=\"_blank\" rel=\"noopener no referrer\">Watson Machine Learning (WML) Service</a> instance (a free plan is offered and information about how to create the instance can be found <a href=\"https://dataplatform.cloud.ibm.com/docs/content/wsj/analyze-data/ml-service-instance.html?context=analytics\" target=\"_blank\" rel=\"noopener no referrer\">here</a>).\n"
   ]
  },
  {
   "attachments": {},
   "cell_type": "markdown",
   "metadata": {},
   "source": [
    "### Install and import dependecies"
   ]
  },
  {
   "cell_type": "code",
   "execution_count": 1,
   "metadata": {},
   "outputs": [
    {
     "name": "stdout",
     "output_type": "stream",
     "text": [
      "Requirement already satisfied: pyparsing!=3.0.5,>=2.0.2 in /opt/homebrew/lib/python3.10/site-packages (from packaging>=17.0->marshmallow<4.0.0,>=3.18.0->dataclasses-json<0.7,>=0.5.7->langchain) (3.0.9)\n",
      "Requirement already satisfied: certifi in /opt/homebrew/lib/python3.10/site-packages (from elastic-transport<9,>=8->elasticsearch) (2022.9.24)\n",
      "Requirement already satisfied: mpmath>=0.19 in /opt/homebrew/lib/python3.10/site-packages (from sympy->torch>=1.6.0->sentence_transformers) (1.3.0)\n",
      "Requirement already satisfied: six>=1.5 in /opt/homebrew/lib/python3.10/site-packages (from python-dateutil>=2.8.1->pandas) (1.16.0)\n",
      "Requirement already satisfied: tqdm in /opt/homebrew/lib/python3.10/site-packages (from nltk->rouge_score) (4.66.1)\n",
      "Requirement already satisfied: tqdm in /opt/homebrew/lib/python3.10/site-packages (from nltk) (4.66.1)\n",
      "Requirement already satisfied: wget in /opt/homebrew/lib/python3.10/site-packages (3.2)\n",
      "Requirement already satisfied: typing-extensions>=4.1.0 in /opt/homebrew/lib/python3.10/site-packages (from pydantic==1.10.0) (4.8.0)\n",
      "Requirement already satisfied: pyparsing!=3.0.5,>=2.0.2 in /opt/homebrew/lib/python3.10/site-packages (from packaging->ibm-watson-machine-learning>=1.0.327) (3.0.9)\n",
      "Requirement already satisfied: humanize in /opt/homebrew/lib/python3.10/site-packages (4.8.0)\n"
     ]
    }
   ],
   "source": [
    "!pip install langchain --upgrade | tail -n 1\n",
    "!pip install elasticsearch | tail -n 1\n",
    "!pip install sentence_transformers | tail -n 1\n",
    "!pip install pandas | tail -n 1\n",
    "!pip install rouge_score | tail -n 1\n",
    "!pip install nltk | tail -n 1\n",
    "!pip install wget | tail -n 1\n",
    "!pip install \"pydantic==1.10.0\" | tail -n 1\n",
    "!pip install \"ibm-watson-machine-learning>=1.0.327\" | tail -n 1\n",
    "!pip install humanize | tail -n 1"
   ]
  },
  {
   "cell_type": "code",
   "execution_count": 25,
   "metadata": {},
   "outputs": [],
   "source": [
    "import os, getpass\n",
    "import humanize\n",
    "import random\n",
    "import pandas as pd\n",
    "from typing import Optional, Any, Iterable, List"
   ]
  },
  {
   "attachments": {},
   "cell_type": "markdown",
   "metadata": {},
   "source": [
    "### watsonx API connection\n",
    "This cell defines the credentials required to work with watsonx API for Foundation\n",
    "Model inferencing.\n",
    "\n",
    "**Action:** Provide the IBM Cloud user API key. For details, see\n",
    "[documentation](https://cloud.ibm.com/docs/account?topic=account-userapikey&interface=ui)."
   ]
  },
  {
   "cell_type": "code",
   "execution_count": 3,
   "metadata": {},
   "outputs": [],
   "source": [
    "try:\n",
    "    apikey = os.environ[\"IBM_CLOUD_API_KEY\"]\n",
    "except KeyError:\n",
    "    apikey = getpass.getpass(\"Please enter your WML api key (hit enter): \")"
   ]
  },
  {
   "cell_type": "code",
   "execution_count": 4,
   "metadata": {
    "scrolled": true
   },
   "outputs": [],
   "source": [
    "credentials = {\n",
    "    \"url\": \"https://us-south.ml.cloud.ibm.com\",\n",
    "    \"apikey\": apikey\n",
    "}"
   ]
  },
  {
   "attachments": {},
   "cell_type": "markdown",
   "metadata": {},
   "source": [
    "The API requires project id that provides the context for the call. We will obtain the id from the project in which this notebook runs. Otherwise, please provide the project id.\n",
    "\n",
    "**Hint**: You can find the `project_id` as follows. Open the prompt lab in watsonx.ai. At the very top of the UI, there will be `Projects / <project name> /`. Click on the `<project name>` link. Then get the `project_id` from Project's Manage tab (Project -> Manage -> General -> Details).\n"
   ]
  },
  {
   "cell_type": "code",
   "execution_count": 5,
   "metadata": {},
   "outputs": [],
   "source": [
    "try:\n",
    "    project_id = os.environ[\"PROJECT_ID\"]\n",
    "except KeyError:\n",
    "    project_id = input(\"Please enter your project_id (hit enter): \")"
   ]
  },
  {
   "attachments": {},
   "cell_type": "markdown",
   "metadata": {},
   "source": [
    "<a id=\"knowledge_base\"></a>\n",
    "## Build up knowledge base\n",
    "\n",
    "The current state-of-the-art in RAG is to create dense vector representations of the knowledge base in order to calculate the semantic similarity to a given user query.\n",
    "\n",
    "We can generate dense vector representations using embedding models. In this notebook, we use [SentenceTransformers](https://www.google.com/search?client=safari&rls=en&q=sentencetransformers&ie=UTF-8&oe=UTF-8) [all-MiniLM-L6-v2](https://huggingface.co/sentence-transformers/all-MiniLM-L6-v2) to embed both the knowledge base passages and user queries. `all-MiniLM-L6-v2` is a performant open-source model that is small enough to run locally.\n",
    "\n",
    "A vector database is optimized for dense vector indexing and retrieval. This notebook uses [Elasticsearch](https://python.langchain.com/docs/integrations/vectorstores/elasticsearch#basic-example), a distributed, RESTful search and analytics engine, capable of performing both vector and lexical search. It is built on top of the Apache Lucene library, which offers good speed and performance with all-MiniLM-L6-v2 embedding model."
   ]
  },
  {
   "attachments": {},
   "cell_type": "markdown",
   "metadata": {},
   "source": [
    "The dataset we are using is already split into self-contained passages that can be ingested by Elasticsearch. \n",
    "\n",
    "The size of each passage is limited by the embedding model's context window (which is 256 tokens for `all-MiniLM-L6-v2`)."
   ]
  },
  {
   "attachments": {},
   "cell_type": "markdown",
   "metadata": {},
   "source": [
    "### Load knowledge base documents\n",
    "\n",
    "Load set of documents used further to build knowledge base. "
   ]
  },
  {
   "cell_type": "code",
   "execution_count": 6,
   "metadata": {},
   "outputs": [],
   "source": [
    "knowledge_base_dir = \"./knowledge_base\""
   ]
  },
  {
   "cell_type": "code",
   "execution_count": 7,
   "metadata": {},
   "outputs": [],
   "source": [
    "my_path = f\"{os.getcwd()}/knowledge_base\"\n",
    "if not os.path.isdir(my_path):\n",
    "   os.makedirs(my_path)"
   ]
  },
  {
   "cell_type": "code",
   "execution_count": 11,
   "metadata": {},
   "outputs": [],
   "source": [
    "import wget\n",
    "\n",
    "documents_filename = 'knowledge_base/psgs.tsv'\n",
    "documents_url = 'https://raw.github.com/IBM/watson-machine-learning-samples/master/cloud/data/RAG/psgs.tsv'\n",
    "\n",
    "\n",
    "if not os.path.isfile(documents_filename): \n",
    "    wget.download(documents_url, out=documents_filename)"
   ]
  },
  {
   "cell_type": "code",
   "execution_count": 8,
   "metadata": {},
   "outputs": [],
   "source": [
    "documents = pd.read_csv(f\"{knowledge_base_dir}/psgs.tsv\", sep='\\t', header=0)\n",
    "documents['indextext'] = documents['title'].astype(str) + \"\\n\" + documents['text']\n",
    "#documents = documents[:1000]"
   ]
  },
  {
   "attachments": {},
   "cell_type": "markdown",
   "metadata": {},
   "source": [
    "<a id=\"models\"></a>\n",
    "## Set up Foundation Models on WatsonX"
   ]
  },
  {
   "attachments": {},
   "cell_type": "markdown",
   "metadata": {},
   "source": [
    "### Configure an embedding function with a WatsonX Encoder model (sentence transformer)\n",
    "\n",
    "This will be used to compute the embeddings for the knowledge base documents stored in Elasticsearch.\n",
    "\n",
    "Note that Elasticsearch also supports the option to deploy and run an embedding model in the database cluster. This notebook does not make use of this."
   ]
  },
  {
   "cell_type": "code",
   "execution_count": 9,
   "metadata": {},
   "outputs": [],
   "source": [
    "from langchain.embeddings import HuggingFaceEmbeddings\n",
    "from langchain.embeddings.base import Embeddings\n",
    "\n",
    "emb_func = HuggingFaceEmbeddings(model_name=\"all-MiniLM-L6-v2\")"
   ]
  },
  {
   "attachments": {},
   "cell_type": "markdown",
   "metadata": {},
   "source": [
    "### Configure a WatsonX Encder-Decoder model for Question Answer generation\n",
    "You need to specify `model_id` that will be used for prompting:"
   ]
  },
  {
   "cell_type": "code",
   "execution_count": 10,
   "metadata": {},
   "outputs": [],
   "source": [
    "from ibm_watson_machine_learning.foundation_models.utils.enums import ModelTypes\n",
    "\n",
    "model_id = ModelTypes.FLAN_UL2"
   ]
  },
  {
   "cell_type": "markdown",
   "metadata": {},
   "source": [
    "We need to provide a set of model parameters that will influence the result:"
   ]
  },
  {
   "cell_type": "code",
   "execution_count": 11,
   "metadata": {},
   "outputs": [],
   "source": [
    "from ibm_watson_machine_learning.metanames import GenTextParamsMetaNames as GenParams\n",
    "from ibm_watson_machine_learning.foundation_models.utils.enums import DecodingMethods\n",
    "\n",
    "parameters = {\n",
    "    GenParams.DECODING_METHOD: DecodingMethods.GREEDY,\n",
    "    GenParams.MIN_NEW_TOKENS: 1,\n",
    "    GenParams.MAX_NEW_TOKENS: 50\n",
    "}"
   ]
  },
  {
   "cell_type": "markdown",
   "metadata": {},
   "source": [
    "Initialize the `Model` class."
   ]
  },
  {
   "cell_type": "code",
   "execution_count": 12,
   "metadata": {},
   "outputs": [],
   "source": [
    "from ibm_watson_machine_learning.foundation_models import Model\n",
    "\n",
    "model = Model(\n",
    "    model_id=model_id,\n",
    "    params=parameters,\n",
    "    credentials=credentials,\n",
    "    project_id=project_id\n",
    ")"
   ]
  },
  {
   "cell_type": "markdown",
   "metadata": {},
   "source": [
    "<a id=\"elastic_conn\"></a>\n",
    "## Set up connectivity information to Elasticsearch\n",
    "\n",
    "**This notebook focuses on IBM-managed cluster using <a href=\"https://cloud.ibm.com/docs/databases-for-elasticsearch?topic=databases-for-elasticsearch-getting-started\" target=\"_blank\" rel=\"noopener no referrer\">IBM Cloud® Databases for Elasticsearch.</a>**\n",
    "\n",
    "The following cell retrieves the Elasticsearch users, password, host and port from the environment if available and prompts you otherwise."
   ]
  },
  {
   "cell_type": "code",
   "execution_count": 13,
   "metadata": {},
   "outputs": [],
   "source": [
    "try:\n",
    "    esuser = os.environ[\"ESUSER\"]\n",
    "except KeyError:\n",
    "    esuser = input(\"Please enter your Elasticsearch user name (hit enter): \")\n",
    "try:\n",
    "    espassword = os.environ[\"ESPASSWORD\"]\n",
    "except KeyError:\n",
    "    espassword = getpass.getpass(\"Please enter your Elasticsearch password (hit enter): \")\n",
    "try:\n",
    "    eshost = os.environ[\"ESHOST\"]\n",
    "except KeyError:\n",
    "    eshost = input(\"Please enter your Elasticsearch hostname (hit enter): \")\n",
    "try:\n",
    "    esport = os.environ[\"ESPORT\"]\n",
    "except KeyError:\n",
    "    esport = input(\"Please enter your Elasticsearch port number (hit enter): \")"
   ]
  },
  {
   "cell_type": "markdown",
   "metadata": {},
   "source": [
    "By default Elasticsearch will start with security features like authentication and TLS enabled. To connect to the Elasticsearch cluster you’ll need to configure the Python Elasticsearch client to use HTTPS with the generated CA certificate in order to make requests successfully. Details can be found <a href=\"https://www.elastic.co/guide/en/elasticsearch/client/python-api/current/connecting.html#connect-self-managed-new\" target=\"_blank\" rel=\"noopener no referrer\">here</a>. In this notebook certificate fingerprints will be used for authentication. \n",
    "\n",
    "**Verifying HTTPS with certificate fingerprints (Python 3.10 or later)** If you don’t have access to the generated CA file from Elasticsearch you can use the following script to output the root CA fingerprint of the Elasticsearch instance with openssl s_client <a href=\"https://www.elastic.co/guide/en/elasticsearch/client/python-api/current/connecting.html#_verifying_https_with_certificate_fingerprints_python_3_10_or_later\" target=\"_blank\" rel=\"noopener no referrer\"> (docs)</a>:\n",
    "\n",
    "The following cell retrieves the fingerprint information using a shell command and stores it in variable `ssl_assert_fingerprint`."
   ]
  },
  {
   "cell_type": "code",
   "execution_count": 14,
   "metadata": {},
   "outputs": [],
   "source": [
    "es_ssl_fingerprint = !openssl s_client -connect $ESHOST:$ESPORT -showcerts </dev/null 2>/dev/null | openssl x509 -fingerprint -sha256 -noout -in /dev/stdin\n",
    "es_ssl_fingerprint = es_ssl_fingerprint[0].lstrip(\"SHA256 Fingerprint=\")"
   ]
  },
  {
   "attachments": {},
   "cell_type": "markdown",
   "metadata": {},
   "source": [
    "<a id=\"elasticsearchstore\"></a>\n",
    "## Set up ElasticsearchStore connector from Langchain\n",
    "\n",
    "We first create a regular Elasticsearch Python client connection. Then we pass it into LangChain's ElasticsearchStore wrapper together with the WatsonX model based embedding function.\n",
    "\n",
    "Consult the LangChain documentation For more information about [ElasticsearchStore](https://api.python.langchain.com/en/latest/vectorstores/langchain.vectorstores.elasticsearch.ElasticsearchStore.html) connector."
   ]
  },
  {
   "cell_type": "code",
   "execution_count": 15,
   "metadata": {},
   "outputs": [],
   "source": [
    "from langchain.vectorstores.elasticsearch import ElasticsearchStore\n",
    "from elasticsearch import Elasticsearch\n",
    "\n",
    "es_connection = Elasticsearch([f\"https://{esuser}:{espassword}@{eshost}:{esport}\"],\n",
    "                              basic_auth=(esuser, espassword),\n",
    "                              request_timeout=None,\n",
    "                              ssl_assert_fingerprint=es_ssl_fingerprint)\n",
    "\n",
    "knowledge_base = ElasticsearchStore(es_connection=es_connection,\n",
    "                                    index_name=\"test_index\",\n",
    "                                    embedding=emb_func,\n",
    "                                    strategy=ElasticsearchStore.ApproxRetrievalStrategy(),\n",
    "                                    distance_strategy=\"DOT_PRODUCT\")"
   ]
  },
  {
   "cell_type": "markdown",
   "metadata": {},
   "source": [
    "<a id=\"elasticsearchstore_index\"></a>\n",
    "### Embed documents, and load and index documents in Elasticsearch\n",
    "\n",
    "The `add_texts()` function of the ElasticsearchStore wrapper in LangChain is a compound function that prepares the document data, computes the embeddings using the provided WatsonX ebedding model and then loads everything to Elasticsearch.\n",
    "\n",
    "**Note: This could take 10 - 15 minutes**"
   ]
  },
  {
   "cell_type": "code",
   "execution_count": 17,
   "metadata": {
    "scrolled": true
   },
   "outputs": [],
   "source": [
    "if es_connection.indices.exists(index=\"test_index\"):\n",
    "    es_connection.indices.delete(index=\"test_index\")\n",
    "_ = knowledge_base.add_texts(texts=documents.indextext.tolist(),\n",
    "                             metadatas=[{'title': title, 'id': doc_id}\n",
    "                                for (title, doc_id) in\n",
    "                                zip(documents.title, documents.id)],  # filter on these!\n",
    "                             index_name=\"test_index\",\n",
    "                             ids=[str(i) for i in documents.id]  # unique for each doc\n",
    "                            )"
   ]
  },
  {
   "cell_type": "markdown",
   "metadata": {},
   "source": [
    "Let's take a look in Elasticsearch what the LangChain wrapper has created. First we display the newly created index (\"tables\" in Elasticsearch are always called \"index\"). Note the field `vector` of type `dense_vector` with `dot_product` similarity."
   ]
  },
  {
   "cell_type": "code",
   "execution_count": 19,
   "metadata": {},
   "outputs": [
    {
     "data": {
      "text/plain": [
       "{'test_index': {'aliases': {},\n",
       "  'mappings': {'properties': {'metadata': {'properties': {'id': {'type': 'long'},\n",
       "      'title': {'type': 'text',\n",
       "       'fields': {'keyword': {'type': 'keyword', 'ignore_above': 256}}}}},\n",
       "    'text': {'type': 'text',\n",
       "     'fields': {'keyword': {'type': 'keyword', 'ignore_above': 256}}},\n",
       "    'vector': {'type': 'dense_vector',\n",
       "     'dims': 384,\n",
       "     'index': True,\n",
       "     'similarity': 'dot_product'}}},\n",
       "  'settings': {'index': {'routing': {'allocation': {'include': {'_tier_preference': 'data_content'}}},\n",
       "    'allocation': {'max_retries': '15'},\n",
       "    'number_of_shards': '1',\n",
       "    'provided_name': 'test_index',\n",
       "    'creation_date': '1697549983549',\n",
       "    'unassigned': {'node_left': {'delayed_timeout': '60m'}},\n",
       "    'number_of_replicas': '1',\n",
       "    'uuid': 'Suubnrd6QGy6R-MSNbRzwg',\n",
       "    'version': {'created': '8070099'}}}}}"
      ]
     },
     "execution_count": 19,
     "metadata": {},
     "output_type": "execute_result"
    }
   ],
   "source": [
    "dict(es_connection.indices.get(index=\"test_index\"))"
   ]
  },
  {
   "cell_type": "markdown",
   "metadata": {},
   "source": [
    "Verify the number of documents loaded into the Elasticsearch index."
   ]
  },
  {
   "cell_type": "code",
   "execution_count": 22,
   "metadata": {},
   "outputs": [
    {
     "data": {
      "text/plain": [
       "29042"
      ]
     },
     "execution_count": 22,
     "metadata": {},
     "output_type": "execute_result"
    }
   ],
   "source": [
    "doc_count = es_connection.count(index='test_index')[\"count\"]\n",
    "doc_count"
   ]
  },
  {
   "cell_type": "markdown",
   "metadata": {},
   "source": [
    "Let's retrieve a random document as a sample. Note the embedding in the `vector` field, that was generated with the WatsonX embedding model."
   ]
  },
  {
   "cell_type": "code",
   "execution_count": 24,
   "metadata": {},
   "outputs": [
    {
     "data": {
      "text/plain": [
       "{'_index': 'test_index',\n",
       " '_id': '8293',\n",
       " '_version': 1,\n",
       " '_seq_no': 8292,\n",
       " '_primary_term': 1,\n",
       " 'found': True,\n",
       " '_source': {'text': \"Helter Skelter (Manson scenario)\\nFamily members who had been released from jail had made their way back to Spahn Ranch . There , on November 25 , 1969 , the LAPD confiscated a door on which someone had written `` Helter Scelter ( sic ) is coming down fast . '' A photograph shows the confiscated door was also inscribed with `` 1 , 2 , 3 , 4 , 5 , 6 , 7 -- ALL GOOD CHILDREN ( Go to Heaven ? ) '' ( sic ) . This children 's rhyme is heard in `` You Never Give Me Your Money '' , a song that appears on Abbey Road . In October 1970 , the prosecution offered testimony about the door during Manson 's trial for the Tate - LaBianca murders ; but only the `` Helter Skelter '' inscription seems to have been noted . In late September or early October 1969 , before the arrests , Tex Watson had left the desert camp and gone on to separate himself from the Family . Late in the separation , he , too , bought a cassette recording of Abbey Road . Walking for miles across the desert to rejoin the Family in late October , he played his tape continuously to see what The Beatles might have to tell him . When , at the last moment , he turned back , an old prospector informed him the arrests had taken place . Watson returned to his native Texas\",\n",
       "  'vector': [-0.02803562581539154,\n",
       "   0.012444513849914074,\n",
       "   0.00703525310382247,\n",
       "   -0.027167966589331627,\n",
       "   0.03342260420322418,\n",
       "   0.029211098328232765,\n",
       "   0.05510293319821358,\n",
       "   -0.029700351879000664,\n",
       "   0.03955332189798355,\n",
       "   -0.07329162210226059,\n",
       "   0.11483431607484818,\n",
       "   -0.020433718338608742,\n",
       "   0.13262507319450378,\n",
       "   -0.046485576778650284,\n",
       "   -0.040367934852838516,\n",
       "   -0.01959989033639431,\n",
       "   0.006259195506572723,\n",
       "   -0.004904840607196093,\n",
       "   0.015195202082395554,\n",
       "   -0.039768751710653305,\n",
       "   -0.018221557140350342,\n",
       "   0.046735551208257675,\n",
       "   0.013738065958023071,\n",
       "   -0.027421215549111366,\n",
       "   -0.015854088589549065,\n",
       "   0.02723190188407898,\n",
       "   -0.048885948956012726,\n",
       "   -0.0793503075838089,\n",
       "   -0.06332839280366898,\n",
       "   -0.016910633072257042,\n",
       "   0.0029003445524722338,\n",
       "   -0.03201577439904213,\n",
       "   -0.08465907722711563,\n",
       "   -0.10268383473157883,\n",
       "   0.09941965341567993,\n",
       "   0.005143372341990471,\n",
       "   0.10147339850664139,\n",
       "   0.07505366206169128,\n",
       "   0.02867949940264225,\n",
       "   -0.044281262904405594,\n",
       "   -0.045844923704862595,\n",
       "   -0.0553099662065506,\n",
       "   -0.020470257848501205,\n",
       "   -0.0304259005934,\n",
       "   -0.07342381775379181,\n",
       "   0.0024117224384099245,\n",
       "   0.008147422224283218,\n",
       "   -0.0017410367727279663,\n",
       "   0.050396617501974106,\n",
       "   -0.04834865406155586,\n",
       "   0.008527841418981552,\n",
       "   -0.01207461766898632,\n",
       "   0.061246324330568314,\n",
       "   -0.017772836610674858,\n",
       "   -0.04560763016343117,\n",
       "   0.02241325005888939,\n",
       "   0.0684521347284317,\n",
       "   0.03722550719976425,\n",
       "   0.010770950466394424,\n",
       "   0.005428059492260218,\n",
       "   -0.07146433740854263,\n",
       "   -0.036227498203516006,\n",
       "   -0.006860092747956514,\n",
       "   -0.02310771308839321,\n",
       "   0.08536546677350998,\n",
       "   0.0037551079876720905,\n",
       "   0.046286240220069885,\n",
       "   -0.0625595822930336,\n",
       "   -0.013014010153710842,\n",
       "   0.1230771541595459,\n",
       "   0.016504207625985146,\n",
       "   -0.04368365928530693,\n",
       "   -0.015444221906363964,\n",
       "   0.06190275773406029,\n",
       "   0.04638906940817833,\n",
       "   0.024246590211987495,\n",
       "   -0.043719030916690826,\n",
       "   0.03816033899784088,\n",
       "   0.015814203768968582,\n",
       "   -0.05928003042936325,\n",
       "   -0.06936027854681015,\n",
       "   -0.07148222625255585,\n",
       "   -0.014487231150269508,\n",
       "   -0.0017370868008583784,\n",
       "   -0.08460099995136261,\n",
       "   0.018015120178461075,\n",
       "   0.008965966291725636,\n",
       "   0.01767309196293354,\n",
       "   0.095004141330719,\n",
       "   0.00953601486980915,\n",
       "   -0.024110034108161926,\n",
       "   -0.033687129616737366,\n",
       "   -0.085078664124012,\n",
       "   -0.05577210709452629,\n",
       "   -0.022800954058766365,\n",
       "   -0.09355757385492325,\n",
       "   -0.07534169405698776,\n",
       "   0.16139720380306244,\n",
       "   -0.0530804805457592,\n",
       "   -0.021684126928448677,\n",
       "   0.11224064975976944,\n",
       "   0.0035538680385798216,\n",
       "   -0.003937229514122009,\n",
       "   -0.042036931961774826,\n",
       "   0.15346045792102814,\n",
       "   0.021412106230854988,\n",
       "   0.003269120119512081,\n",
       "   0.08018705248832703,\n",
       "   0.012814586982131004,\n",
       "   -0.05685621500015259,\n",
       "   -0.033702120184898376,\n",
       "   0.02324816770851612,\n",
       "   0.056716397404670715,\n",
       "   0.006352037191390991,\n",
       "   -0.0447915717959404,\n",
       "   0.03075539320707321,\n",
       "   0.02330760471522808,\n",
       "   -0.005404874682426453,\n",
       "   -0.04598262161016464,\n",
       "   0.008462144061923027,\n",
       "   0.03271348029375076,\n",
       "   0.04879385977983475,\n",
       "   -0.055311307311058044,\n",
       "   0.05178215727210045,\n",
       "   -0.03821958228945732,\n",
       "   -0.08492423593997955,\n",
       "   -0.04271197319030762,\n",
       "   -4.0540963449937536e-33,\n",
       "   -0.0235737357288599,\n",
       "   -0.019336489960551262,\n",
       "   -0.02601112425327301,\n",
       "   -0.05683054029941559,\n",
       "   0.03559388220310211,\n",
       "   -0.03296837583184242,\n",
       "   -0.02435622364282608,\n",
       "   0.07559243589639664,\n",
       "   0.029517171904444695,\n",
       "   0.04661685973405838,\n",
       "   -0.038108568638563156,\n",
       "   -0.12918025255203247,\n",
       "   -0.04024156928062439,\n",
       "   -0.07589452713727951,\n",
       "   0.002743013435974717,\n",
       "   0.058934181928634644,\n",
       "   -0.07926402986049652,\n",
       "   -0.04088766500353813,\n",
       "   0.049324627965688705,\n",
       "   -0.0696781575679779,\n",
       "   0.028219766914844513,\n",
       "   -0.06636983901262283,\n",
       "   0.032739195972681046,\n",
       "   0.04231753200292587,\n",
       "   0.05810810625553131,\n",
       "   -0.05725514516234398,\n",
       "   -0.06376441568136215,\n",
       "   -0.04869880899786949,\n",
       "   0.04483611136674881,\n",
       "   0.001269164844416082,\n",
       "   -0.03996381163597107,\n",
       "   0.05975496768951416,\n",
       "   0.12943190336227417,\n",
       "   -0.054811518639326096,\n",
       "   -0.028706833720207214,\n",
       "   0.0025345017202198505,\n",
       "   0.04020735248923302,\n",
       "   -0.0028815497644245625,\n",
       "   -0.06296756863594055,\n",
       "   0.04046681150794029,\n",
       "   0.011475109495222569,\n",
       "   0.011868865229189396,\n",
       "   0.11559292674064636,\n",
       "   -0.0604180172085762,\n",
       "   -0.08186372369527817,\n",
       "   0.030291035771369934,\n",
       "   -0.09650499373674393,\n",
       "   0.07649923115968704,\n",
       "   -0.044321414083242416,\n",
       "   -0.021741613745689392,\n",
       "   0.09043500572443008,\n",
       "   -0.03182907775044441,\n",
       "   0.0028056111186742783,\n",
       "   0.05688772350549698,\n",
       "   -0.05608247220516205,\n",
       "   0.023299235850572586,\n",
       "   0.03394230827689171,\n",
       "   -0.018382353708148003,\n",
       "   0.017275556921958923,\n",
       "   0.056594278663396835,\n",
       "   0.04060762748122215,\n",
       "   0.08368302136659622,\n",
       "   0.04906388372182846,\n",
       "   0.05867274850606918,\n",
       "   -0.014103743247687817,\n",
       "   -0.055634062737226486,\n",
       "   0.043648041784763336,\n",
       "   0.027002820745110512,\n",
       "   -0.05714808776974678,\n",
       "   -0.0075971572659909725,\n",
       "   -0.07553088665008545,\n",
       "   -0.005173722747713327,\n",
       "   -0.013860335573554039,\n",
       "   -0.009426986798644066,\n",
       "   -0.012020457535982132,\n",
       "   -0.09116341918706894,\n",
       "   -0.024199696257710457,\n",
       "   -0.052017826586961746,\n",
       "   -0.012299178168177605,\n",
       "   0.008503305725753307,\n",
       "   0.05670671537518501,\n",
       "   -0.06236095726490021,\n",
       "   -0.04646452143788338,\n",
       "   -0.004348376765847206,\n",
       "   0.006417136173695326,\n",
       "   -0.00149021006654948,\n",
       "   -0.0014692991971969604,\n",
       "   -0.1063012182712555,\n",
       "   -0.040093857795000076,\n",
       "   -0.06567880511283875,\n",
       "   -0.05545534938573837,\n",
       "   -0.059063203632831573,\n",
       "   -0.020805446431040764,\n",
       "   -0.05755896866321564,\n",
       "   -0.07397705316543579,\n",
       "   -3.6016033403803974e-34,\n",
       "   0.0045088911429047585,\n",
       "   -0.006593094207346439,\n",
       "   0.11448929458856583,\n",
       "   0.06762288510799408,\n",
       "   0.025659916922450066,\n",
       "   0.07137934863567352,\n",
       "   0.05255958437919617,\n",
       "   0.08834436535835266,\n",
       "   0.11077636480331421,\n",
       "   0.015624267049133778,\n",
       "   -0.07437634468078613,\n",
       "   0.04687829688191414,\n",
       "   0.04140544310212135,\n",
       "   0.008243901655077934,\n",
       "   -0.02520371414721012,\n",
       "   -0.006371224299073219,\n",
       "   -0.03682554140686989,\n",
       "   -0.03394046798348427,\n",
       "   0.03471992164850235,\n",
       "   0.012071744538843632,\n",
       "   -0.10182786732912064,\n",
       "   0.03446488454937935,\n",
       "   -0.03881620988249779,\n",
       "   0.06848946213722229,\n",
       "   -0.04960491880774498,\n",
       "   -0.025512536987662315,\n",
       "   0.08256237953901291,\n",
       "   0.07523761689662933,\n",
       "   0.010949810966849327,\n",
       "   0.0695163831114769,\n",
       "   0.020989593118429184,\n",
       "   -0.003136740531772375,\n",
       "   0.02564355917274952,\n",
       "   0.0032694165129214525,\n",
       "   0.008981229737401009,\n",
       "   -0.041150592267513275,\n",
       "   0.026782866567373276,\n",
       "   0.04930116981267929,\n",
       "   0.004871017765253782,\n",
       "   0.015914253890514374,\n",
       "   0.009875423274934292,\n",
       "   0.03113986924290657,\n",
       "   -0.07238336652517319,\n",
       "   0.04149211570620537,\n",
       "   -0.019353456795215607,\n",
       "   0.010872090235352516,\n",
       "   -0.05889623239636421,\n",
       "   0.05749150365591049,\n",
       "   -0.0007495285244658589,\n",
       "   0.04041681066155434,\n",
       "   0.0269437525421381,\n",
       "   0.004621129482984543,\n",
       "   0.009626693092286587,\n",
       "   0.07594744861125946,\n",
       "   -0.08361080288887024,\n",
       "   0.0360313318669796,\n",
       "   -0.01729756034910679,\n",
       "   -0.037989869713783264,\n",
       "   0.023646360263228416,\n",
       "   0.010992703959345818,\n",
       "   -0.09030112624168396,\n",
       "   0.07279463857412338,\n",
       "   -0.08739839494228363,\n",
       "   0.022861724719405174,\n",
       "   0.015447723679244518,\n",
       "   -0.07147610187530518,\n",
       "   -0.06311573833227158,\n",
       "   -0.009822776541113853,\n",
       "   -0.055090852081775665,\n",
       "   -0.0021968050859868526,\n",
       "   -0.0399785190820694,\n",
       "   -0.1295071840286255,\n",
       "   0.028975414112210274,\n",
       "   0.024108292534947395,\n",
       "   0.06090507283806801,\n",
       "   0.031495120376348495,\n",
       "   -0.005806883331388235,\n",
       "   -0.0009417702094651759,\n",
       "   -0.04552137479186058,\n",
       "   0.014551376923918724,\n",
       "   0.0130360908806324,\n",
       "   -0.02564956247806549,\n",
       "   0.03472808003425598,\n",
       "   0.061995990574359894,\n",
       "   0.10786127299070358,\n",
       "   -0.04803253710269928,\n",
       "   -0.029436886310577393,\n",
       "   -0.03608497232198715,\n",
       "   0.06241434067487717,\n",
       "   0.011468682438135147,\n",
       "   0.045672375708818436,\n",
       "   -0.03382854908704758,\n",
       "   0.03347882628440857,\n",
       "   0.00671990355476737,\n",
       "   -0.03750672563910484,\n",
       "   -5.4793886761217436e-08,\n",
       "   0.06105436757206917,\n",
       "   0.07037036865949631,\n",
       "   0.04582124203443527,\n",
       "   0.031522974371910095,\n",
       "   0.10512963682413101,\n",
       "   0.01962043158710003,\n",
       "   0.07189688086509705,\n",
       "   0.01746450923383236,\n",
       "   0.005354848224669695,\n",
       "   0.09412676841020584,\n",
       "   -0.030758878216147423,\n",
       "   0.016664698719978333,\n",
       "   -0.09416399896144867,\n",
       "   -0.08556974679231644,\n",
       "   -0.05706578120589256,\n",
       "   0.036212753504514694,\n",
       "   0.013357060961425304,\n",
       "   -0.03087601065635681,\n",
       "   -0.049284934997558594,\n",
       "   -0.05655871331691742,\n",
       "   0.0034177671186625957,\n",
       "   -0.013086984865367413,\n",
       "   0.03272660821676254,\n",
       "   -0.03634435310959816,\n",
       "   0.016240183264017105,\n",
       "   -0.04316617548465729,\n",
       "   0.01576116494834423,\n",
       "   0.032694220542907715,\n",
       "   -0.06828281283378601,\n",
       "   -0.008216306567192078,\n",
       "   -0.02571071684360504,\n",
       "   -0.004544117953628302,\n",
       "   -0.05842483416199684,\n",
       "   -0.039945561438798904,\n",
       "   -0.025040915235877037,\n",
       "   0.029270198196172714,\n",
       "   -0.02930714190006256,\n",
       "   0.07268612831830978,\n",
       "   0.08485013991594315,\n",
       "   0.052004437893629074,\n",
       "   -0.027202365919947624,\n",
       "   -0.006146837957203388,\n",
       "   -0.020514439791440964,\n",
       "   -0.02894827164709568,\n",
       "   -0.022799313068389893,\n",
       "   0.004302185028791428,\n",
       "   -0.0705045610666275,\n",
       "   0.011013929732143879,\n",
       "   0.02380889654159546,\n",
       "   0.09740335494279861,\n",
       "   -0.030019177123904228,\n",
       "   0.018433334305882454,\n",
       "   0.0010922024957835674,\n",
       "   -0.0012380228145048022,\n",
       "   0.07618974149227142,\n",
       "   -0.06945082545280457,\n",
       "   0.035569194704294205,\n",
       "   0.0010877297027036548,\n",
       "   -0.01752305030822754,\n",
       "   -0.02457129955291748,\n",
       "   0.08138181269168854,\n",
       "   0.04333225265145302,\n",
       "   0.020615162327885628,\n",
       "   -0.04263685271143913],\n",
       "  'metadata': {'title': 'Helter Skelter (Manson scenario)', 'id': 8293}}}"
      ]
     },
     "execution_count": 24,
     "metadata": {},
     "output_type": "execute_result"
    }
   ],
   "source": [
    "dict(es_connection.get(index=\"test_index\", id=random.randint(0, len(documents)-1)))"
   ]
  },
  {
   "cell_type": "markdown",
   "metadata": {},
   "source": [
    "Display the total size and indexing time of the new index in Elasticsearch."
   ]
  },
  {
   "cell_type": "code",
   "execution_count": 26,
   "metadata": {},
   "outputs": [
    {
     "name": "stdout",
     "output_type": "stream",
     "text": [
      "Index size:    270.1 MB\n",
      "Indexing time: 0.35 minutes\n"
     ]
    }
   ],
   "source": [
    "index_stats = es_connection.indices.stats(index=\"test_index\").get('_all').get('primaries')\n",
    "print(\"Index size:    \" + humanize.naturalsize(index_stats.get('store').get('size_in_bytes')))\n",
    "print(\"Indexing time: \" + humanize.precisedelta(index_stats.get('indexing').get('index_time_in_millis')/1000, minimum_unit='minutes'))"
   ]
  },
  {
   "attachments": {},
   "cell_type": "markdown",
   "metadata": {},
   "source": [
    "<a id=\"predict\"></a>\n",
    "## Generate a retrieval-augmented response to a question"
   ]
  },
  {
   "attachments": {},
   "cell_type": "markdown",
   "metadata": {},
   "source": [
    "### Select questions\n",
    "The prompts we will use to test the RAG flow"
   ]
  },
  {
   "cell_type": "code",
   "execution_count": 29,
   "metadata": {},
   "outputs": [],
   "source": [
    "questions = [\n",
    "            'names of founding fathers of the united states?',\n",
    "            'who played in the super bowl in 2013?', \n",
    "            'when did bucharest become the capital of romania?'\n",
    "            ]"
   ]
  },
  {
   "attachments": {},
   "cell_type": "markdown",
   "metadata": {},
   "source": [
    "### Set up a RAG chain\n",
    "\n",
    "Configure a `RetrievalQA` chain (doing question answering) for the FLAN_UL2 WatsonX foundation model and by using LangChain's ElasticsearchStore as document retriever for the knowledge base.\n",
    "\n",
    "**Hint:** To use `langchain.chain` interface with watsonx.ai models you must use the `to_langchain()` method. It returns `WatsonxLLM` wrapper compatible with LangChain CustomLLM specification."
   ]
  },
  {
   "cell_type": "code",
   "execution_count": 30,
   "metadata": {},
   "outputs": [],
   "source": [
    "from langchain.chains import RetrievalQA\n",
    "\n",
    "qa = RetrievalQA.from_chain_type(llm=model.to_langchain(), chain_type=\"stuff\",\n",
    "                                 retriever=knowledge_base.as_retriever(), return_source_documents=True)"
   ]
  },
  {
   "cell_type": "markdown",
   "metadata": {},
   "source": [
    "Answer the test prompts with the RAG chain."
   ]
  },
  {
   "cell_type": "code",
   "execution_count": 31,
   "metadata": {},
   "outputs": [],
   "source": [
    "results = []\n",
    "\n",
    "for question in questions:\n",
    "    result = qa({\"query\": question})\n",
    "    results.append(result)"
   ]
  },
  {
   "attachments": {},
   "cell_type": "markdown",
   "metadata": {},
   "source": [
    "Print the generated results."
   ]
  },
  {
   "cell_type": "code",
   "execution_count": 32,
   "metadata": {},
   "outputs": [
    {
     "name": "stdout",
     "output_type": "stream",
     "text": [
      "=========\n",
      "Question =  names of founding fathers of the united states?\n",
      "Answer =  John Adams , Benjamin Franklin , Alexander Hamilton , John Jay , Thomas Jefferson , James Madison , and George Washington\n",
      "\n",
      "\n",
      "Source documents:\n",
      "Founding Fathers of the United States\n",
      "^ Burstein , Andrew . `` Politics and Personalities : Garry Wills takes a new look at a forgotten founder , slavery and the shaping of America '' , Chicago Tribune ( November 09 , 2003 ) : `` Forgotten founders such as Pickering and Morris made as many waves as those whose faces stare out from our currency . '' ^ Jump up to : Rafael , Ray . The Complete Idiot 's Guide to the Founding Fathers : And the Birth of Our Nation ( Penguin , 2011 ) . Jump up ^ `` Founding Fathers : Virginia '' . FindLaw Constitutional Law Center . 2008 . Retrieved 2008 - 11 - 14 . Jump up ^ Schwartz , Laurens R. Jews and the American Revolution : Haym Solomon and Others , Jefferson , North Carolina : McFarland & Co. , 1987 . Jump up ^ Kendall , Joshua . The Forgotten Founding Father : Noah Webster 's Obsession and the Creation of an American Culture ( Penguin 2011 ) . Jump up ^ Wright , R.E. ( 1996 ) . `` Thomas Willing ( 1731 - 1821 ) : Philadelphia Financier and Forgotten Founding Father '' . Pennsylvania History . 63 ( 4 ) : 525 -- 560 . doi : 10.2307 / 27773931 ( inactive 2017 - 01 - 15 ) . JSTOR 27773931 . Jump up ^ `` A Patriot of Early New England '' , New York Times ( December 20 , 1931 )\n",
      "Founding Fathers of the United States\n",
      "President of Congress Peyton Randolph New Hampshire John Sullivan Nathaniel Folsom Massachusetts Bay Thomas Cushing Samuel Adams John Adams Robert Treat Paine Rhode Island Stephen Hopkins Samuel Ward Connecticut Eliphalet Dyer Roger Sherman Silas Deane New York Isaac Low John Alsop John Jay James Duane Philip Livingston William Floyd Henry Wisner Simon Boerum New Jersey James Kinsey William Livingston Stephen Crane Richard Smith John De Hart Pennsylvania Joseph Galloway John Dickinson Charles Humphreys Thomas Mifflin Edward Biddle John Morton George Ross The Lower Counties Caesar Rodney Thomas McKean George Read Maryland Matthew Tilghman Thomas Johnson , Junr William Paca Samuel Chase Virginia Richard Henry Lee George Washington Patrick Henry , Junr Richard Bland Benjamin Harrison Edmund Pendleton North Carolina William Hooper Joseph Hewes Richard Caswell South Carolina Henry Middleton Thomas Lynch Christopher Gadsden John Rutledge Edward Rutledge See also Virginia Association First Continental Congress Carpenters ' Hall Declaration and Resolves of the First Continental Congress Retrieved from `` https://en.wikipedia.org/w/index.php?title=Founding_Fathers_of_the_United_States&oldid=815247535 '' Categories : Age of Enlightenment American Revolution Articles about multiple people Patriots in the American Revolution Political leaders of the American Revolution National founders Hidden categories : Webarchive template wayback links Pages with DOIs inactive since 2017 Use mdy dates from April 2011 Talk Read Contents About Wikipedia Wikiquote Bân - lâm - gú Башҡортса Bikol Central Български Brezhoneg Català Čeština Cymraeg Deutsch Ελληνικά Español Esperanto فارسی Français 한국어 Հայերեն हिन्दी Ido Bahasa Indonesia Interlingua Íslenska Italiano עברית Latina Lietuvių Magyar Bahasa Melayu Nederlands 日本 語 Norsk Polski Português Română\n",
      "Founding Fathers of the United States\n",
      "Founding Fathers of the United States - wikipedia Founding Fathers of the United States Jump to : navigation , search Declaration of Independence , a painting by John Trumbull depicting the Committee of Five presenting their draft to the Congress on June 28 , 1776 Signature page of Treaty of Paris ( 1783 ) ; the treaty was negotiated by John Adams , Benjamin Franklin and John Jay . The Founding Fathers of the United States were those individuals of the Thirteen Colonies in North America who led the American Revolution against the authority of the British Crown in word and deed and contributed to the establishment of the United States of America . Historian Richard B. Morris in 1973 identified the following seven figures as the key Founding Fathers : John Adams , Benjamin Franklin , Alexander Hamilton , John Jay , Thomas Jefferson , James Madison , and George Washington . Adams , Jefferson , and Franklin were members of the Committee of Five that drafted the Declaration of Independence . Hamilton , Madison , and Jay were authors of The Federalist Papers , advocating ratification of the Constitution . The constitutions drafted by Jay and Adams for their respective states of New York ( 1777 ) and Massachusetts ( 1780 ) were heavily relied upon when creating language for the US Constitution Jay , Adams and Franklin negotiated the Treaty of Paris ( 1783 ) that would end the American Revolutionary War . Washington was Commander -\n",
      "Founding Fathers of the United States\n",
      "Prior to , and during the 19th century , they were referred to as simply the `` Fathers '' . The term has been used to describe the founders and first settlers of the original royal colonies . Contents ( hide ) 1 Background 2 Interesting facts and commonalities 2.1 Education 2.1. 1 Colleges attended 2.1. 2 Advanced degrees and apprenticeships 2.1. 2.1 Doctors of medicine 2.1. 2.2 Theology 2.1. 2.3 Legal apprenticeships 2.1. 3 Self - taught or little formal education 2.2 Demographics 2.3 Political experience 2.4 Occupations and finances 2.5 Religion 2.6 Ownership of slaves and position on slavery 2.7 Attendance at conventions 2.8 Spouses and children 2.9 Charters of freedom and historical documents of the United States 2.10 Post-constitution life 2.11 Youth and longevity 2.12 Founders who were not signatories or delegates 3 Legacy 3.1 Institutions formed by Founders 3.2 Scholarship on the Founders 3.2. 1 Living historians whose focus is the Founding Fathers 3.2. 2 Noted collections of the Founding Fathers 3.3 In stage and film 3.4 Children 's books 4 See also 5 Notes 6 References 7 External links Background ( edit ) The Albany Congress of 1754 was a conference attended by seven colonies , which presaged later efforts at cooperation . The Stamp Act Congress of 1765 included representatives from nine colonies . The First Continental Congress met briefly in Philadelphia , Pennsylvania in 1774 , consisting of fifty - six delegates from twelve of the thirteen colonies ( excluding Georgia ) that\n",
      "\n",
      "\n",
      "=========\n",
      "Question =  who played in the super bowl in 2013?\n",
      "Answer =  Baltimore Ravens 34 , San Francisco 49ers 31\n",
      "\n",
      "\n",
      "Source documents:\n",
      "Super Bowl XLVII\n",
      "responded to the claim on Twitter in jest , tweeting `` There is no conspiracy . I pulled the plug . '' Box score ( edit ) Super Bowl XLVII : Baltimore Ravens 34 , San Francisco 49ers 31 Total Ravens ( AFC ) 7 14 7 6 34 49ers ( NFC ) 17 8 31 at Mercedes - Benz Superdome in New Orleans , Louisiana Date : February 3 , 2013 Game time : 5 : 31 p.m. CST Game weather : Played indoors ( dome stadium ) Game attendance : 71,024 Referee : Jerome Boger TV announcers ( CBS ) : Jim Nantz , Phil Simms , Steve Tasker , Solomon Wilcots Gamebook ( hide ) Scoring summary Quarter Time Drive Team Scoring information Score Plays Yards TOP BAL SF 10 : 36 6 51 2 : 29 BAL Anquan Boldin 13 - yard touchdown reception from Joe Flacco , Justin Tucker kick good 7 0 3 : 58 12 62 6 : 38 SF 36 - yard field goal by David Akers 7 7 : 10 10 75 4 : 43 BAL Dennis Pitta 1 - yard touchdown reception from Flacco , Tucker kick good 14 1 : 45 56 0 : 22 BAL Jacoby Jones 56 - yard touchdown reception from Flacco , Tucker kick good 21 0 : 00 8 71 1 : 45 SF 27 - yard field goal by Akers 21 6 14 : 49 -- -- -- BAL J. Jones 108 -\n",
      "Super Bowl XLVII\n",
      "for the 2012 season . The Ravens defeated the 49ers by the score of 34 -- 31 , handing the 49ers their first Super Bowl loss in franchise history . The game was played on February 3 , 2013 , at Mercedes - Benz Superdome in New Orleans , Louisiana . This was the tenth Super Bowl to be played in New Orleans , equaling Miami 's record of ten in an individual city . For the first time in Super Bowl history , the game featured two brothers coaching against each other -- Jim and John Harbaugh , head coaches of the San Francisco 49ers and Baltimore Ravens , respectively -- earning it the nickname Harbaugh Bowl . In addition , Super Bowl XLVII was the first to feature two teams that had undefeated records in previous Super Bowl games ( Baltimore , 1 -- 0 ; San Francisco , 5 -- 0 ) . The 49ers , who posted a regular - season record of 11 -- 4 -- 1 , entered the game seeking their sixth Super Bowl win in team history ( and first since Super Bowl XXIX at the end of the 1994 season ) , which would have tied the Pittsburgh Steelers for the most by a franchise . The Ravens , who posted a 10 -- 6 regular - season record , made their second Super Bowl appearance in 12 years , having previously won Super Bowl XXXV . Ray Lewis , the\n",
      "List of Super Bowl champions\n",
      ". About Wikipedia\n",
      "List of Super Bowl champions\n",
      ". About Wikipedia\n",
      "\n",
      "\n",
      "=========\n",
      "Question =  when did bucharest become the capital of romania?\n",
      "Answer =  1862\n",
      "\n",
      "\n",
      "Source documents:\n",
      "Bucharest\n",
      "EU ) Density 9,237 / km ( 23,920 / sq mi ) Metro 2,412,530 Demonym ( s ) Bucharester ( en ) bucureștean , bucureșteancă ( ro ) Time zone UTC + 2 ( EET ) Summer ( DST ) UTC + 3 ( EEST ) Postal code 0xxxxx Area code ( s ) + 40 x1 Car plate prefix GDP ( Nominal ) € 47 billion - Per capita PPP € 40,400 -- Per capita € 20,000 Website pmb.ro Romanian law stipulates that Bucharest has a special administrative status which is equal to that of a County ; Bucharest metropolitan area is a proposed project . Bucharest ( / ˈb ( j ) uː kərɛst / ; Romanian : București ( bukuˈreʃtj ) ( listen ) ) is the capital and largest city of Romania , as well as its cultural , industrial , and financial centre . It is located in the southeast of the country , at 44 ° 25 ′ 57 '' N 26 ° 06 ′ 14 '' E ﻿ / ﻿ 44.43250 ° N 26.10389 ° E ﻿ / 44.43250 ; 26.10389 Coordinates : 44 ° 25 ′ 57 '' N 26 ° 06 ′ 14 '' E ﻿ / ﻿ 44.43250 ° N 26.10389 ° E ﻿ / 44.43250 ; 26.10389 , on the banks of the Dâmbovița River , less than 60 km ( 37.3 mi ) north of the Danube River and the Bulgarian border . Bucharest was first mentioned in\n",
      "Bucharest\n",
      "The Architecture of Bucharest , 1920 -- 1940 Romania : Arts & Architecture , Romanian Tourist Office Tatiana Murzin , Romanian Education , 2005 Romanian Education Portal , Site for the Ministry of Education containing lists of all educational establishments . Bucharest , the small Paris of the East , on the Museums from Romania web site . Bucica , Cristina . `` Legitimating Power in Capital Cities : Bucharest -- Continuity Through Radical Change ? '' ( PDF ) . Archived from the original ( PDF ) on 28 October 2005 . ( 39.0 KB ) , 2000 . External links ( edit ) Find more aboutBucharestat Wikipedia 's sister projects Definitions from Wiktionary Media from Wikimedia Commons News from Wikinews Quotations from Wikiquote Texts from Wikisource Textbooks from Wikibooks Travel guide from Wikivoyage Learning resources from Wikiversity Bucharest : Official administration site Links to related articles Transport in Bucharest Operators Metro Metrorex Bus RATB Serviciul Transport Voluntari ( STV ) Tram and Trolleybus RATB Mass transit Metro M1 M2 M3 M4 M5 ( under construction ) M6 ( planned ) M7 ( planned ) List of Bucharest metro stations Bus List of bus routes in Bucharest Night Buses Tram List of tram routes in Bucharest Bucharest Light rail Trolleybus List of trolleybus routes in Bucharest Rail Stations Bucharest North Basarab Băneasa Bucharest South / Cățelu Titan Sud Bucharest Carpați Bucharest East / Obor Bucharest Triaj Bucharest West Bucureștii Noi Pajura Pantelimon South Progresul Operators Astra Trans Carpatic CFR\n",
      "Bucharest\n",
      "Bucharest - wikipedia Bucharest This article contains too many pictures , charts or diagrams for its overall length . Please help to improve this article by removing or adjusting the sandwiching of text between two images and indiscriminate galleries in accordance with the Manual of Style on use of images . ( Learn how and when to remove this template message ) Capital city in None , Romania Bucharest București Capital city From top , left to right : Central University Library Palace of the Parliament Arcul de Triumf Romanian Athenaeum Modernist skyscrapers CEC Palace Royal Palace of Bucharest Flag Coat of arms Nickname ( s ) : Micul Paris ( The Little Paris ) , Paris of the East Motto ( s ) : Patria și dreptul meu ( The Homeland and my right ) Bucharest Location of Bucharest in Romania Show map of Romania Bucharest Bucharest ( Europe ) Show map of Europe Coordinates : 44 ° 25 ′ 57 '' N 26 ° 6 ′ 14 '' E ﻿ / ﻿ 44.43250 ° N 26.10389 ° E ﻿ / 44.43250 ; 26.10389 Country Romania County None First attested 1459 Government Mayor Gabriela Firea ( PSD ) Prefect Speranţa Cliseru Area Capital city 228 km ( 88 sq mi ) Urban 285 km ( 110 sq mi ) Elevation 55.8 -- 91.5 m ( 183.1 -- 300.2 ft ) Population ( 2011 ) Capital city 1,883,425 Estimate ( 2016 ) 2,106,144 Rank 1st in Romania ( 6th in\n",
      "Bucharest\n",
      "destroying a third of the city . Ottoman massacre of Greek irregulars in Bucharest ( August , 1821 ) In 1862 , after Wallachia and Moldavia were united to form the Principality of Romania , Bucharest became the new nation 's capital city . In 1881 , it became the political centre of the newly proclaimed Kingdom of Romania under King Carol I. During the second half of the 19th century , the city 's population increased dramatically , and a new period of urban development began . During this period , gas lighting , horse - drawn trams , and limited electrification were introduced . The Dâmbovița River was also massively channelled in 1883 , thus putting a stop to previously endemic floods like the 1865 flooding of Bucharest . The Fortifications of Bucharest were built . The extravagant architecture and cosmopolitan high culture of this period won Bucharest the nickname of `` Little Paris '' ( Micul Paris ) of the east , with Calea Victoriei as its Champs - Élysées . I.C. Brătianu Boulevard in the 1930s Between 6 December 1916 and November 1918 , the city was occupied by German forces as a result of the Battle of Bucharest , with the official capital temporarily moved to Iași , in the Moldavia region . After World War I , Bucharest became the capital of Greater Romania . In the interwar years , Bucharest 's urban development continued , with the city gaining an average of 30,000\n",
      "\n",
      "\n"
     ]
    }
   ],
   "source": [
    "for idx, result in enumerate(results):\n",
    "    print(\"=========\")\n",
    "    print(\"Question = \", result['query'])\n",
    "    print(\"Answer = \", result['result'])\n",
    "    print(\"\\n\")\n",
    "    print(\"Source documents:\")\n",
    "    print(*(x.page_content for x in result['source_documents']), sep='\\n')\n",
    "    print(\"\\n\")\n",
    "    "
   ]
  },
  {
   "attachments": {},
   "cell_type": "markdown",
   "metadata": {},
   "source": [
    "---"
   ]
  },
  {
   "attachments": {},
   "cell_type": "markdown",
   "metadata": {},
   "source": [
    "Copyright © 2023 IBM. This notebook and its source code are released under the terms of the MIT License."
   ]
  }
 ],
 "metadata": {
  "kernelspec": {
   "display_name": "Python 3 (ipykernel)",
   "language": "python",
   "name": "python3"
  },
  "language_info": {
   "codemirror_mode": {
    "name": "ipython",
    "version": 3
   },
   "file_extension": ".py",
   "mimetype": "text/x-python",
   "name": "python",
   "nbconvert_exporter": "python",
   "pygments_lexer": "ipython3",
   "version": "3.11.5"
  }
 },
 "nbformat": 4,
 "nbformat_minor": 4
}
